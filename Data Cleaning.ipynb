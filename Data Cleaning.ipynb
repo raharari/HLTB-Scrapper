{
 "cells": [
  {
   "cell_type": "markdown",
   "metadata": {},
   "source": [
    "# Data Cleaning y EDA"
   ]
  },
  {
   "cell_type": "code",
   "execution_count": 1,
   "metadata": {},
   "outputs": [],
   "source": [
    "# Librerias necesarias\n",
    "import pandas as pd\n",
    "import numpy as np\n",
    "import seaborn as sns\n",
    "import matplotlib.pyplot as plt\n",
    "import plotly.plotly as py\n",
    "import plotly.graph_objs as go"
   ]
  },
  {
   "cell_type": "markdown",
   "metadata": {},
   "source": [
    "## Arreglos realizados en Excel"
   ]
  },
  {
   "cell_type": "markdown",
   "metadata": {},
   "source": [
    " - Se separo el archivo en las columnas correspondientes\n",
    " - En las columnas con informacion de tiempos de completitud se modifico los casos en donde figuran horas fraccionarias (1/2 hours) por 0,5.\n",
    " - Por otro lado, en las mismas columnas, donde figuraba el tiempo en minutos, se transformo en su equivalente en horas (en formato float)\n",
    " - Los campos incompletos (en donde el scrapper no encontro informacion) se modificaron de ***\"--\"*** a nulos.\n",
    " - En los campos sin Rating (NR) se modificaron a nulos.\n",
    " - Se eliminaron los juegos con Type \"DLC\", \"Expansion\", etc. De esta manera solo con quedamos con jueos completos.\n"
   ]
  },
  {
   "cell_type": "code",
   "execution_count": 2,
   "metadata": {},
   "outputs": [],
   "source": [
    "# Importo el archivo con la base de datos\n",
    "filepath = 'C:/Users/Ramiro/Desktop/Digital House/Desafios/HLTB Scrapper/HowLongToBeat DB.xlsx'\n",
    "\n",
    "df = pd.read_excel(filepath)"
   ]
  },
  {
   "cell_type": "code",
   "execution_count": 4,
   "metadata": {},
   "outputs": [
    {
     "name": "stdout",
     "output_type": "stream",
     "text": [
      "<class 'pandas.core.frame.DataFrame'>\n",
      "RangeIndex: 48157 entries, 0 to 48156\n",
      "Data columns (total 15 columns):\n",
      "Id               48157 non-null int64\n",
      "Titulo           48157 non-null object\n",
      "Main Story       15165 non-null float64\n",
      "Main + Extras    9929 non-null float64\n",
      "Completionist    11180 non-null float64\n",
      "All Styles       18386 non-null float64\n",
      "Rating           19973 non-null float64\n",
      "Developers       27844 non-null object\n",
      "Publishers       26637 non-null object\n",
      "Playable On      16915 non-null object\n",
      "Genres           27406 non-null object\n",
      "NA               25709 non-null object\n",
      "EU               10630 non-null object\n",
      "JP               4751 non-null object\n",
      "Updated          48007 non-null object\n",
      "dtypes: float64(5), int64(1), object(9)\n",
      "memory usage: 5.5+ MB\n"
     ]
    }
   ],
   "source": [
    "df.info()"
   ]
  },
  {
   "cell_type": "code",
   "execution_count": 5,
   "metadata": {},
   "outputs": [
    {
     "data": {
      "text/html": [
       "<div>\n",
       "<style scoped>\n",
       "    .dataframe tbody tr th:only-of-type {\n",
       "        vertical-align: middle;\n",
       "    }\n",
       "\n",
       "    .dataframe tbody tr th {\n",
       "        vertical-align: top;\n",
       "    }\n",
       "\n",
       "    .dataframe thead th {\n",
       "        text-align: right;\n",
       "    }\n",
       "</style>\n",
       "<table border=\"1\" class=\"dataframe\">\n",
       "  <thead>\n",
       "    <tr style=\"text-align: right;\">\n",
       "      <th></th>\n",
       "      <th>Id</th>\n",
       "      <th>Titulo</th>\n",
       "      <th>Main Story</th>\n",
       "      <th>Main + Extras</th>\n",
       "      <th>Completionist</th>\n",
       "      <th>All Styles</th>\n",
       "      <th>Rating</th>\n",
       "      <th>Developers</th>\n",
       "      <th>Publishers</th>\n",
       "      <th>Playable On</th>\n",
       "      <th>Genres</th>\n",
       "      <th>NA</th>\n",
       "      <th>EU</th>\n",
       "      <th>JP</th>\n",
       "      <th>Updated</th>\n",
       "    </tr>\n",
       "  </thead>\n",
       "  <tbody>\n",
       "    <tr>\n",
       "      <th>32819</th>\n",
       "      <td>42133</td>\n",
       "      <td>Golden Yoshi's Island</td>\n",
       "      <td>NaN</td>\n",
       "      <td>NaN</td>\n",
       "      <td>NaN</td>\n",
       "      <td>NaN</td>\n",
       "      <td>60.0</td>\n",
       "      <td>NaN</td>\n",
       "      <td>NaN</td>\n",
       "      <td>NaN</td>\n",
       "      <td>NaN</td>\n",
       "      <td>NaN</td>\n",
       "      <td>NaN</td>\n",
       "      <td>NaN</td>\n",
       "      <td>1.5 Years Ago</td>\n",
       "    </tr>\n",
       "    <tr>\n",
       "      <th>37924</th>\n",
       "      <td>48594</td>\n",
       "      <td>Laseronium: The Line</td>\n",
       "      <td>NaN</td>\n",
       "      <td>NaN</td>\n",
       "      <td>2.0</td>\n",
       "      <td>2.0</td>\n",
       "      <td>60.0</td>\n",
       "      <td>NaN</td>\n",
       "      <td>NaN</td>\n",
       "      <td>NaN</td>\n",
       "      <td>NaN</td>\n",
       "      <td>July 13, 2017</td>\n",
       "      <td>NaN</td>\n",
       "      <td>NaN</td>\n",
       "      <td>1 Year Ago</td>\n",
       "    </tr>\n",
       "    <tr>\n",
       "      <th>34395</th>\n",
       "      <td>44204</td>\n",
       "      <td>Hiryu no Ken S: Golden Fighter</td>\n",
       "      <td>NaN</td>\n",
       "      <td>NaN</td>\n",
       "      <td>NaN</td>\n",
       "      <td>NaN</td>\n",
       "      <td>NaN</td>\n",
       "      <td>NaN</td>\n",
       "      <td>NaN</td>\n",
       "      <td>NaN</td>\n",
       "      <td>NaN</td>\n",
       "      <td>NaN</td>\n",
       "      <td>NaN</td>\n",
       "      <td>NaN</td>\n",
       "      <td>1.5 Years Ago</td>\n",
       "    </tr>\n",
       "    <tr>\n",
       "      <th>24679</th>\n",
       "      <td>30935</td>\n",
       "      <td>Brawl Busters</td>\n",
       "      <td>NaN</td>\n",
       "      <td>NaN</td>\n",
       "      <td>NaN</td>\n",
       "      <td>NaN</td>\n",
       "      <td>NaN</td>\n",
       "      <td>SkeinGlobe</td>\n",
       "      <td>Rock Hippo Productions</td>\n",
       "      <td>NaN</td>\n",
       "      <td>Action</td>\n",
       "      <td>December 15, 2011</td>\n",
       "      <td>NaN</td>\n",
       "      <td>NaN</td>\n",
       "      <td>1 Month Ago</td>\n",
       "    </tr>\n",
       "    <tr>\n",
       "      <th>9334</th>\n",
       "      <td>10696</td>\n",
       "      <td>Tunnel Rats</td>\n",
       "      <td>NaN</td>\n",
       "      <td>NaN</td>\n",
       "      <td>NaN</td>\n",
       "      <td>NaN</td>\n",
       "      <td>NaN</td>\n",
       "      <td>Replay Studios</td>\n",
       "      <td>Boll AG</td>\n",
       "      <td>NaN</td>\n",
       "      <td>First-Person, Shooter</td>\n",
       "      <td>May 15, 2009</td>\n",
       "      <td>NaN</td>\n",
       "      <td>NaN</td>\n",
       "      <td>2 Years Ago</td>\n",
       "    </tr>\n",
       "    <tr>\n",
       "      <th>26876</th>\n",
       "      <td>33751</td>\n",
       "      <td>Water Ski</td>\n",
       "      <td>NaN</td>\n",
       "      <td>NaN</td>\n",
       "      <td>NaN</td>\n",
       "      <td>NaN</td>\n",
       "      <td>NaN</td>\n",
       "      <td>NaN</td>\n",
       "      <td>NaN</td>\n",
       "      <td>NaN</td>\n",
       "      <td>NaN</td>\n",
       "      <td>NaN</td>\n",
       "      <td>NaN</td>\n",
       "      <td>NaN</td>\n",
       "      <td>2 Years Ago</td>\n",
       "    </tr>\n",
       "    <tr>\n",
       "      <th>24920</th>\n",
       "      <td>31222</td>\n",
       "      <td>Wacky Races: Crash &amp; Dash</td>\n",
       "      <td>NaN</td>\n",
       "      <td>NaN</td>\n",
       "      <td>NaN</td>\n",
       "      <td>NaN</td>\n",
       "      <td>50.0</td>\n",
       "      <td>Eidos Interactive</td>\n",
       "      <td>Eidos Interactive</td>\n",
       "      <td>NaN</td>\n",
       "      <td>Racing</td>\n",
       "      <td>June 17, 2008</td>\n",
       "      <td>NaN</td>\n",
       "      <td>NaN</td>\n",
       "      <td>6.5 Months Ago</td>\n",
       "    </tr>\n",
       "    <tr>\n",
       "      <th>13924</th>\n",
       "      <td>16745</td>\n",
       "      <td>Midnight Nowhere</td>\n",
       "      <td>13.0</td>\n",
       "      <td>NaN</td>\n",
       "      <td>NaN</td>\n",
       "      <td>13.0</td>\n",
       "      <td>50.0</td>\n",
       "      <td>Saturn Plus</td>\n",
       "      <td>Buka Entertainment</td>\n",
       "      <td>PC</td>\n",
       "      <td>Third-Person, Adventure</td>\n",
       "      <td>March 15, 2004</td>\n",
       "      <td>NaN</td>\n",
       "      <td>NaN</td>\n",
       "      <td>2 Years Ago</td>\n",
       "    </tr>\n",
       "    <tr>\n",
       "      <th>5087</th>\n",
       "      <td>5789</td>\n",
       "      <td>Medal of Honor: Underground</td>\n",
       "      <td>12.0</td>\n",
       "      <td>12.5</td>\n",
       "      <td>13.0</td>\n",
       "      <td>12.0</td>\n",
       "      <td>75.0</td>\n",
       "      <td>DreamWorks Interactive</td>\n",
       "      <td>Electronic Arts</td>\n",
       "      <td>Game Boy Advance, PlayStation</td>\n",
       "      <td>First-Person, Shooter</td>\n",
       "      <td>October 23, 2000</td>\n",
       "      <td>December 01, 2000</td>\n",
       "      <td>NaN</td>\n",
       "      <td>1 Day Ago</td>\n",
       "    </tr>\n",
       "    <tr>\n",
       "      <th>34377</th>\n",
       "      <td>44186</td>\n",
       "      <td>Hayazashi Nidan: Morita Shougi</td>\n",
       "      <td>NaN</td>\n",
       "      <td>NaN</td>\n",
       "      <td>NaN</td>\n",
       "      <td>NaN</td>\n",
       "      <td>NaN</td>\n",
       "      <td>NaN</td>\n",
       "      <td>NaN</td>\n",
       "      <td>NaN</td>\n",
       "      <td>NaN</td>\n",
       "      <td>NaN</td>\n",
       "      <td>NaN</td>\n",
       "      <td>NaN</td>\n",
       "      <td>1.5 Years Ago</td>\n",
       "    </tr>\n",
       "  </tbody>\n",
       "</table>\n",
       "</div>"
      ],
      "text/plain": [
       "          Id                          Titulo  Main Story  Main + Extras  \\\n",
       "32819  42133           Golden Yoshi's Island         NaN            NaN   \n",
       "37924  48594            Laseronium: The Line         NaN            NaN   \n",
       "34395  44204  Hiryu no Ken S: Golden Fighter         NaN            NaN   \n",
       "24679  30935                   Brawl Busters         NaN            NaN   \n",
       "9334   10696                     Tunnel Rats         NaN            NaN   \n",
       "26876  33751                       Water Ski         NaN            NaN   \n",
       "24920  31222       Wacky Races: Crash & Dash         NaN            NaN   \n",
       "13924  16745                Midnight Nowhere        13.0            NaN   \n",
       "5087    5789     Medal of Honor: Underground        12.0           12.5   \n",
       "34377  44186  Hayazashi Nidan: Morita Shougi         NaN            NaN   \n",
       "\n",
       "       Completionist  All Styles  Rating              Developers  \\\n",
       "32819            NaN         NaN    60.0                     NaN   \n",
       "37924            2.0         2.0    60.0                     NaN   \n",
       "34395            NaN         NaN     NaN                     NaN   \n",
       "24679            NaN         NaN     NaN              SkeinGlobe   \n",
       "9334             NaN         NaN     NaN          Replay Studios   \n",
       "26876            NaN         NaN     NaN                     NaN   \n",
       "24920            NaN         NaN    50.0       Eidos Interactive   \n",
       "13924            NaN        13.0    50.0             Saturn Plus   \n",
       "5087            13.0        12.0    75.0  DreamWorks Interactive   \n",
       "34377            NaN         NaN     NaN                     NaN   \n",
       "\n",
       "                   Publishers                    Playable On  \\\n",
       "32819                     NaN                            NaN   \n",
       "37924                     NaN                            NaN   \n",
       "34395                     NaN                            NaN   \n",
       "24679  Rock Hippo Productions                            NaN   \n",
       "9334                  Boll AG                            NaN   \n",
       "26876                     NaN                            NaN   \n",
       "24920       Eidos Interactive                            NaN   \n",
       "13924      Buka Entertainment                             PC   \n",
       "5087          Electronic Arts  Game Boy Advance, PlayStation   \n",
       "34377                     NaN                            NaN   \n",
       "\n",
       "                        Genres                  NA                  EU   JP  \\\n",
       "32819                      NaN                 NaN                 NaN  NaN   \n",
       "37924                      NaN       July 13, 2017                 NaN  NaN   \n",
       "34395                      NaN                 NaN                 NaN  NaN   \n",
       "24679                   Action   December 15, 2011                 NaN  NaN   \n",
       "9334     First-Person, Shooter        May 15, 2009                 NaN  NaN   \n",
       "26876                      NaN                 NaN                 NaN  NaN   \n",
       "24920                   Racing       June 17, 2008                 NaN  NaN   \n",
       "13924  Third-Person, Adventure      March 15, 2004                 NaN  NaN   \n",
       "5087     First-Person, Shooter    October 23, 2000   December 01, 2000  NaN   \n",
       "34377                      NaN                 NaN                 NaN  NaN   \n",
       "\n",
       "               Updated  \n",
       "32819    1.5 Years Ago  \n",
       "37924       1 Year Ago  \n",
       "34395    1.5 Years Ago  \n",
       "24679      1 Month Ago  \n",
       "9334       2 Years Ago  \n",
       "26876      2 Years Ago  \n",
       "24920   6.5 Months Ago  \n",
       "13924      2 Years Ago  \n",
       "5087         1 Day Ago  \n",
       "34377    1.5 Years Ago  "
      ]
     },
     "execution_count": 5,
     "metadata": {},
     "output_type": "execute_result"
    }
   ],
   "source": [
    "#Analizamos como esta compuesto el archivo\n",
    "df.sample(10)"
   ]
  },
  {
   "cell_type": "markdown",
   "metadata": {},
   "source": [
    "El dataset esta compuesto por 48.157 observaciones con los siguientes campos:\n",
    " - __Id__: Id en la web de How Long To Beat\n",
    " - __Titulo__: Nombre del videojuego\n",
    " - __Main Story__: El tiempo necesario para completar la historia principal\n",
    " - __Main Story + Extras__: El tiempo necesario para completar la historia principal y los \"sidequests\"\n",
    " - __Completionist__: El tiempo necesario para completar el juego al 100%\n",
    " - __All Styles__: Un tiempo aproximado de los distintos estilos combinados\n",
    " - __Rating__: Score otorgado al juego\n",
    " - __Developer__: Lista de Desarrolladores\n",
    " - __Publishers__: Lista de compañias que publicaron el juego\n",
    " - __Playable On__: Consolas en las cuales esta disponible el juego\n",
    " - __Genres__: Generos a los cuales pertenece el juego\n",
    " - __NA__: Fecha de lanzamiento en Norteamerica\n",
    " - __EU__: Fecha de lanzamiento en Europa\n",
    " - __JP__: Fecha de lanzamiento en Japon\n",
    " - __Updated__: Ultima actualizacion de la informacion del juego"
   ]
  },
  {
   "cell_type": "markdown",
   "metadata": {},
   "source": [
    "Como era de esperarse, del scrapping inicial hace falta hacer una limpieza para poder dejar listos los datos para el modelado.\n",
    "Encontramos los siguientes problemas:\n",
    " - Las columnas de tiempos queremos redondearlas a dos decimales.\n",
    " - Queremos que el indice del df sea el numero de id del juego en la web para poder hacer un rastreo del mismo\n",
    " - Queremos separar las columnas de Genres, Playable On, Developers y Publishers en dummies para el modelo\n",
    " - Las columnas de Developers, Publishers, Playable On y Genres queremos que esten todas en mayusculas, para que a la hora de separarlos, no haya diferencia entre uppercase o lowercase\n"
   ]
  },
  {
   "cell_type": "code",
   "execution_count": 3,
   "metadata": {},
   "outputs": [],
   "source": [
    "#Arreglamos las columnas con ceros extra\n",
    "df['Main Story'] = df['Main Story'].astype(float).round(2)\n",
    "df['Main + Extras'] = df['Main + Extras'].astype(float).round(2)\n",
    "df['Completionist'] = df['Completionist'].astype(float).round(2)\n",
    "df['All Styles'] = df['All Styles'].astype(float).round(2)"
   ]
  },
  {
   "cell_type": "code",
   "execution_count": 4,
   "metadata": {},
   "outputs": [],
   "source": [
    "#Pasamos las columnas a UPPER\n",
    "df['Genres'] = df['Genres'].str.upper()\n",
    "df['Developers'] = df['Developers'].str.upper()\n",
    "df['Publishers'] = df['Publishers'].str.upper()\n",
    "df['Playable On'] = df['Playable On'].str.upper()"
   ]
  },
  {
   "cell_type": "code",
   "execution_count": 6,
   "metadata": {},
   "outputs": [
    {
     "data": {
      "text/html": [
       "<div>\n",
       "<style scoped>\n",
       "    .dataframe tbody tr th:only-of-type {\n",
       "        vertical-align: middle;\n",
       "    }\n",
       "\n",
       "    .dataframe tbody tr th {\n",
       "        vertical-align: top;\n",
       "    }\n",
       "\n",
       "    .dataframe thead th {\n",
       "        text-align: right;\n",
       "    }\n",
       "</style>\n",
       "<table border=\"1\" class=\"dataframe\">\n",
       "  <thead>\n",
       "    <tr style=\"text-align: right;\">\n",
       "      <th></th>\n",
       "      <th>Id</th>\n",
       "      <th>Titulo</th>\n",
       "      <th>Main Story</th>\n",
       "      <th>Main + Extras</th>\n",
       "      <th>Completionist</th>\n",
       "      <th>All Styles</th>\n",
       "      <th>Rating</th>\n",
       "      <th>Developers</th>\n",
       "      <th>Publishers</th>\n",
       "      <th>Playable On</th>\n",
       "      <th>Genres</th>\n",
       "      <th>NA</th>\n",
       "      <th>EU</th>\n",
       "      <th>JP</th>\n",
       "      <th>Updated</th>\n",
       "    </tr>\n",
       "  </thead>\n",
       "  <tbody>\n",
       "    <tr>\n",
       "      <th>0</th>\n",
       "      <td>1</td>\n",
       "      <td>688(I) Hunter/Killer</td>\n",
       "      <td>9.5</td>\n",
       "      <td>24.0</td>\n",
       "      <td>50.5</td>\n",
       "      <td>15.5</td>\n",
       "      <td>NaN</td>\n",
       "      <td>SONALYSTS</td>\n",
       "      <td>ELECTRONIC ARTS</td>\n",
       "      <td>PC</td>\n",
       "      <td>SIMULATION</td>\n",
       "      <td>July 04, 1997</td>\n",
       "      <td>NaN</td>\n",
       "      <td>NaN</td>\n",
       "      <td>1 Month Ago</td>\n",
       "    </tr>\n",
       "    <tr>\n",
       "      <th>1</th>\n",
       "      <td>2</td>\n",
       "      <td>Beyond Good &amp; Evil 2</td>\n",
       "      <td>NaN</td>\n",
       "      <td>NaN</td>\n",
       "      <td>NaN</td>\n",
       "      <td>NaN</td>\n",
       "      <td>NaN</td>\n",
       "      <td>UBISOFT MONTPELLIER</td>\n",
       "      <td>UBISOFT</td>\n",
       "      <td>NaN</td>\n",
       "      <td>ACTION, ADVENTURE</td>\n",
       "      <td>2016</td>\n",
       "      <td>NaN</td>\n",
       "      <td>NaN</td>\n",
       "      <td>3.5 Months Ago</td>\n",
       "    </tr>\n",
       "    <tr>\n",
       "      <th>2</th>\n",
       "      <td>10</td>\n",
       "      <td>Ico and Shadow of the Colossus Collection</td>\n",
       "      <td>NaN</td>\n",
       "      <td>NaN</td>\n",
       "      <td>NaN</td>\n",
       "      <td>NaN</td>\n",
       "      <td>NaN</td>\n",
       "      <td>NaN</td>\n",
       "      <td>NaN</td>\n",
       "      <td>NaN</td>\n",
       "      <td>NaN</td>\n",
       "      <td>NaN</td>\n",
       "      <td>NaN</td>\n",
       "      <td>NaN</td>\n",
       "      <td>2 Years Ago</td>\n",
       "    </tr>\n",
       "    <tr>\n",
       "      <th>3</th>\n",
       "      <td>16</td>\n",
       "      <td>Shadow of the Comet</td>\n",
       "      <td>NaN</td>\n",
       "      <td>NaN</td>\n",
       "      <td>NaN</td>\n",
       "      <td>NaN</td>\n",
       "      <td>NaN</td>\n",
       "      <td>NaN</td>\n",
       "      <td>NaN</td>\n",
       "      <td>NaN</td>\n",
       "      <td>NaN</td>\n",
       "      <td>NaN</td>\n",
       "      <td>NaN</td>\n",
       "      <td>NaN</td>\n",
       "      <td>2 Years Ago</td>\n",
       "    </tr>\n",
       "    <tr>\n",
       "      <th>4</th>\n",
       "      <td>18</td>\n",
       "      <td>'Splosion Man</td>\n",
       "      <td>8.0</td>\n",
       "      <td>10.0</td>\n",
       "      <td>18.0</td>\n",
       "      <td>9.5</td>\n",
       "      <td>76.0</td>\n",
       "      <td>TWISTED PIXEL GAMES</td>\n",
       "      <td>MICROSOFT GAMES STUDIOS</td>\n",
       "      <td>XBOX 360</td>\n",
       "      <td>ACTION, PLATFORMER</td>\n",
       "      <td>July 22, 2009</td>\n",
       "      <td>July 22, 2009</td>\n",
       "      <td>NaN</td>\n",
       "      <td>21.5 Hours Ago</td>\n",
       "    </tr>\n",
       "  </tbody>\n",
       "</table>\n",
       "</div>"
      ],
      "text/plain": [
       "   Id                                     Titulo  Main Story  Main + Extras  \\\n",
       "0   1                       688(I) Hunter/Killer         9.5           24.0   \n",
       "1   2                       Beyond Good & Evil 2         NaN            NaN   \n",
       "2  10  Ico and Shadow of the Colossus Collection         NaN            NaN   \n",
       "3  16                        Shadow of the Comet         NaN            NaN   \n",
       "4  18                              'Splosion Man         8.0           10.0   \n",
       "\n",
       "   Completionist  All Styles  Rating           Developers  \\\n",
       "0           50.5        15.5     NaN            SONALYSTS   \n",
       "1            NaN         NaN     NaN  UBISOFT MONTPELLIER   \n",
       "2            NaN         NaN     NaN                  NaN   \n",
       "3            NaN         NaN     NaN                  NaN   \n",
       "4           18.0         9.5    76.0  TWISTED PIXEL GAMES   \n",
       "\n",
       "                Publishers Playable On              Genres              NA  \\\n",
       "0          ELECTRONIC ARTS          PC          SIMULATION   July 04, 1997   \n",
       "1                  UBISOFT         NaN   ACTION, ADVENTURE            2016   \n",
       "2                      NaN         NaN                 NaN             NaN   \n",
       "3                      NaN         NaN                 NaN             NaN   \n",
       "4  MICROSOFT GAMES STUDIOS    XBOX 360  ACTION, PLATFORMER   July 22, 2009   \n",
       "\n",
       "               EU   JP          Updated  \n",
       "0             NaN  NaN      1 Month Ago  \n",
       "1             NaN  NaN   3.5 Months Ago  \n",
       "2             NaN  NaN      2 Years Ago  \n",
       "3             NaN  NaN      2 Years Ago  \n",
       "4   July 22, 2009  NaN   21.5 Hours Ago  "
      ]
     },
     "execution_count": 6,
     "metadata": {},
     "output_type": "execute_result"
    }
   ],
   "source": [
    "#Veamos algunos casos\n",
    "df.head()"
   ]
  },
  {
   "cell_type": "markdown",
   "metadata": {},
   "source": [
    "## Existe alguna correlacion entre las variables continuas?"
   ]
  },
  {
   "cell_type": "code",
   "execution_count": 12,
   "metadata": {},
   "outputs": [
    {
     "data": {
      "image/png": "[encoded data removed]",
      "text/plain": [
       "<matplotlib.figure.Figure at 0x203a26412b0>"
      ]
     },
     "metadata": {},
     "output_type": "display_data"
    }
   ],
   "source": [
    "#Graficamos la matriz de correlacion\n",
    "fig, ax = plt.subplots(figsize=(15,15))       \n",
    "sns.heatmap(df.drop(columns = 'Id').corr() , square=True, annot=True, ax=ax);"
   ]
  },
  {
   "cell_type": "markdown",
   "metadata": {},
   "source": [
    "Como puede apreciarse, es logico que haya una fuerte correlacion entre los distintos estilos de \"completitud\", ya que por lo general uno es dependiente de algun otro (sobre todo \"All Styles\" que es un promedio del resto).<br>\n",
    "Lo interesante, es que pareceria que no existiese una fuerte relacion entre el tiempo que dura un juego y su Rating."
   ]
  },
  {
   "cell_type": "markdown",
   "metadata": {},
   "source": [
    "# Analicemos algunas estadisticas del dataset"
   ]
  },
  {
   "cell_type": "markdown",
   "metadata": {},
   "source": [
    "## Como se distribuyen los juegos segun su Rating?"
   ]
  },
  {
   "cell_type": "code",
   "execution_count": 24,
   "metadata": {},
   "outputs": [
    {
     "data": {
      "text/html": [
       "<iframe id=\"igraph\" scrolling=\"no\" style=\"border:none;\" seamless=\"seamless\" src=\"https://plot.ly/~raharari/27.embed\" height=\"525px\" width=\"100%\"></iframe>"
      ],
      "text/plain": [
       "<plotly.tools.PlotlyDisplay object>"
      ]
     },
     "execution_count": 24,
     "metadata": {},
     "output_type": "execute_result"
    }
   ],
   "source": [
    "data = [go.Histogram(x=df['Rating'].dropna(), nbinsx= 10)]\n",
    "\n",
    "layout = go.Layout(\n",
    "    title='Distribución por Rating',\n",
    "    xaxis=dict(\n",
    "        title='Rating'\n",
    "    ),\n",
    "    yaxis=dict(\n",
    "        title='Cantidad'\n",
    "    ))\n",
    "\n",
    "fig = go.Figure(data=data, layout=layout)\n",
    "py.iplot(fig, filename='basic histogram')"
   ]
  },
  {
   "cell_type": "markdown",
   "metadata": {},
   "source": [
    "## Cuales son los 100 titulos con mejor rating?"
   ]
  },
  {
   "cell_type": "code",
   "execution_count": 12,
   "metadata": {},
   "outputs": [],
   "source": [
    "top_100 = df.sort_values('Rating', ascending=False)[0:100]"
   ]
  },
  {
   "cell_type": "code",
   "execution_count": 26,
   "metadata": {},
   "outputs": [
    {
     "data": {
      "text/html": [
       "<div>\n",
       "<style scoped>\n",
       "    .dataframe tbody tr th:only-of-type {\n",
       "        vertical-align: middle;\n",
       "    }\n",
       "\n",
       "    .dataframe tbody tr th {\n",
       "        vertical-align: top;\n",
       "    }\n",
       "\n",
       "    .dataframe thead th {\n",
       "        text-align: right;\n",
       "    }\n",
       "</style>\n",
       "<table border=\"1\" class=\"dataframe\">\n",
       "  <thead>\n",
       "    <tr style=\"text-align: right;\">\n",
       "      <th></th>\n",
       "      <th>Id</th>\n",
       "      <th>Titulo</th>\n",
       "      <th>Main Story</th>\n",
       "      <th>Main + Extras</th>\n",
       "      <th>Completionist</th>\n",
       "      <th>All Styles</th>\n",
       "      <th>Rating</th>\n",
       "      <th>Developers</th>\n",
       "      <th>Publishers</th>\n",
       "      <th>Playable On</th>\n",
       "      <th>Genres</th>\n",
       "      <th>NA</th>\n",
       "      <th>EU</th>\n",
       "      <th>JP</th>\n",
       "      <th>Updated</th>\n",
       "    </tr>\n",
       "  </thead>\n",
       "  <tbody>\n",
       "    <tr>\n",
       "      <th>41218</th>\n",
       "      <td>52455</td>\n",
       "      <td>Psychedelica of the Black Butterfly</td>\n",
       "      <td>7.0</td>\n",
       "      <td>NaN</td>\n",
       "      <td>19.5</td>\n",
       "      <td>13.0</td>\n",
       "      <td>97.0</td>\n",
       "      <td>OTOMATE</td>\n",
       "      <td>AKSYS GAMES</td>\n",
       "      <td>PLAYSTATION VITA</td>\n",
       "      <td>VISUAL NOVEL</td>\n",
       "      <td>April 27, 2018</td>\n",
       "      <td>NaN</td>\n",
       "      <td>NaN</td>\n",
       "      <td>3 Weeks Ago</td>\n",
       "    </tr>\n",
       "    <tr>\n",
       "      <th>10447</th>\n",
       "      <td>12078</td>\n",
       "      <td>Mega Man Unlimited</td>\n",
       "      <td>5.0</td>\n",
       "      <td>5.0</td>\n",
       "      <td>10.5</td>\n",
       "      <td>6.0</td>\n",
       "      <td>97.0</td>\n",
       "      <td>MEGAPHILX</td>\n",
       "      <td>NaN</td>\n",
       "      <td>PC</td>\n",
       "      <td>ACTION, PLATFORM</td>\n",
       "      <td>NaN</td>\n",
       "      <td>NaN</td>\n",
       "      <td>NaN</td>\n",
       "      <td>6 Months Ago</td>\n",
       "    </tr>\n",
       "    <tr>\n",
       "      <th>32263</th>\n",
       "      <td>41422</td>\n",
       "      <td>Umineko</td>\n",
       "      <td>42.0</td>\n",
       "      <td>NaN</td>\n",
       "      <td>80.5</td>\n",
       "      <td>73.0</td>\n",
       "      <td>97.0</td>\n",
       "      <td>07TH EXPANSION</td>\n",
       "      <td>MANGAGAMER</td>\n",
       "      <td>PC</td>\n",
       "      <td>ADVENTURE</td>\n",
       "      <td>July 08, 2016</td>\n",
       "      <td>NaN</td>\n",
       "      <td>NaN</td>\n",
       "      <td>2 Weeks Ago</td>\n",
       "    </tr>\n",
       "    <tr>\n",
       "      <th>9828</th>\n",
       "      <td>11245</td>\n",
       "      <td>Wizball</td>\n",
       "      <td>NaN</td>\n",
       "      <td>NaN</td>\n",
       "      <td>8.0</td>\n",
       "      <td>8.0</td>\n",
       "      <td>97.0</td>\n",
       "      <td>SENSIBLE SOFTWARE</td>\n",
       "      <td>OCEAN SOFTWARE</td>\n",
       "      <td>COMMODORE 64</td>\n",
       "      <td>SHOOT 'EM UP</td>\n",
       "      <td>1987</td>\n",
       "      <td>NaN</td>\n",
       "      <td>NaN</td>\n",
       "      <td>4.5 Days Ago</td>\n",
       "    </tr>\n",
       "    <tr>\n",
       "      <th>2361</th>\n",
       "      <td>2646</td>\n",
       "      <td>DJMax Technika Tune</td>\n",
       "      <td>5.0</td>\n",
       "      <td>8.5</td>\n",
       "      <td>95.0</td>\n",
       "      <td>19.0</td>\n",
       "      <td>97.0</td>\n",
       "      <td>PENTAVISION, NEOWIZ MOBILE</td>\n",
       "      <td>PENTAVISION</td>\n",
       "      <td>PLAYSTATION VITA</td>\n",
       "      <td>MUSIC/RHYTHM</td>\n",
       "      <td>December 04, 2012</td>\n",
       "      <td>NaN</td>\n",
       "      <td>September 27, 2012</td>\n",
       "      <td>3.5 Months Ago</td>\n",
       "    </tr>\n",
       "  </tbody>\n",
       "</table>\n",
       "</div>"
      ],
      "text/plain": [
       "          Id                               Titulo  Main Story  Main + Extras  \\\n",
       "41218  52455  Psychedelica of the Black Butterfly         7.0            NaN   \n",
       "10447  12078                   Mega Man Unlimited         5.0            5.0   \n",
       "32263  41422                              Umineko        42.0            NaN   \n",
       "9828   11245                              Wizball         NaN            NaN   \n",
       "2361    2646                  DJMax Technika Tune         5.0            8.5   \n",
       "\n",
       "       Completionist  All Styles  Rating                  Developers  \\\n",
       "41218           19.5        13.0    97.0                     OTOMATE   \n",
       "10447           10.5         6.0    97.0                   MEGAPHILX   \n",
       "32263           80.5        73.0    97.0              07TH EXPANSION   \n",
       "9828             8.0         8.0    97.0           SENSIBLE SOFTWARE   \n",
       "2361            95.0        19.0    97.0  PENTAVISION, NEOWIZ MOBILE   \n",
       "\n",
       "           Publishers       Playable On            Genres                  NA  \\\n",
       "41218     AKSYS GAMES  PLAYSTATION VITA      VISUAL NOVEL      April 27, 2018   \n",
       "10447             NaN                PC  ACTION, PLATFORM                 NaN   \n",
       "32263      MANGAGAMER                PC         ADVENTURE       July 08, 2016   \n",
       "9828   OCEAN SOFTWARE      COMMODORE 64      SHOOT 'EM UP                1987   \n",
       "2361      PENTAVISION  PLAYSTATION VITA      MUSIC/RHYTHM   December 04, 2012   \n",
       "\n",
       "        EU                   JP          Updated  \n",
       "41218  NaN                  NaN      3 Weeks Ago  \n",
       "10447  NaN                  NaN     6 Months Ago  \n",
       "32263  NaN                  NaN      2 Weeks Ago  \n",
       "9828   NaN                  NaN     4.5 Days Ago  \n",
       "2361   NaN   September 27, 2012   3.5 Months Ago  "
      ]
     },
     "execution_count": 26,
     "metadata": {},
     "output_type": "execute_result"
    }
   ],
   "source": [
    "top_100.head()"
   ]
  },
  {
   "cell_type": "markdown",
   "metadata": {},
   "source": [
    "### Como se distribuyen segun el largo de los mismos (sobre la variable Main Story)"
   ]
  },
  {
   "cell_type": "code",
   "execution_count": 37,
   "metadata": {},
   "outputs": [
    {
     "data": {
      "text/html": [
       "<iframe id=\"igraph\" scrolling=\"no\" style=\"border:none;\" seamless=\"seamless\" src=\"https://plot.ly/~raharari/27.embed\" height=\"525px\" width=\"100%\"></iframe>"
      ],
      "text/plain": [
       "<plotly.tools.PlotlyDisplay object>"
      ]
     },
     "execution_count": 37,
     "metadata": {},
     "output_type": "execute_result"
    }
   ],
   "source": [
    "data = [go.Histogram(x=top_100['Main Story'].dropna(), nbinsx= 10)]\n",
    "\n",
    "layout = go.Layout(\n",
    "    title='100 Mejores Juegos',\n",
    "    xaxis=dict(\n",
    "        title='Main Story (hs)'\n",
    "    ),\n",
    "    yaxis=dict(\n",
    "        title='Cantidad'\n",
    "    ))\n",
    "\n",
    "fig = go.Figure(data=data, layout=layout)\n",
    "py.iplot(fig, filename='basic histogram')"
   ]
  },
  {
   "cell_type": "markdown",
   "metadata": {},
   "source": [
    "## Cuales son los 100 peores titulos?"
   ]
  },
  {
   "cell_type": "code",
   "execution_count": 11,
   "metadata": {},
   "outputs": [],
   "source": [
    "#Me quedo con los que tienen Main Story completo\n",
    "worst_100 = df.dropna(subset=['Main Story'])\n",
    "worst_100 = worst_100.sort_values('Rating', ascending=True)[0:100]"
   ]
  },
  {
   "cell_type": "code",
   "execution_count": 47,
   "metadata": {},
   "outputs": [
    {
     "data": {
      "text/html": [
       "<div>\n",
       "<style scoped>\n",
       "    .dataframe tbody tr th:only-of-type {\n",
       "        vertical-align: middle;\n",
       "    }\n",
       "\n",
       "    .dataframe tbody tr th {\n",
       "        vertical-align: top;\n",
       "    }\n",
       "\n",
       "    .dataframe thead th {\n",
       "        text-align: right;\n",
       "    }\n",
       "</style>\n",
       "<table border=\"1\" class=\"dataframe\">\n",
       "  <thead>\n",
       "    <tr style=\"text-align: right;\">\n",
       "      <th></th>\n",
       "      <th>Id</th>\n",
       "      <th>Titulo</th>\n",
       "      <th>Main Story</th>\n",
       "      <th>Main + Extras</th>\n",
       "      <th>Completionist</th>\n",
       "      <th>All Styles</th>\n",
       "      <th>Rating</th>\n",
       "      <th>Developers</th>\n",
       "      <th>Publishers</th>\n",
       "      <th>Playable On</th>\n",
       "      <th>Genres</th>\n",
       "      <th>NA</th>\n",
       "      <th>EU</th>\n",
       "      <th>JP</th>\n",
       "      <th>Updated</th>\n",
       "    </tr>\n",
       "  </thead>\n",
       "  <tbody>\n",
       "    <tr>\n",
       "      <th>31711</th>\n",
       "      <td>40686</td>\n",
       "      <td>Fantastic Checkers 2</td>\n",
       "      <td>0.25</td>\n",
       "      <td>NaN</td>\n",
       "      <td>1.0</td>\n",
       "      <td>0.63</td>\n",
       "      <td>10.0</td>\n",
       "      <td>ENSENASOFT</td>\n",
       "      <td>ENSENASOFT</td>\n",
       "      <td>PC</td>\n",
       "      <td>BOARD GAME</td>\n",
       "      <td>August 19, 2016</td>\n",
       "      <td>NaN</td>\n",
       "      <td>NaN</td>\n",
       "      <td>1 Week Ago</td>\n",
       "    </tr>\n",
       "    <tr>\n",
       "      <th>25660</th>\n",
       "      <td>32139</td>\n",
       "      <td>Shrek: Swamp Kart Speedway</td>\n",
       "      <td>0.68</td>\n",
       "      <td>NaN</td>\n",
       "      <td>NaN</td>\n",
       "      <td>0.68</td>\n",
       "      <td>10.0</td>\n",
       "      <td>NaN</td>\n",
       "      <td>TDK</td>\n",
       "      <td>NaN</td>\n",
       "      <td>NaN</td>\n",
       "      <td>2002</td>\n",
       "      <td>NaN</td>\n",
       "      <td>NaN</td>\n",
       "      <td>7 Months Ago</td>\n",
       "    </tr>\n",
       "    <tr>\n",
       "      <th>19084</th>\n",
       "      <td>23311</td>\n",
       "      <td>Spartans Vs Zombies Defense</td>\n",
       "      <td>4.00</td>\n",
       "      <td>NaN</td>\n",
       "      <td>NaN</td>\n",
       "      <td>4.00</td>\n",
       "      <td>10.0</td>\n",
       "      <td>YFC GAMES</td>\n",
       "      <td>YFC GAMES</td>\n",
       "      <td>PC</td>\n",
       "      <td>ACTION, STRATEGY</td>\n",
       "      <td>January 06, 2015</td>\n",
       "      <td>January 06, 2015</td>\n",
       "      <td>NaN</td>\n",
       "      <td>4.5 Months Ago</td>\n",
       "    </tr>\n",
       "    <tr>\n",
       "      <th>4039</th>\n",
       "      <td>4588</td>\n",
       "      <td>Ibara</td>\n",
       "      <td>2.50</td>\n",
       "      <td>14.0</td>\n",
       "      <td>NaN</td>\n",
       "      <td>7.00</td>\n",
       "      <td>10.0</td>\n",
       "      <td>CAVE</td>\n",
       "      <td>AMI, TAITO CORPORATION</td>\n",
       "      <td>PLAYSTATION 2</td>\n",
       "      <td>SCROLLING, SHOOTER</td>\n",
       "      <td>NaN</td>\n",
       "      <td>NaN</td>\n",
       "      <td>July 15, 2005</td>\n",
       "      <td>6 Days Ago</td>\n",
       "    </tr>\n",
       "    <tr>\n",
       "      <th>8490</th>\n",
       "      <td>9700</td>\n",
       "      <td>Terminator 3: War of the Machines</td>\n",
       "      <td>3.00</td>\n",
       "      <td>NaN</td>\n",
       "      <td>7.0</td>\n",
       "      <td>5.00</td>\n",
       "      <td>10.0</td>\n",
       "      <td>CLEVER'S GAMES</td>\n",
       "      <td>ATARI</td>\n",
       "      <td>PC</td>\n",
       "      <td>FIRST-PERSON, SHOOTER</td>\n",
       "      <td>December 02, 2003</td>\n",
       "      <td>November 28, 2003</td>\n",
       "      <td>April 12, 2004</td>\n",
       "      <td>8 Months Ago</td>\n",
       "    </tr>\n",
       "  </tbody>\n",
       "</table>\n",
       "</div>"
      ],
      "text/plain": [
       "          Id                             Titulo  Main Story  Main + Extras  \\\n",
       "31711  40686               Fantastic Checkers 2        0.25            NaN   \n",
       "25660  32139         Shrek: Swamp Kart Speedway        0.68            NaN   \n",
       "19084  23311        Spartans Vs Zombies Defense        4.00            NaN   \n",
       "4039    4588                              Ibara        2.50           14.0   \n",
       "8490    9700  Terminator 3: War of the Machines        3.00            NaN   \n",
       "\n",
       "       Completionist  All Styles  Rating      Developers  \\\n",
       "31711            1.0        0.63    10.0      ENSENASOFT   \n",
       "25660            NaN        0.68    10.0             NaN   \n",
       "19084            NaN        4.00    10.0       YFC GAMES   \n",
       "4039             NaN        7.00    10.0            CAVE   \n",
       "8490             7.0        5.00    10.0  CLEVER'S GAMES   \n",
       "\n",
       "                   Publishers    Playable On                 Genres  \\\n",
       "31711              ENSENASOFT             PC             BOARD GAME   \n",
       "25660                     TDK            NaN                    NaN   \n",
       "19084               YFC GAMES             PC       ACTION, STRATEGY   \n",
       "4039   AMI, TAITO CORPORATION  PLAYSTATION 2     SCROLLING, SHOOTER   \n",
       "8490                    ATARI             PC  FIRST-PERSON, SHOOTER   \n",
       "\n",
       "                       NA                  EU               JP  \\\n",
       "31711     August 19, 2016                 NaN              NaN   \n",
       "25660                2002                 NaN              NaN   \n",
       "19084    January 06, 2015    January 06, 2015              NaN   \n",
       "4039                  NaN                 NaN    July 15, 2005   \n",
       "8490    December 02, 2003   November 28, 2003   April 12, 2004   \n",
       "\n",
       "               Updated  \n",
       "31711       1 Week Ago  \n",
       "25660     7 Months Ago  \n",
       "19084   4.5 Months Ago  \n",
       "4039        6 Days Ago  \n",
       "8490      8 Months Ago  "
      ]
     },
     "execution_count": 47,
     "metadata": {},
     "output_type": "execute_result"
    }
   ],
   "source": [
    "worst_100.head()"
   ]
  },
  {
   "cell_type": "markdown",
   "metadata": {},
   "source": [
    "### Como se distribuyen segun el largo de los mismos (sobre la variable Main Story)"
   ]
  },
  {
   "cell_type": "code",
   "execution_count": 44,
   "metadata": {},
   "outputs": [
    {
     "data": {
      "text/html": [
       "<iframe id=\"igraph\" scrolling=\"no\" style=\"border:none;\" seamless=\"seamless\" src=\"https://plot.ly/~raharari/27.embed\" height=\"525px\" width=\"100%\"></iframe>"
      ],
      "text/plain": [
       "<plotly.tools.PlotlyDisplay object>"
      ]
     },
     "execution_count": 44,
     "metadata": {},
     "output_type": "execute_result"
    }
   ],
   "source": [
    "data = [go.Histogram(x=worst_100['Main Story'].dropna(), nbinsx= 10)]\n",
    "\n",
    "layout = go.Layout(\n",
    "    title='100 Peores Juegos',\n",
    "    xaxis=dict(\n",
    "        title='Main Story (hs)'\n",
    "    ),\n",
    "    yaxis=dict(\n",
    "        title='Cantidad'\n",
    "    ))\n",
    "\n",
    "fig = go.Figure(data=data, layout=layout)\n",
    "py.iplot(fig, filename='basic histogram')"
   ]
  },
  {
   "cell_type": "markdown",
   "metadata": {},
   "source": [
    "Como se puede ver, los resultados reflejan lo que habiamos visto anteriormente en la matriz de correlacion, si bien pareceria que los juegos con mayor Rating en lineas generales tienen una duracion mayor que los juegos con peor Rating."
   ]
  },
  {
   "cell_type": "markdown",
   "metadata": {},
   "source": [
    "# Preparacion del DataSet para el modelado"
   ]
  },
  {
   "cell_type": "markdown",
   "metadata": {},
   "source": [
    "El objetivo de este trabajo es poder crear un modelo predictivo, que a partir de la informacion de un juego, como su Developer, Publisher, Genero, etc; pueda determinar un rating entre 0 y 100.<br>\n",
    "Nos interesa especialmente que el modelo pueda acomodarse a valores faltantes en algunos de los campos, para lo cual vamos a utilizar XGBoost.<br>\n",
    "Al mismo tiempo, vamos a plantear otro modelos de regresion para datasets completos y comparar la performance de ambos."
   ]
  },
  {
   "cell_type": "markdown",
   "metadata": {},
   "source": [
    "Para poder proveerle la data al modelo, necesitamos que las columnas que tienen mas de un valor (como Genres) sean transformadas en dummies. <br>\n",
    "Para eso vamos a definir una funcion que itere sobre las columnas correspondientes, y extraiga todos los valores unicos, para luego crear una columna por cada uno de esos valores y completarla con 1 o 0 dependiendo si pertenece a esa clase o no."
   ]
  },
  {
   "cell_type": "markdown",
   "metadata": {},
   "source": [
    "## Defino una funcion para separar los atributos multiclase"
   ]
  },
  {
   "cell_type": "code",
   "execution_count": 7,
   "metadata": {},
   "outputs": [],
   "source": [
    "def splitter(dataframe_atributos, columna, dataframe_mapeo):\n",
    "    #Import de itertools para chainear los valores\n",
    "    import itertools\n",
    "    #Genero lista con los valores unicos y lista vacia para ir llenando\n",
    "    valores_unicos = dataframe_atributos[columna].unique()\n",
    "    valores_individuales = []\n",
    "    for x in valores_unicos:\n",
    "        if type(x) == str:\n",
    "            valores_individuales.append(x.split(','))\n",
    "        else:\n",
    "            pass\n",
    "    valores_individuales = list(itertools.chain.from_iterable(valores_individuales))\n",
    "    \n",
    "    #Elimino los espacios al principio y me quedo con los valores unicos\n",
    "    atributo = []\n",
    "    for i in range(len(valores_individuales)):\n",
    "        att = valores_individuales[i].lstrip()\n",
    "        atributo.append(att)\n",
    "    valores_individuales = set(atributo)\n",
    "    \n",
    "    #Genero un diccionario con llave cada valor unico, y valor la lista de unos y ceros\n",
    "    diccionario = {}\n",
    "\n",
    "    for z in valores_individuales:\n",
    "        lista = []\n",
    "        for y in range(len(dataframe_mapeo)):\n",
    "            try:\n",
    "                if dataframe_mapeo[columna][y].find(z) != -1:\n",
    "                    lista.append(1)\n",
    "                else:\n",
    "                    lista.append(0)\n",
    "            except:\n",
    "                lista.append(0)\n",
    "        diccionario[z] = lista\n",
    "    return diccionario"
   ]
  },
  {
   "cell_type": "markdown",
   "metadata": {},
   "source": [
    "## Generos y Playable On"
   ]
  },
  {
   "cell_type": "code",
   "execution_count": 8,
   "metadata": {},
   "outputs": [
    {
     "name": "stdout",
     "output_type": "stream",
     "text": [
      "Wall time: 3min 19s\n"
     ]
    }
   ],
   "source": [
    "%%time\n",
    "#Utilizo la funcion para generar un diccionario con los generos, y sus valores segun cada fila del df original\n",
    "dict_generos = splitter(df,'Genres',df)\n",
    "\n",
    "#Utilizo la funcion para generar un diccionario con las consolas, y sus valores segun cada fila del df original\n",
    "dict_consolas = splitter(df,'Playable On',df)"
   ]
  },
  {
   "cell_type": "code",
   "execution_count": 9,
   "metadata": {},
   "outputs": [],
   "source": [
    "#Transformo esos diccionarios en dataframes para despues appendarlos al df original\n",
    "df_consolas = pd.DataFrame(dict_consolas)\n",
    "df_generos = pd.DataFrame(dict_generos)\n",
    "\n",
    "#Esta columna se genero demas al momento de correr la funcion splitter\n",
    "df_consolas = df_consolas.drop(columns = '') \n",
    "\n",
    "#Genero prefijo para las columnas\n",
    "df_consolas = df_consolas.add_prefix('console_')\n",
    "df_generos = df_generos.add_prefix('gen_')"
   ]
  },
  {
   "cell_type": "code",
   "execution_count": 68,
   "metadata": {},
   "outputs": [
    {
     "name": "stdout",
     "output_type": "stream",
     "text": [
      "<class 'pandas.core.frame.DataFrame'>\n",
      "RangeIndex: 48157 entries, 0 to 48156\n",
      "Data columns (total 70 columns):\n",
      "3DO                        48157 non-null int64\n",
      "AMIGA                      48157 non-null int64\n",
      "AMSTRAD CPC                48157 non-null int64\n",
      "ANDROID                    48157 non-null int64\n",
      "APPLE II                   48157 non-null int64\n",
      "ARCADE                     48157 non-null int64\n",
      "ATARI 2600                 48157 non-null int64\n",
      "ATARI 5200                 48157 non-null int64\n",
      "ATARI 7800                 48157 non-null int64\n",
      "ATARI JAGUAR               48157 non-null int64\n",
      "ATARI LYNX                 48157 non-null int64\n",
      "ATARI ST                   48157 non-null int64\n",
      "BROWSER                    48157 non-null int64\n",
      "COMMODORE 64               48157 non-null int64\n",
      "DREAMCAST                  48157 non-null int64\n",
      "FM TOWNS                   48157 non-null int64\n",
      "GAME BOY                   48157 non-null int64\n",
      "GAME BOY ADVANCE           48157 non-null int64\n",
      "GAME BOY COLOR             48157 non-null int64\n",
      "HTC VIVE                   48157 non-null int64\n",
      "INTELLIVISION              48157 non-null int64\n",
      "IOS                        48157 non-null int64\n",
      "LINUX                      48157 non-null int64\n",
      "MAC                        48157 non-null int64\n",
      "MOBILE                     48157 non-null int64\n",
      "MSX                        48157 non-null int64\n",
      "N-GAGE                     48157 non-null int64\n",
      "NEO GEO                    48157 non-null int64\n",
      "NEO GEO CD                 48157 non-null int64\n",
      "NEO GEO POCKET COLOR       48157 non-null int64\n",
      "NES                        48157 non-null int64\n",
      "NINTENDO 2DS               48157 non-null int64\n",
      "NINTENDO 3DS               48157 non-null int64\n",
      "NINTENDO 64                48157 non-null int64\n",
      "NINTENDO DS                48157 non-null int64\n",
      "NINTENDO GAMECUBE          48157 non-null int64\n",
      "NINTENDO SWITCH            48157 non-null int64\n",
      "OCULUS GO                  48157 non-null int64\n",
      "OCULUS RIFT                48157 non-null int64\n",
      "ONLIVE                     48157 non-null int64\n",
      "OUYA                       48157 non-null int64\n",
      "PC                         48157 non-null int64\n",
      "PHILIPS CD-I               48157 non-null int64\n",
      "PLAYSTATION                48157 non-null int64\n",
      "PLAYSTATION 2              48157 non-null int64\n",
      "PLAYSTATION 3              48157 non-null int64\n",
      "PLAYSTATION 4              48157 non-null int64\n",
      "PLAYSTATION NOW            48157 non-null int64\n",
      "PLAYSTATION VITA           48157 non-null int64\n",
      "PLAYSTATION VR             48157 non-null int64\n",
      "PSP                        48157 non-null int64\n",
      "SEGA 32X                   48157 non-null int64\n",
      "SEGA CD                    48157 non-null int64\n",
      "SEGA GAME GEAR             48157 non-null int64\n",
      "SEGA MASTER SYSTEM         48157 non-null int64\n",
      "SEGA MEGA DRIVE/GENESIS    48157 non-null int64\n",
      "SEGA SATURN                48157 non-null int64\n",
      "SHARP X68000               48157 non-null int64\n",
      "SUPER NINTENDO             48157 non-null int64\n",
      "TURBOGRAFX-16              48157 non-null int64\n",
      "TURBOGRAFX-CD              48157 non-null int64\n",
      "VIRTUAL BOY                48157 non-null int64\n",
      "WII                        48157 non-null int64\n",
      "WII U                      48157 non-null int64\n",
      "WINDOWS PHONE              48157 non-null int64\n",
      "WONDERSWAN                 48157 non-null int64\n",
      "XBOX                       48157 non-null int64\n",
      "XBOX 360                   48157 non-null int64\n",
      "XBOX ONE                   48157 non-null int64\n",
      "ZX SPECTRUM                48157 non-null int64\n",
      "dtypes: int64(70)\n",
      "memory usage: 25.7 MB\n"
     ]
    }
   ],
   "source": [
    "df_consolas.info()"
   ]
  },
  {
   "cell_type": "code",
   "execution_count": 67,
   "metadata": {},
   "outputs": [
    {
     "name": "stdout",
     "output_type": "stream",
     "text": [
      "<class 'pandas.core.frame.DataFrame'>\n",
      "RangeIndex: 48157 entries, 0 to 48156\n",
      "Columns: 354 entries, 2.5D PLATFORM GAME to WRESTLING\n",
      "dtypes: int64(354)\n",
      "memory usage: 130.1 MB\n"
     ]
    }
   ],
   "source": [
    "df_generos.info()"
   ]
  },
  {
   "cell_type": "markdown",
   "metadata": {},
   "source": [
    "## Developers y Publishers"
   ]
  },
  {
   "cell_type": "markdown",
   "metadata": {},
   "source": [
    "Al tener una lista tan larga de valores unicos en cada una de estas columnas (alrededor de 14.000), para no estirar demasiado horizontalmente el dataframe que vamos a utilizar para modelar, vamos a elegir una lista de Developers y Publishers compuesta por:\n",
    " - Los 100 mejores y los 100 peores juegos que clasificamos anteriormente.\n",
    " - Los 100 mejores y los 100 peores agrupados por su Rating promedio\n",
    " - Los 100 Developers y Publishers que aparecen mas veces en el dataframe"
   ]
  },
  {
   "cell_type": "markdown",
   "metadata": {},
   "source": [
    "Para obtener esos valores unicos y mapearlos al dataframe original, vamos a tener que utilizar la funcion splitter, pero cuidando de identificar correctamente cada uno de los dataframes que toman parte de la funcion"
   ]
  },
  {
   "cell_type": "markdown",
   "metadata": {},
   "source": [
    "## Top 100 ordenado por Rating"
   ]
  },
  {
   "cell_type": "code",
   "execution_count": 13,
   "metadata": {},
   "outputs": [
    {
     "name": "stdout",
     "output_type": "stream",
     "text": [
      "Wall time: 2min 30s\n"
     ]
    }
   ],
   "source": [
    "%%time\n",
    "#Utilizo la funcion para generar un diccionario con los Publishers, y sus valores segun cada fila del df original\n",
    "dict_top_publishers = splitter(top_100,'Publishers',df)\n",
    "dict_worst_publishers = splitter(worst_100,'Publishers',df)\n",
    "\n",
    "#Utilizo la funcion para generar un diccionario con los Developers, y sus valores segun cada fila del df original\n",
    "dict_top_developers = splitter(top_100,'Developers',df)\n",
    "dict_worst_developers = splitter(worst_100,'Developers',df)"
   ]
  },
  {
   "cell_type": "markdown",
   "metadata": {},
   "source": [
    "## Top 100 por Rating promedio"
   ]
  },
  {
   "cell_type": "code",
   "execution_count": 14,
   "metadata": {},
   "outputs": [],
   "source": [
    "#Separo en dos dataframes para poder agrupar y no generar dataframes multi-index\n",
    "devs = df[['Developers','Rating']]\n",
    "pubs = df[['Publishers','Rating']]\n",
    "\n",
    "#Agrupo por la columna correspondiente, usando como funcion de agregacion la media\n",
    "devs = devs.groupby(['Developers']).mean()\n",
    "pubs = pubs.groupby(['Publishers']).mean()"
   ]
  },
  {
   "cell_type": "code",
   "execution_count": 16,
   "metadata": {},
   "outputs": [],
   "source": [
    "#Genero un dataframe para cada combinacion, para poder utilizar la funcion splitter\n",
    "    #Developers\n",
    "top100_devs_grouped = pd.DataFrame(devs.sort_values('Rating', ascending=False)[0:100].index.values, columns = ['Developers'])\n",
    "worst100_devs_grouped = pd.DataFrame(devs.sort_values('Rating', ascending=True)[0:100].index.values, columns = ['Developers'])\n",
    "    #Publishers\n",
    "top100_pubs_grouped = pd.DataFrame(pubs.sort_values('Rating', ascending=False)[0:100].index.values, columns = ['Publishers'])\n",
    "worst100_pubs_grouped = pd.DataFrame(pubs.sort_values('Rating', ascending=True)[0:100].index.values, columns = ['Publishers'])"
   ]
  },
  {
   "cell_type": "code",
   "execution_count": 17,
   "metadata": {},
   "outputs": [
    {
     "name": "stdout",
     "output_type": "stream",
     "text": [
      "Wall time: 3min 52s\n"
     ]
    }
   ],
   "source": [
    "%%time\n",
    "#Utilizo la funcion para generar un diccionario con los Publishers, y sus valores segun cada fila del df original\n",
    "dict_top_publishers_grouped = splitter(top100_pubs_grouped,'Publishers',df)\n",
    "dict_worst_publishers_grouped = splitter(worst100_pubs_grouped,'Publishers',df)\n",
    "\n",
    "#Utilizo la funcion para generar un diccionario con los Developers, y sus valores segun cada fila del df original\n",
    "dict_top_developers_grouped = splitter(top100_devs_grouped,'Developers',df)\n",
    "dict_worst_developers_grouped = splitter(worst100_devs_grouped,'Developers',df)"
   ]
  },
  {
   "cell_type": "markdown",
   "metadata": {},
   "source": [
    "## Top 100 segun frecuencia de aparicion"
   ]
  },
  {
   "cell_type": "code",
   "execution_count": 38,
   "metadata": {},
   "outputs": [],
   "source": [
    "#Levanto el archivo con los 100 developers y publishers que mas aparecen\n",
    "\n",
    "top_100_frec = pd.read_excel('C:/Users/Ramiro/Desktop/Digital House/Desafios/HLTB Scrapper/top 100.xlsx')\n",
    "\n",
    "#Los transformo en mayusculas\n",
    "top_100_frec['Developers'] = top_100_frec['Developers'].str.upper()\n",
    "top_100_frec['Publishers'] = top_100_frec['Publishers'].str.upper()"
   ]
  },
  {
   "cell_type": "code",
   "execution_count": 39,
   "metadata": {},
   "outputs": [
    {
     "data": {
      "text/html": [
       "<div>\n",
       "<style scoped>\n",
       "    .dataframe tbody tr th:only-of-type {\n",
       "        vertical-align: middle;\n",
       "    }\n",
       "\n",
       "    .dataframe tbody tr th {\n",
       "        vertical-align: top;\n",
       "    }\n",
       "\n",
       "    .dataframe thead th {\n",
       "        text-align: right;\n",
       "    }\n",
       "</style>\n",
       "<table border=\"1\" class=\"dataframe\">\n",
       "  <thead>\n",
       "    <tr style=\"text-align: right;\">\n",
       "      <th></th>\n",
       "      <th>Publishers</th>\n",
       "      <th>Developers</th>\n",
       "    </tr>\n",
       "  </thead>\n",
       "  <tbody>\n",
       "    <tr>\n",
       "      <th>0</th>\n",
       "      <td>SEGA</td>\n",
       "      <td>KONAMI</td>\n",
       "    </tr>\n",
       "    <tr>\n",
       "      <th>1</th>\n",
       "      <td>NINTENDO</td>\n",
       "      <td>CAPCOM</td>\n",
       "    </tr>\n",
       "    <tr>\n",
       "      <th>2</th>\n",
       "      <td>KONAMI</td>\n",
       "      <td>SEGA</td>\n",
       "    </tr>\n",
       "    <tr>\n",
       "      <th>3</th>\n",
       "      <td>UBISOFT</td>\n",
       "      <td>NAMCO</td>\n",
       "    </tr>\n",
       "    <tr>\n",
       "      <th>4</th>\n",
       "      <td>CAPCOM</td>\n",
       "      <td>HUDSON SOFT</td>\n",
       "    </tr>\n",
       "  </tbody>\n",
       "</table>\n",
       "</div>"
      ],
      "text/plain": [
       "  Publishers   Developers\n",
       "0       SEGA       KONAMI\n",
       "1   NINTENDO       CAPCOM\n",
       "2     KONAMI         SEGA\n",
       "3    UBISOFT        NAMCO\n",
       "4     CAPCOM  HUDSON SOFT"
      ]
     },
     "execution_count": 39,
     "metadata": {},
     "output_type": "execute_result"
    }
   ],
   "source": [
    "top_100_frec.head()"
   ]
  },
  {
   "cell_type": "code",
   "execution_count": 41,
   "metadata": {},
   "outputs": [],
   "source": [
    "#Genero los diccionarios mapeando cada columna contra el dataframe original\n",
    "dict_top_100_frec_pub = splitter(top_100_frec, 'Publishers', df)\n",
    "dict_top_100_frec_dev = splitter(top_100_frec, 'Developers', df)"
   ]
  },
  {
   "cell_type": "markdown",
   "metadata": {},
   "source": [
    "## Para quedarnos con una lista unica de developers y publishers, tenemos que combinar todos los resultados, y limpiar los que se encuentran repetidos"
   ]
  },
  {
   "cell_type": "markdown",
   "metadata": {},
   "source": [
    "### Ordenados por Rating"
   ]
  },
  {
   "cell_type": "code",
   "execution_count": 49,
   "metadata": {},
   "outputs": [],
   "source": [
    "# Genero un dataframe para cada uno de los diccionarios anteriormente creados\n",
    "    #Publishers\n",
    "df1_pub = pd.DataFrame(dict_top_publishers)\n",
    "df2_pub = pd.DataFrame(dict_worst_publishers)\n",
    "\n",
    "    #Developers\n",
    "df1_dev = pd.DataFrame(dict_top_developers)\n",
    "df2_dev = pd.DataFrame(dict_worst_developers)"
   ]
  },
  {
   "cell_type": "markdown",
   "metadata": {},
   "source": [
    "### Agrupados por Avg Rating"
   ]
  },
  {
   "cell_type": "code",
   "execution_count": 62,
   "metadata": {},
   "outputs": [],
   "source": [
    "# Genero un dataframe para cada uno de los diccionarios anteriormente creados\n",
    "    #Publishers\n",
    "df1_pub_grouped = pd.DataFrame(dict_top_publishers_grouped)\n",
    "df2_pub_grouped = pd.DataFrame(dict_worst_publishers_grouped)\n",
    "\n",
    "    #Developers\n",
    "df1_dev_grouped = pd.DataFrame(dict_top_developers_grouped)\n",
    "df2_dev_grouped = pd.DataFrame(dict_worst_developers_grouped)"
   ]
  },
  {
   "cell_type": "markdown",
   "metadata": {},
   "source": [
    "### Top 100 por frecuencia"
   ]
  },
  {
   "cell_type": "code",
   "execution_count": 57,
   "metadata": {},
   "outputs": [],
   "source": [
    "# Genero un dataframe para cada uno de los diccionarios anteriormente creados\n",
    "df_pub_frec = pd.DataFrame(dict_top_100_frec_pub)\n",
    "df_dev_frec = pd.DataFrame(dict_top_100_frec_dev)"
   ]
  },
  {
   "cell_type": "markdown",
   "metadata": {},
   "source": [
    "## Juntamos todos y nos quedamos con las columnas unicas"
   ]
  },
  {
   "cell_type": "code",
   "execution_count": 64,
   "metadata": {},
   "outputs": [],
   "source": [
    "#Concateno los dataframes\n",
    "df_publishers = pd.concat([df1_pub,df2_pub,df1_pub_grouped,df2_pub_grouped,df_pub_frec], axis = 1)\n",
    "df_developers = pd.concat([df1_dev,df2_dev,df1_dev_grouped,df2_dev_grouped,df_dev_frec], axis = 1)\n",
    "\n",
    "#Me quedo con las columnas unicas\n",
    "df_publishers = df_publishers.loc[:, ~df_publishers.columns.duplicated()]\n",
    "df_developers = df_developers.loc[:, ~df_developers.columns.duplicated()]\n",
    "\n",
    "#Le agrego un prefijo a las columnas\n",
    "df_publishers = df_publishers.add_prefix('pub_')\n",
    "df_developers = df_developers.add_prefix('dev_')"
   ]
  },
  {
   "cell_type": "code",
   "execution_count": 68,
   "metadata": {},
   "outputs": [],
   "source": [
    "# Creo una copia del dataframe original\n",
    "df_copia = df\n",
    "\n",
    "#Dropeo las columnas que hice dummies\n",
    "df = df.drop(['Developers','Publishers','Playable On','Genres','NA','EU','JP','Updated'], axis = 1)\n",
    "\n",
    "#Concateno los dataframes de dummies\n",
    "df = pd.concat([df, df_consolas, df_generos, df_developers, df_publishers], axis = 1)"
   ]
  },
  {
   "cell_type": "code",
   "execution_count": 77,
   "metadata": {},
   "outputs": [],
   "source": [
    "## Exportamos el dataframe final para poder modelar\n",
    "df.to_csv(path_or_buf = 'C:/Users/Ramiro/Desktop/Digital House/Desafios/HLTB Scrapper/DB Input Modelo.csv', sep ='|')"
   ]
  }
 ],
 "metadata": {
  "kernelspec": {
   "display_name": "Python 3",
   "language": "python",
   "name": "python3"
  },
  "language_info": {
   "codemirror_mode": {
    "name": "ipython",
    "version": 3
   },
   "file_extension": ".py",
   "mimetype": "text/x-python",
   "name": "python",
   "nbconvert_exporter": "python",
   "pygments_lexer": "ipython3",
   "version": "3.7.0"
  }
 },
 "nbformat": 4,
 "nbformat_minor": 2
}
