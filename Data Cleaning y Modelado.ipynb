{
 "cells": [
  {
   "cell_type": "markdown",
   "metadata": {},
   "source": [
    "# Data Cleaning y EDA"
   ]
  },
  {
   "cell_type": "code",
   "execution_count": 1,
   "metadata": {},
   "outputs": [],
   "source": [
    "# Librerias necesarias\n",
    "import pandas as pd\n",
    "import numpy as np\n",
    "import seaborn as sns\n",
    "import matplotlib.pyplot as plt\n",
    "import plotly.plotly as py\n",
    "import plotly.graph_objs as go"
   ]
  },
  {
   "cell_type": "markdown",
   "metadata": {},
   "source": [
    "## Arreglos realizados en Excel"
   ]
  },
  {
   "cell_type": "markdown",
   "metadata": {},
   "source": [
    " - Se separo el archivo en las columnas correspondientes\n",
    " - En las columnas con informacion de tiempos de completitud se modifico los casos en donde figuran horas fraccionarias (1/2 hours) por 0,5.\n",
    " - Por otro lado, en las mismas columnas, donde figuraba el tiempo en minutos, se transformo en su equivalente en horas (en formato float)\n",
    " - Los campos incompletos (en donde el scrapper no encontro informacion) se modificaron de ***\"--\"*** a nulos.\n",
    " - En los campos sin Rating (NR) se modificaron a nulos.\n",
    " - Se eliminaron los juegos con Type \"DLC\", \"Expansion\", etc. De esta manera solo con quedamos con jueos completos.\n"
   ]
  },
  {
   "cell_type": "code",
   "execution_count": 2,
   "metadata": {},
   "outputs": [],
   "source": [
    "# Importo el archivo con la base de datos\n",
    "#df = pd.read_excel('C:/Users/Ramiro/Desktop/Digital House/Desafios/HLTB Scrapper/HowLongToBeat DB.xlsx')\n",
    "df = pd.read_excel('C:/Users/rharari/Desktop/Data Science/HowLongToBeat DB.xlsx')"
   ]
  },
  {
   "cell_type": "code",
   "execution_count": 4,
   "metadata": {},
   "outputs": [
    {
     "name": "stdout",
     "output_type": "stream",
     "text": [
      "<class 'pandas.core.frame.DataFrame'>\n",
      "RangeIndex: 48157 entries, 0 to 48156\n",
      "Data columns (total 15 columns):\n",
      "Id               48157 non-null int64\n",
      "Titulo           48157 non-null object\n",
      "Main Story       15165 non-null float64\n",
      "Main + Extras    9929 non-null float64\n",
      "Completionist    11180 non-null float64\n",
      "All Styles       18386 non-null float64\n",
      "Rating           19973 non-null float64\n",
      "Developers       27844 non-null object\n",
      "Publishers       26637 non-null object\n",
      "Playable On      16915 non-null object\n",
      "Genres           27406 non-null object\n",
      "NA               25709 non-null object\n",
      "EU               10630 non-null object\n",
      "JP               4751 non-null object\n",
      "Updated          48007 non-null object\n",
      "dtypes: float64(5), int64(1), object(9)\n",
      "memory usage: 5.5+ MB\n"
     ]
    }
   ],
   "source": [
    "df.info()"
   ]
  },
  {
   "cell_type": "code",
   "execution_count": 5,
   "metadata": {},
   "outputs": [
    {
     "data": {
      "text/html": [
       "<div>\n",
       "<style scoped>\n",
       "    .dataframe tbody tr th:only-of-type {\n",
       "        vertical-align: middle;\n",
       "    }\n",
       "\n",
       "    .dataframe tbody tr th {\n",
       "        vertical-align: top;\n",
       "    }\n",
       "\n",
       "    .dataframe thead th {\n",
       "        text-align: right;\n",
       "    }\n",
       "</style>\n",
       "<table border=\"1\" class=\"dataframe\">\n",
       "  <thead>\n",
       "    <tr style=\"text-align: right;\">\n",
       "      <th></th>\n",
       "      <th>Id</th>\n",
       "      <th>Titulo</th>\n",
       "      <th>Main Story</th>\n",
       "      <th>Main + Extras</th>\n",
       "      <th>Completionist</th>\n",
       "      <th>All Styles</th>\n",
       "      <th>Rating</th>\n",
       "      <th>Developers</th>\n",
       "      <th>Publishers</th>\n",
       "      <th>Playable On</th>\n",
       "      <th>Genres</th>\n",
       "      <th>NA</th>\n",
       "      <th>EU</th>\n",
       "      <th>JP</th>\n",
       "      <th>Updated</th>\n",
       "    </tr>\n",
       "  </thead>\n",
       "  <tbody>\n",
       "    <tr>\n",
       "      <th>32819</th>\n",
       "      <td>42133</td>\n",
       "      <td>Golden Yoshi's Island</td>\n",
       "      <td>NaN</td>\n",
       "      <td>NaN</td>\n",
       "      <td>NaN</td>\n",
       "      <td>NaN</td>\n",
       "      <td>60.0</td>\n",
       "      <td>NaN</td>\n",
       "      <td>NaN</td>\n",
       "      <td>NaN</td>\n",
       "      <td>NaN</td>\n",
       "      <td>NaN</td>\n",
       "      <td>NaN</td>\n",
       "      <td>NaN</td>\n",
       "      <td>1.5 Years Ago</td>\n",
       "    </tr>\n",
       "    <tr>\n",
       "      <th>37924</th>\n",
       "      <td>48594</td>\n",
       "      <td>Laseronium: The Line</td>\n",
       "      <td>NaN</td>\n",
       "      <td>NaN</td>\n",
       "      <td>2.0</td>\n",
       "      <td>2.0</td>\n",
       "      <td>60.0</td>\n",
       "      <td>NaN</td>\n",
       "      <td>NaN</td>\n",
       "      <td>NaN</td>\n",
       "      <td>NaN</td>\n",
       "      <td>July 13, 2017</td>\n",
       "      <td>NaN</td>\n",
       "      <td>NaN</td>\n",
       "      <td>1 Year Ago</td>\n",
       "    </tr>\n",
       "    <tr>\n",
       "      <th>34395</th>\n",
       "      <td>44204</td>\n",
       "      <td>Hiryu no Ken S: Golden Fighter</td>\n",
       "      <td>NaN</td>\n",
       "      <td>NaN</td>\n",
       "      <td>NaN</td>\n",
       "      <td>NaN</td>\n",
       "      <td>NaN</td>\n",
       "      <td>NaN</td>\n",
       "      <td>NaN</td>\n",
       "      <td>NaN</td>\n",
       "      <td>NaN</td>\n",
       "      <td>NaN</td>\n",
       "      <td>NaN</td>\n",
       "      <td>NaN</td>\n",
       "      <td>1.5 Years Ago</td>\n",
       "    </tr>\n",
       "    <tr>\n",
       "      <th>24679</th>\n",
       "      <td>30935</td>\n",
       "      <td>Brawl Busters</td>\n",
       "      <td>NaN</td>\n",
       "      <td>NaN</td>\n",
       "      <td>NaN</td>\n",
       "      <td>NaN</td>\n",
       "      <td>NaN</td>\n",
       "      <td>SkeinGlobe</td>\n",
       "      <td>Rock Hippo Productions</td>\n",
       "      <td>NaN</td>\n",
       "      <td>Action</td>\n",
       "      <td>December 15, 2011</td>\n",
       "      <td>NaN</td>\n",
       "      <td>NaN</td>\n",
       "      <td>1 Month Ago</td>\n",
       "    </tr>\n",
       "    <tr>\n",
       "      <th>9334</th>\n",
       "      <td>10696</td>\n",
       "      <td>Tunnel Rats</td>\n",
       "      <td>NaN</td>\n",
       "      <td>NaN</td>\n",
       "      <td>NaN</td>\n",
       "      <td>NaN</td>\n",
       "      <td>NaN</td>\n",
       "      <td>Replay Studios</td>\n",
       "      <td>Boll AG</td>\n",
       "      <td>NaN</td>\n",
       "      <td>First-Person, Shooter</td>\n",
       "      <td>May 15, 2009</td>\n",
       "      <td>NaN</td>\n",
       "      <td>NaN</td>\n",
       "      <td>2 Years Ago</td>\n",
       "    </tr>\n",
       "    <tr>\n",
       "      <th>26876</th>\n",
       "      <td>33751</td>\n",
       "      <td>Water Ski</td>\n",
       "      <td>NaN</td>\n",
       "      <td>NaN</td>\n",
       "      <td>NaN</td>\n",
       "      <td>NaN</td>\n",
       "      <td>NaN</td>\n",
       "      <td>NaN</td>\n",
       "      <td>NaN</td>\n",
       "      <td>NaN</td>\n",
       "      <td>NaN</td>\n",
       "      <td>NaN</td>\n",
       "      <td>NaN</td>\n",
       "      <td>NaN</td>\n",
       "      <td>2 Years Ago</td>\n",
       "    </tr>\n",
       "    <tr>\n",
       "      <th>24920</th>\n",
       "      <td>31222</td>\n",
       "      <td>Wacky Races: Crash &amp; Dash</td>\n",
       "      <td>NaN</td>\n",
       "      <td>NaN</td>\n",
       "      <td>NaN</td>\n",
       "      <td>NaN</td>\n",
       "      <td>50.0</td>\n",
       "      <td>Eidos Interactive</td>\n",
       "      <td>Eidos Interactive</td>\n",
       "      <td>NaN</td>\n",
       "      <td>Racing</td>\n",
       "      <td>June 17, 2008</td>\n",
       "      <td>NaN</td>\n",
       "      <td>NaN</td>\n",
       "      <td>6.5 Months Ago</td>\n",
       "    </tr>\n",
       "    <tr>\n",
       "      <th>13924</th>\n",
       "      <td>16745</td>\n",
       "      <td>Midnight Nowhere</td>\n",
       "      <td>13.0</td>\n",
       "      <td>NaN</td>\n",
       "      <td>NaN</td>\n",
       "      <td>13.0</td>\n",
       "      <td>50.0</td>\n",
       "      <td>Saturn Plus</td>\n",
       "      <td>Buka Entertainment</td>\n",
       "      <td>PC</td>\n",
       "      <td>Third-Person, Adventure</td>\n",
       "      <td>March 15, 2004</td>\n",
       "      <td>NaN</td>\n",
       "      <td>NaN</td>\n",
       "      <td>2 Years Ago</td>\n",
       "    </tr>\n",
       "    <tr>\n",
       "      <th>5087</th>\n",
       "      <td>5789</td>\n",
       "      <td>Medal of Honor: Underground</td>\n",
       "      <td>12.0</td>\n",
       "      <td>12.5</td>\n",
       "      <td>13.0</td>\n",
       "      <td>12.0</td>\n",
       "      <td>75.0</td>\n",
       "      <td>DreamWorks Interactive</td>\n",
       "      <td>Electronic Arts</td>\n",
       "      <td>Game Boy Advance, PlayStation</td>\n",
       "      <td>First-Person, Shooter</td>\n",
       "      <td>October 23, 2000</td>\n",
       "      <td>December 01, 2000</td>\n",
       "      <td>NaN</td>\n",
       "      <td>1 Day Ago</td>\n",
       "    </tr>\n",
       "    <tr>\n",
       "      <th>34377</th>\n",
       "      <td>44186</td>\n",
       "      <td>Hayazashi Nidan: Morita Shougi</td>\n",
       "      <td>NaN</td>\n",
       "      <td>NaN</td>\n",
       "      <td>NaN</td>\n",
       "      <td>NaN</td>\n",
       "      <td>NaN</td>\n",
       "      <td>NaN</td>\n",
       "      <td>NaN</td>\n",
       "      <td>NaN</td>\n",
       "      <td>NaN</td>\n",
       "      <td>NaN</td>\n",
       "      <td>NaN</td>\n",
       "      <td>NaN</td>\n",
       "      <td>1.5 Years Ago</td>\n",
       "    </tr>\n",
       "  </tbody>\n",
       "</table>\n",
       "</div>"
      ],
      "text/plain": [
       "          Id                          Titulo  Main Story  Main + Extras  \\\n",
       "32819  42133           Golden Yoshi's Island         NaN            NaN   \n",
       "37924  48594            Laseronium: The Line         NaN            NaN   \n",
       "34395  44204  Hiryu no Ken S: Golden Fighter         NaN            NaN   \n",
       "24679  30935                   Brawl Busters         NaN            NaN   \n",
       "9334   10696                     Tunnel Rats         NaN            NaN   \n",
       "26876  33751                       Water Ski         NaN            NaN   \n",
       "24920  31222       Wacky Races: Crash & Dash         NaN            NaN   \n",
       "13924  16745                Midnight Nowhere        13.0            NaN   \n",
       "5087    5789     Medal of Honor: Underground        12.0           12.5   \n",
       "34377  44186  Hayazashi Nidan: Morita Shougi         NaN            NaN   \n",
       "\n",
       "       Completionist  All Styles  Rating              Developers  \\\n",
       "32819            NaN         NaN    60.0                     NaN   \n",
       "37924            2.0         2.0    60.0                     NaN   \n",
       "34395            NaN         NaN     NaN                     NaN   \n",
       "24679            NaN         NaN     NaN              SkeinGlobe   \n",
       "9334             NaN         NaN     NaN          Replay Studios   \n",
       "26876            NaN         NaN     NaN                     NaN   \n",
       "24920            NaN         NaN    50.0       Eidos Interactive   \n",
       "13924            NaN        13.0    50.0             Saturn Plus   \n",
       "5087            13.0        12.0    75.0  DreamWorks Interactive   \n",
       "34377            NaN         NaN     NaN                     NaN   \n",
       "\n",
       "                   Publishers                    Playable On  \\\n",
       "32819                     NaN                            NaN   \n",
       "37924                     NaN                            NaN   \n",
       "34395                     NaN                            NaN   \n",
       "24679  Rock Hippo Productions                            NaN   \n",
       "9334                  Boll AG                            NaN   \n",
       "26876                     NaN                            NaN   \n",
       "24920       Eidos Interactive                            NaN   \n",
       "13924      Buka Entertainment                             PC   \n",
       "5087          Electronic Arts  Game Boy Advance, PlayStation   \n",
       "34377                     NaN                            NaN   \n",
       "\n",
       "                        Genres                  NA                  EU   JP  \\\n",
       "32819                      NaN                 NaN                 NaN  NaN   \n",
       "37924                      NaN       July 13, 2017                 NaN  NaN   \n",
       "34395                      NaN                 NaN                 NaN  NaN   \n",
       "24679                   Action   December 15, 2011                 NaN  NaN   \n",
       "9334     First-Person, Shooter        May 15, 2009                 NaN  NaN   \n",
       "26876                      NaN                 NaN                 NaN  NaN   \n",
       "24920                   Racing       June 17, 2008                 NaN  NaN   \n",
       "13924  Third-Person, Adventure      March 15, 2004                 NaN  NaN   \n",
       "5087     First-Person, Shooter    October 23, 2000   December 01, 2000  NaN   \n",
       "34377                      NaN                 NaN                 NaN  NaN   \n",
       "\n",
       "               Updated  \n",
       "32819    1.5 Years Ago  \n",
       "37924       1 Year Ago  \n",
       "34395    1.5 Years Ago  \n",
       "24679      1 Month Ago  \n",
       "9334       2 Years Ago  \n",
       "26876      2 Years Ago  \n",
       "24920   6.5 Months Ago  \n",
       "13924      2 Years Ago  \n",
       "5087         1 Day Ago  \n",
       "34377    1.5 Years Ago  "
      ]
     },
     "execution_count": 5,
     "metadata": {},
     "output_type": "execute_result"
    }
   ],
   "source": [
    "#Analizamos como esta compuesto el archivo\n",
    "df.sample(10)"
   ]
  },
  {
   "cell_type": "markdown",
   "metadata": {},
   "source": [
    "El dataset esta compuesto por 48.157 observaciones con los siguientes campos:\n",
    " - __Id__: Id en la web de How Long To Beat\n",
    " - __Titulo__: Nombre del videojuego\n",
    " - __Main Story__: El tiempo necesario para completar la historia principal\n",
    " - __Main Story + Extras__: El tiempo necesario para completar la historia principal y los \"sidequests\"\n",
    " - __Completionist__: El tiempo necesario para completar el juego al 100%\n",
    " - __All Styles__: Un tiempo aproximado de los distintos estilos combinados\n",
    " - __Rating__: Score otorgado al juego\n",
    " - __Developer__: Lista de Desarrolladores\n",
    " - __Publishers__: Lista de compañias que publicaron el juego\n",
    " - __Playable On__: Consolas en las cuales esta disponible el juego\n",
    " - __Genres__: Generos a los cuales pertenece el juego\n",
    " - __NA__: Fecha de lanzamiento en Norteamerica\n",
    " - __EU__: Fecha de lanzamiento en Europa\n",
    " - __JP__: Fecha de lanzamiento en Japon\n",
    " - __Updated__: Ultima actualizacion de la informacion del juego"
   ]
  },
  {
   "cell_type": "markdown",
   "metadata": {},
   "source": [
    "Como era de esperarse, del scrapping inicial hace falta hacer una limpieza para poder dejar listos los datos para el modelado.\n",
    "Encontramos los siguientes problemas:\n",
    " - Las columnas de tiempos queremos redondearlas a dos decimales.\n",
    " - Queremos que el indice del df sea el numero de id del juego en la web para poder hacer un rastreo del mismo\n",
    " - Queremos separar las columnas de Genres, Playable On, Developers y Publishers en dummies para el modelo\n",
    " - Las columnas de Developers, Publishers, Playable On y Genres queremos que esten todas en mayusculas, para que a la hora de separarlos, no haya diferencia entre uppercase o lowercase\n"
   ]
  },
  {
   "cell_type": "code",
   "execution_count": 3,
   "metadata": {},
   "outputs": [],
   "source": [
    "#Arreglamos las columnas con ceros extra\n",
    "df['Main Story'] = df['Main Story'].astype(float).round(2)\n",
    "df['Main + Extras'] = df['Main + Extras'].astype(float).round(2)\n",
    "df['Completionist'] = df['Completionist'].astype(float).round(2)\n",
    "df['All Styles'] = df['All Styles'].astype(float).round(2)"
   ]
  },
  {
   "cell_type": "code",
   "execution_count": 4,
   "metadata": {},
   "outputs": [],
   "source": [
    "#Pasamos las columnas a UPPER\n",
    "df['Genres'] = df['Genres'].str.upper()\n",
    "df['Developers'] = df['Developers'].str.upper()\n",
    "df['Publishers'] = df['Publishers'].str.upper()\n",
    "df['Playable On'] = df['Playable On'].str.upper()"
   ]
  },
  {
   "cell_type": "code",
   "execution_count": 26,
   "metadata": {},
   "outputs": [],
   "source": [
    "devs = df[['Developers','Rating']]\n",
    "pubs = df[['Publishers','Rating']]"
   ]
  },
  {
   "cell_type": "code",
   "execution_count": 27,
   "metadata": {},
   "outputs": [],
   "source": [
    "d = devs.groupby(['Developers']).mean()\n",
    "p = pubs.groupby(['Publishers']).mean()"
   ]
  },
  {
   "cell_type": "code",
   "execution_count": 38,
   "metadata": {},
   "outputs": [],
   "source": [
    "top100_devs_grouped = pd.DataFrame(d.sort_values('Rating', ascending=False)[0:100].index.values, columns = ['Developers'])\n",
    "worst100_devs_grouped = pd.DataFrame(d.sort_values('Rating', ascending=True)[0:100].index.values, columns = ['Developers'])\n",
    "top100_pubs_grouped = pd.DataFrame(p.sort_values('Rating', ascending=False)[0:100].index.values, columns = ['Publishers'])\n",
    "worst100_pubs_grouped = pd.DataFrame(p.sort_values('Rating', ascending=True)[0:100].index.values, columns = ['Publishers'])"
   ]
  },
  {
   "cell_type": "code",
   "execution_count": null,
   "metadata": {},
   "outputs": [],
   "source": []
  },
  {
   "cell_type": "code",
   "execution_count": null,
   "metadata": {},
   "outputs": [],
   "source": []
  },
  {
   "cell_type": "code",
   "execution_count": 9,
   "metadata": {},
   "outputs": [
    {
     "data": {
      "text/html": [
       "<div>\n",
       "<style scoped>\n",
       "    .dataframe tbody tr th:only-of-type {\n",
       "        vertical-align: middle;\n",
       "    }\n",
       "\n",
       "    .dataframe tbody tr th {\n",
       "        vertical-align: top;\n",
       "    }\n",
       "\n",
       "    .dataframe thead th {\n",
       "        text-align: right;\n",
       "    }\n",
       "</style>\n",
       "<table border=\"1\" class=\"dataframe\">\n",
       "  <thead>\n",
       "    <tr style=\"text-align: right;\">\n",
       "      <th></th>\n",
       "      <th>Id</th>\n",
       "      <th>Titulo</th>\n",
       "      <th>Main Story</th>\n",
       "      <th>Main + Extras</th>\n",
       "      <th>Completionist</th>\n",
       "      <th>All Styles</th>\n",
       "      <th>Rating</th>\n",
       "      <th>Developers</th>\n",
       "      <th>Publishers</th>\n",
       "      <th>Playable On</th>\n",
       "      <th>Genres</th>\n",
       "      <th>NA</th>\n",
       "      <th>EU</th>\n",
       "      <th>JP</th>\n",
       "      <th>Updated</th>\n",
       "    </tr>\n",
       "  </thead>\n",
       "  <tbody>\n",
       "    <tr>\n",
       "      <th>0</th>\n",
       "      <td>1</td>\n",
       "      <td>688(I) Hunter/Killer</td>\n",
       "      <td>9.5</td>\n",
       "      <td>24.0</td>\n",
       "      <td>50.5</td>\n",
       "      <td>15.5</td>\n",
       "      <td>NaN</td>\n",
       "      <td>SONALYSTS</td>\n",
       "      <td>ELECTRONIC ARTS</td>\n",
       "      <td>PC</td>\n",
       "      <td>SIMULATION</td>\n",
       "      <td>July 04, 1997</td>\n",
       "      <td>NaN</td>\n",
       "      <td>NaN</td>\n",
       "      <td>1 Month Ago</td>\n",
       "    </tr>\n",
       "    <tr>\n",
       "      <th>1</th>\n",
       "      <td>2</td>\n",
       "      <td>Beyond Good &amp; Evil 2</td>\n",
       "      <td>NaN</td>\n",
       "      <td>NaN</td>\n",
       "      <td>NaN</td>\n",
       "      <td>NaN</td>\n",
       "      <td>NaN</td>\n",
       "      <td>UBISOFT MONTPELLIER</td>\n",
       "      <td>UBISOFT</td>\n",
       "      <td>NaN</td>\n",
       "      <td>ACTION, ADVENTURE</td>\n",
       "      <td>2016</td>\n",
       "      <td>NaN</td>\n",
       "      <td>NaN</td>\n",
       "      <td>3.5 Months Ago</td>\n",
       "    </tr>\n",
       "    <tr>\n",
       "      <th>2</th>\n",
       "      <td>10</td>\n",
       "      <td>Ico and Shadow of the Colossus Collection</td>\n",
       "      <td>NaN</td>\n",
       "      <td>NaN</td>\n",
       "      <td>NaN</td>\n",
       "      <td>NaN</td>\n",
       "      <td>NaN</td>\n",
       "      <td>NaN</td>\n",
       "      <td>NaN</td>\n",
       "      <td>NaN</td>\n",
       "      <td>NaN</td>\n",
       "      <td>NaN</td>\n",
       "      <td>NaN</td>\n",
       "      <td>NaN</td>\n",
       "      <td>2 Years Ago</td>\n",
       "    </tr>\n",
       "    <tr>\n",
       "      <th>3</th>\n",
       "      <td>16</td>\n",
       "      <td>Shadow of the Comet</td>\n",
       "      <td>NaN</td>\n",
       "      <td>NaN</td>\n",
       "      <td>NaN</td>\n",
       "      <td>NaN</td>\n",
       "      <td>NaN</td>\n",
       "      <td>NaN</td>\n",
       "      <td>NaN</td>\n",
       "      <td>NaN</td>\n",
       "      <td>NaN</td>\n",
       "      <td>NaN</td>\n",
       "      <td>NaN</td>\n",
       "      <td>NaN</td>\n",
       "      <td>2 Years Ago</td>\n",
       "    </tr>\n",
       "    <tr>\n",
       "      <th>4</th>\n",
       "      <td>18</td>\n",
       "      <td>'Splosion Man</td>\n",
       "      <td>8.0</td>\n",
       "      <td>10.0</td>\n",
       "      <td>18.0</td>\n",
       "      <td>9.5</td>\n",
       "      <td>76.0</td>\n",
       "      <td>TWISTED PIXEL GAMES</td>\n",
       "      <td>MICROSOFT GAMES STUDIOS</td>\n",
       "      <td>XBOX 360</td>\n",
       "      <td>ACTION, PLATFORMER</td>\n",
       "      <td>July 22, 2009</td>\n",
       "      <td>July 22, 2009</td>\n",
       "      <td>NaN</td>\n",
       "      <td>21.5 Hours Ago</td>\n",
       "    </tr>\n",
       "    <tr>\n",
       "      <th>5</th>\n",
       "      <td>19</td>\n",
       "      <td>.hack//G.U. Vol. 1: Rebirth</td>\n",
       "      <td>20.5</td>\n",
       "      <td>26.5</td>\n",
       "      <td>38.0</td>\n",
       "      <td>24.5</td>\n",
       "      <td>80.0</td>\n",
       "      <td>CYBERCONNECT2</td>\n",
       "      <td>BANDAI</td>\n",
       "      <td>PC, PLAYSTATION 2, PLAYSTATION 4</td>\n",
       "      <td>ACTION, ROLE-PLAYING</td>\n",
       "      <td>October 24, 2006</td>\n",
       "      <td>NaN</td>\n",
       "      <td>May 18, 2006</td>\n",
       "      <td>20.5 Hours Ago</td>\n",
       "    </tr>\n",
       "    <tr>\n",
       "      <th>6</th>\n",
       "      <td>20</td>\n",
       "      <td>.hack//G.U. Vol. 2: Reminisce</td>\n",
       "      <td>22.5</td>\n",
       "      <td>37.0</td>\n",
       "      <td>48.0</td>\n",
       "      <td>31.5</td>\n",
       "      <td>81.0</td>\n",
       "      <td>CYBERCONNECT2</td>\n",
       "      <td>BANDAI</td>\n",
       "      <td>PLAYSTATION 2, PLAYSTATION 4</td>\n",
       "      <td>ACTION, ROLE-PLAYING</td>\n",
       "      <td>May 08, 2007</td>\n",
       "      <td>NaN</td>\n",
       "      <td>September 28, 2006</td>\n",
       "      <td>13 Hours Ago</td>\n",
       "    </tr>\n",
       "    <tr>\n",
       "      <th>7</th>\n",
       "      <td>21</td>\n",
       "      <td>.hack//G.U. Vol. 3: Redemption</td>\n",
       "      <td>23.5</td>\n",
       "      <td>35.5</td>\n",
       "      <td>52.5</td>\n",
       "      <td>30.0</td>\n",
       "      <td>79.0</td>\n",
       "      <td>CYBERCONNECT2</td>\n",
       "      <td>BANDAI</td>\n",
       "      <td>PLAYSTATION 2, PLAYSTATION 4</td>\n",
       "      <td>ACTION, ROLE-PLAYING</td>\n",
       "      <td>March 25, 2008</td>\n",
       "      <td>NaN</td>\n",
       "      <td>January 18, 2007</td>\n",
       "      <td>19.5 Hours Ago</td>\n",
       "    </tr>\n",
       "    <tr>\n",
       "      <th>8</th>\n",
       "      <td>22</td>\n",
       "      <td>.hack//Infection</td>\n",
       "      <td>18.0</td>\n",
       "      <td>20.0</td>\n",
       "      <td>28.5</td>\n",
       "      <td>20.5</td>\n",
       "      <td>78.0</td>\n",
       "      <td>CYBERCONNECT2</td>\n",
       "      <td>BANDAI S.A.</td>\n",
       "      <td>PLAYSTATION 2</td>\n",
       "      <td>ACTION, ROLE-PLAYING</td>\n",
       "      <td>February 11, 2003</td>\n",
       "      <td>NaN</td>\n",
       "      <td>NaN</td>\n",
       "      <td>20 Hours Ago</td>\n",
       "    </tr>\n",
       "    <tr>\n",
       "      <th>9</th>\n",
       "      <td>23</td>\n",
       "      <td>.hack//Link</td>\n",
       "      <td>29.0</td>\n",
       "      <td>54.0</td>\n",
       "      <td>NaN</td>\n",
       "      <td>41.5</td>\n",
       "      <td>55.0</td>\n",
       "      <td>CYBERCONNECT2</td>\n",
       "      <td>NAMCO BANDAI GAMES</td>\n",
       "      <td>PSP</td>\n",
       "      <td>ROLE-PLAYING</td>\n",
       "      <td>NaN</td>\n",
       "      <td>NaN</td>\n",
       "      <td>March 04, 2010</td>\n",
       "      <td>2 Months Ago</td>\n",
       "    </tr>\n",
       "  </tbody>\n",
       "</table>\n",
       "</div>"
      ],
      "text/plain": [
       "   Id                                     Titulo  Main Story  Main + Extras  \\\n",
       "0   1                       688(I) Hunter/Killer         9.5           24.0   \n",
       "1   2                       Beyond Good & Evil 2         NaN            NaN   \n",
       "2  10  Ico and Shadow of the Colossus Collection         NaN            NaN   \n",
       "3  16                        Shadow of the Comet         NaN            NaN   \n",
       "4  18                              'Splosion Man         8.0           10.0   \n",
       "5  19                .hack//G.U. Vol. 1: Rebirth        20.5           26.5   \n",
       "6  20              .hack//G.U. Vol. 2: Reminisce        22.5           37.0   \n",
       "7  21             .hack//G.U. Vol. 3: Redemption        23.5           35.5   \n",
       "8  22                           .hack//Infection        18.0           20.0   \n",
       "9  23                                .hack//Link        29.0           54.0   \n",
       "\n",
       "   Completionist  All Styles  Rating           Developers  \\\n",
       "0           50.5        15.5     NaN            SONALYSTS   \n",
       "1            NaN         NaN     NaN  UBISOFT MONTPELLIER   \n",
       "2            NaN         NaN     NaN                  NaN   \n",
       "3            NaN         NaN     NaN                  NaN   \n",
       "4           18.0         9.5    76.0  TWISTED PIXEL GAMES   \n",
       "5           38.0        24.5    80.0        CYBERCONNECT2   \n",
       "6           48.0        31.5    81.0        CYBERCONNECT2   \n",
       "7           52.5        30.0    79.0        CYBERCONNECT2   \n",
       "8           28.5        20.5    78.0        CYBERCONNECT2   \n",
       "9            NaN        41.5    55.0        CYBERCONNECT2   \n",
       "\n",
       "                Publishers                       Playable On  \\\n",
       "0          ELECTRONIC ARTS                                PC   \n",
       "1                  UBISOFT                               NaN   \n",
       "2                      NaN                               NaN   \n",
       "3                      NaN                               NaN   \n",
       "4  MICROSOFT GAMES STUDIOS                          XBOX 360   \n",
       "5                   BANDAI  PC, PLAYSTATION 2, PLAYSTATION 4   \n",
       "6                   BANDAI      PLAYSTATION 2, PLAYSTATION 4   \n",
       "7                   BANDAI      PLAYSTATION 2, PLAYSTATION 4   \n",
       "8              BANDAI S.A.                     PLAYSTATION 2   \n",
       "9       NAMCO BANDAI GAMES                               PSP   \n",
       "\n",
       "                 Genres                  NA              EU  \\\n",
       "0            SIMULATION       July 04, 1997             NaN   \n",
       "1     ACTION, ADVENTURE                2016             NaN   \n",
       "2                   NaN                 NaN             NaN   \n",
       "3                   NaN                 NaN             NaN   \n",
       "4    ACTION, PLATFORMER       July 22, 2009   July 22, 2009   \n",
       "5  ACTION, ROLE-PLAYING    October 24, 2006             NaN   \n",
       "6  ACTION, ROLE-PLAYING        May 08, 2007             NaN   \n",
       "7  ACTION, ROLE-PLAYING      March 25, 2008             NaN   \n",
       "8  ACTION, ROLE-PLAYING   February 11, 2003             NaN   \n",
       "9          ROLE-PLAYING                 NaN             NaN   \n",
       "\n",
       "                    JP          Updated  \n",
       "0                  NaN      1 Month Ago  \n",
       "1                  NaN   3.5 Months Ago  \n",
       "2                  NaN      2 Years Ago  \n",
       "3                  NaN      2 Years Ago  \n",
       "4                  NaN   21.5 Hours Ago  \n",
       "5         May 18, 2006   20.5 Hours Ago  \n",
       "6   September 28, 2006     13 Hours Ago  \n",
       "7     January 18, 2007   19.5 Hours Ago  \n",
       "8                  NaN     20 Hours Ago  \n",
       "9       March 04, 2010     2 Months Ago  "
      ]
     },
     "execution_count": 9,
     "metadata": {},
     "output_type": "execute_result"
    }
   ],
   "source": [
    "df.head(10)"
   ]
  },
  {
   "cell_type": "markdown",
   "metadata": {},
   "source": [
    "## Existe alguna correlacion entre las variables continuas?"
   ]
  },
  {
   "cell_type": "code",
   "execution_count": 12,
   "metadata": {},
   "outputs": [
    {
     "data": {
      "image/png": "[encoded data removed]",
      "text/plain": [
       "<matplotlib.figure.Figure at 0x203a26412b0>"
      ]
     },
     "metadata": {},
     "output_type": "display_data"
    }
   ],
   "source": [
    "#Graficamos la matriz de correlacion\n",
    "fig, ax = plt.subplots(figsize=(15,15))       \n",
    "sns.heatmap(df.drop(columns = 'Id').corr() , square=True, annot=True, ax=ax);"
   ]
  },
  {
   "cell_type": "markdown",
   "metadata": {},
   "source": [
    "Como puede apreciarse, es logico que haya una fuerte correlacion entre los distintos estilos de \"completitud\", ya que por lo general uno es dependiente de algun otro (sobre todo \"All Styles\" que es un promedio del resto).<br>\n",
    "Lo interesante, es que pareceria que no existiese una fuerte relacion entre el tiempo que dura un juego y su Rating."
   ]
  },
  {
   "cell_type": "markdown",
   "metadata": {},
   "source": [
    "# Analicemos algunas estadisticas del dataset"
   ]
  },
  {
   "cell_type": "markdown",
   "metadata": {},
   "source": [
    "## Como se distribuyen los juegos segun su Rating?"
   ]
  },
  {
   "cell_type": "code",
   "execution_count": 24,
   "metadata": {},
   "outputs": [
    {
     "data": {
      "text/html": [
       "<iframe id=\"igraph\" scrolling=\"no\" style=\"border:none;\" seamless=\"seamless\" src=\"https://plot.ly/~raharari/27.embed\" height=\"525px\" width=\"100%\"></iframe>"
      ],
      "text/plain": [
       "<plotly.tools.PlotlyDisplay object>"
      ]
     },
     "execution_count": 24,
     "metadata": {},
     "output_type": "execute_result"
    }
   ],
   "source": [
    "data = [go.Histogram(x=df['Rating'].dropna(), nbinsx= 10)]\n",
    "\n",
    "layout = go.Layout(\n",
    "    title='Distribución por Rating',\n",
    "    xaxis=dict(\n",
    "        title='Rating'\n",
    "    ),\n",
    "    yaxis=dict(\n",
    "        title='Cantidad'\n",
    "    ))\n",
    "\n",
    "fig = go.Figure(data=data, layout=layout)\n",
    "py.iplot(fig, filename='basic histogram')"
   ]
  },
  {
   "cell_type": "markdown",
   "metadata": {},
   "source": [
    "## Cuales son los 100 titulos con mejor rating?"
   ]
  },
  {
   "cell_type": "code",
   "execution_count": 9,
   "metadata": {},
   "outputs": [],
   "source": [
    "top_100 = df.sort_values('Rating', ascending=False)[0:100]"
   ]
  },
  {
   "cell_type": "code",
   "execution_count": 26,
   "metadata": {},
   "outputs": [
    {
     "data": {
      "text/html": [
       "<div>\n",
       "<style scoped>\n",
       "    .dataframe tbody tr th:only-of-type {\n",
       "        vertical-align: middle;\n",
       "    }\n",
       "\n",
       "    .dataframe tbody tr th {\n",
       "        vertical-align: top;\n",
       "    }\n",
       "\n",
       "    .dataframe thead th {\n",
       "        text-align: right;\n",
       "    }\n",
       "</style>\n",
       "<table border=\"1\" class=\"dataframe\">\n",
       "  <thead>\n",
       "    <tr style=\"text-align: right;\">\n",
       "      <th></th>\n",
       "      <th>Id</th>\n",
       "      <th>Titulo</th>\n",
       "      <th>Main Story</th>\n",
       "      <th>Main + Extras</th>\n",
       "      <th>Completionist</th>\n",
       "      <th>All Styles</th>\n",
       "      <th>Rating</th>\n",
       "      <th>Developers</th>\n",
       "      <th>Publishers</th>\n",
       "      <th>Playable On</th>\n",
       "      <th>Genres</th>\n",
       "      <th>NA</th>\n",
       "      <th>EU</th>\n",
       "      <th>JP</th>\n",
       "      <th>Updated</th>\n",
       "    </tr>\n",
       "  </thead>\n",
       "  <tbody>\n",
       "    <tr>\n",
       "      <th>41218</th>\n",
       "      <td>52455</td>\n",
       "      <td>Psychedelica of the Black Butterfly</td>\n",
       "      <td>7.0</td>\n",
       "      <td>NaN</td>\n",
       "      <td>19.5</td>\n",
       "      <td>13.0</td>\n",
       "      <td>97.0</td>\n",
       "      <td>OTOMATE</td>\n",
       "      <td>AKSYS GAMES</td>\n",
       "      <td>PLAYSTATION VITA</td>\n",
       "      <td>VISUAL NOVEL</td>\n",
       "      <td>April 27, 2018</td>\n",
       "      <td>NaN</td>\n",
       "      <td>NaN</td>\n",
       "      <td>3 Weeks Ago</td>\n",
       "    </tr>\n",
       "    <tr>\n",
       "      <th>10447</th>\n",
       "      <td>12078</td>\n",
       "      <td>Mega Man Unlimited</td>\n",
       "      <td>5.0</td>\n",
       "      <td>5.0</td>\n",
       "      <td>10.5</td>\n",
       "      <td>6.0</td>\n",
       "      <td>97.0</td>\n",
       "      <td>MEGAPHILX</td>\n",
       "      <td>NaN</td>\n",
       "      <td>PC</td>\n",
       "      <td>ACTION, PLATFORM</td>\n",
       "      <td>NaN</td>\n",
       "      <td>NaN</td>\n",
       "      <td>NaN</td>\n",
       "      <td>6 Months Ago</td>\n",
       "    </tr>\n",
       "    <tr>\n",
       "      <th>32263</th>\n",
       "      <td>41422</td>\n",
       "      <td>Umineko</td>\n",
       "      <td>42.0</td>\n",
       "      <td>NaN</td>\n",
       "      <td>80.5</td>\n",
       "      <td>73.0</td>\n",
       "      <td>97.0</td>\n",
       "      <td>07TH EXPANSION</td>\n",
       "      <td>MANGAGAMER</td>\n",
       "      <td>PC</td>\n",
       "      <td>ADVENTURE</td>\n",
       "      <td>July 08, 2016</td>\n",
       "      <td>NaN</td>\n",
       "      <td>NaN</td>\n",
       "      <td>2 Weeks Ago</td>\n",
       "    </tr>\n",
       "    <tr>\n",
       "      <th>9828</th>\n",
       "      <td>11245</td>\n",
       "      <td>Wizball</td>\n",
       "      <td>NaN</td>\n",
       "      <td>NaN</td>\n",
       "      <td>8.0</td>\n",
       "      <td>8.0</td>\n",
       "      <td>97.0</td>\n",
       "      <td>SENSIBLE SOFTWARE</td>\n",
       "      <td>OCEAN SOFTWARE</td>\n",
       "      <td>COMMODORE 64</td>\n",
       "      <td>SHOOT 'EM UP</td>\n",
       "      <td>1987</td>\n",
       "      <td>NaN</td>\n",
       "      <td>NaN</td>\n",
       "      <td>4.5 Days Ago</td>\n",
       "    </tr>\n",
       "    <tr>\n",
       "      <th>2361</th>\n",
       "      <td>2646</td>\n",
       "      <td>DJMax Technika Tune</td>\n",
       "      <td>5.0</td>\n",
       "      <td>8.5</td>\n",
       "      <td>95.0</td>\n",
       "      <td>19.0</td>\n",
       "      <td>97.0</td>\n",
       "      <td>PENTAVISION, NEOWIZ MOBILE</td>\n",
       "      <td>PENTAVISION</td>\n",
       "      <td>PLAYSTATION VITA</td>\n",
       "      <td>MUSIC/RHYTHM</td>\n",
       "      <td>December 04, 2012</td>\n",
       "      <td>NaN</td>\n",
       "      <td>September 27, 2012</td>\n",
       "      <td>3.5 Months Ago</td>\n",
       "    </tr>\n",
       "  </tbody>\n",
       "</table>\n",
       "</div>"
      ],
      "text/plain": [
       "          Id                               Titulo  Main Story  Main + Extras  \\\n",
       "41218  52455  Psychedelica of the Black Butterfly         7.0            NaN   \n",
       "10447  12078                   Mega Man Unlimited         5.0            5.0   \n",
       "32263  41422                              Umineko        42.0            NaN   \n",
       "9828   11245                              Wizball         NaN            NaN   \n",
       "2361    2646                  DJMax Technika Tune         5.0            8.5   \n",
       "\n",
       "       Completionist  All Styles  Rating                  Developers  \\\n",
       "41218           19.5        13.0    97.0                     OTOMATE   \n",
       "10447           10.5         6.0    97.0                   MEGAPHILX   \n",
       "32263           80.5        73.0    97.0              07TH EXPANSION   \n",
       "9828             8.0         8.0    97.0           SENSIBLE SOFTWARE   \n",
       "2361            95.0        19.0    97.0  PENTAVISION, NEOWIZ MOBILE   \n",
       "\n",
       "           Publishers       Playable On            Genres                  NA  \\\n",
       "41218     AKSYS GAMES  PLAYSTATION VITA      VISUAL NOVEL      April 27, 2018   \n",
       "10447             NaN                PC  ACTION, PLATFORM                 NaN   \n",
       "32263      MANGAGAMER                PC         ADVENTURE       July 08, 2016   \n",
       "9828   OCEAN SOFTWARE      COMMODORE 64      SHOOT 'EM UP                1987   \n",
       "2361      PENTAVISION  PLAYSTATION VITA      MUSIC/RHYTHM   December 04, 2012   \n",
       "\n",
       "        EU                   JP          Updated  \n",
       "41218  NaN                  NaN      3 Weeks Ago  \n",
       "10447  NaN                  NaN     6 Months Ago  \n",
       "32263  NaN                  NaN      2 Weeks Ago  \n",
       "9828   NaN                  NaN     4.5 Days Ago  \n",
       "2361   NaN   September 27, 2012   3.5 Months Ago  "
      ]
     },
     "execution_count": 26,
     "metadata": {},
     "output_type": "execute_result"
    }
   ],
   "source": [
    "top_100.head()"
   ]
  },
  {
   "cell_type": "markdown",
   "metadata": {},
   "source": [
    "### Como se distribuyen segun el largo de los mismos (sobre la variable Main Story)"
   ]
  },
  {
   "cell_type": "code",
   "execution_count": 37,
   "metadata": {},
   "outputs": [
    {
     "data": {
      "text/html": [
       "<iframe id=\"igraph\" scrolling=\"no\" style=\"border:none;\" seamless=\"seamless\" src=\"https://plot.ly/~raharari/27.embed\" height=\"525px\" width=\"100%\"></iframe>"
      ],
      "text/plain": [
       "<plotly.tools.PlotlyDisplay object>"
      ]
     },
     "execution_count": 37,
     "metadata": {},
     "output_type": "execute_result"
    }
   ],
   "source": [
    "data = [go.Histogram(x=top_100['Main Story'].dropna(), nbinsx= 10)]\n",
    "\n",
    "layout = go.Layout(\n",
    "    title='100 Mejores Juegos',\n",
    "    xaxis=dict(\n",
    "        title='Main Story (hs)'\n",
    "    ),\n",
    "    yaxis=dict(\n",
    "        title='Cantidad'\n",
    "    ))\n",
    "\n",
    "fig = go.Figure(data=data, layout=layout)\n",
    "py.iplot(fig, filename='basic histogram')"
   ]
  },
  {
   "cell_type": "markdown",
   "metadata": {},
   "source": [
    "## Cuales son los 100 peores titulos?"
   ]
  },
  {
   "cell_type": "code",
   "execution_count": 10,
   "metadata": {},
   "outputs": [],
   "source": [
    "#Me quedo con los que tienen Main Story completo\n",
    "worst_100 = df.dropna(subset=['Main Story'])\n",
    "worst_100 = worst_100.sort_values('Rating', ascending=True)[0:100]"
   ]
  },
  {
   "cell_type": "code",
   "execution_count": 47,
   "metadata": {},
   "outputs": [
    {
     "data": {
      "text/html": [
       "<div>\n",
       "<style scoped>\n",
       "    .dataframe tbody tr th:only-of-type {\n",
       "        vertical-align: middle;\n",
       "    }\n",
       "\n",
       "    .dataframe tbody tr th {\n",
       "        vertical-align: top;\n",
       "    }\n",
       "\n",
       "    .dataframe thead th {\n",
       "        text-align: right;\n",
       "    }\n",
       "</style>\n",
       "<table border=\"1\" class=\"dataframe\">\n",
       "  <thead>\n",
       "    <tr style=\"text-align: right;\">\n",
       "      <th></th>\n",
       "      <th>Id</th>\n",
       "      <th>Titulo</th>\n",
       "      <th>Main Story</th>\n",
       "      <th>Main + Extras</th>\n",
       "      <th>Completionist</th>\n",
       "      <th>All Styles</th>\n",
       "      <th>Rating</th>\n",
       "      <th>Developers</th>\n",
       "      <th>Publishers</th>\n",
       "      <th>Playable On</th>\n",
       "      <th>Genres</th>\n",
       "      <th>NA</th>\n",
       "      <th>EU</th>\n",
       "      <th>JP</th>\n",
       "      <th>Updated</th>\n",
       "    </tr>\n",
       "  </thead>\n",
       "  <tbody>\n",
       "    <tr>\n",
       "      <th>31711</th>\n",
       "      <td>40686</td>\n",
       "      <td>Fantastic Checkers 2</td>\n",
       "      <td>0.25</td>\n",
       "      <td>NaN</td>\n",
       "      <td>1.0</td>\n",
       "      <td>0.63</td>\n",
       "      <td>10.0</td>\n",
       "      <td>ENSENASOFT</td>\n",
       "      <td>ENSENASOFT</td>\n",
       "      <td>PC</td>\n",
       "      <td>BOARD GAME</td>\n",
       "      <td>August 19, 2016</td>\n",
       "      <td>NaN</td>\n",
       "      <td>NaN</td>\n",
       "      <td>1 Week Ago</td>\n",
       "    </tr>\n",
       "    <tr>\n",
       "      <th>25660</th>\n",
       "      <td>32139</td>\n",
       "      <td>Shrek: Swamp Kart Speedway</td>\n",
       "      <td>0.68</td>\n",
       "      <td>NaN</td>\n",
       "      <td>NaN</td>\n",
       "      <td>0.68</td>\n",
       "      <td>10.0</td>\n",
       "      <td>NaN</td>\n",
       "      <td>TDK</td>\n",
       "      <td>NaN</td>\n",
       "      <td>NaN</td>\n",
       "      <td>2002</td>\n",
       "      <td>NaN</td>\n",
       "      <td>NaN</td>\n",
       "      <td>7 Months Ago</td>\n",
       "    </tr>\n",
       "    <tr>\n",
       "      <th>19084</th>\n",
       "      <td>23311</td>\n",
       "      <td>Spartans Vs Zombies Defense</td>\n",
       "      <td>4.00</td>\n",
       "      <td>NaN</td>\n",
       "      <td>NaN</td>\n",
       "      <td>4.00</td>\n",
       "      <td>10.0</td>\n",
       "      <td>YFC GAMES</td>\n",
       "      <td>YFC GAMES</td>\n",
       "      <td>PC</td>\n",
       "      <td>ACTION, STRATEGY</td>\n",
       "      <td>January 06, 2015</td>\n",
       "      <td>January 06, 2015</td>\n",
       "      <td>NaN</td>\n",
       "      <td>4.5 Months Ago</td>\n",
       "    </tr>\n",
       "    <tr>\n",
       "      <th>4039</th>\n",
       "      <td>4588</td>\n",
       "      <td>Ibara</td>\n",
       "      <td>2.50</td>\n",
       "      <td>14.0</td>\n",
       "      <td>NaN</td>\n",
       "      <td>7.00</td>\n",
       "      <td>10.0</td>\n",
       "      <td>CAVE</td>\n",
       "      <td>AMI, TAITO CORPORATION</td>\n",
       "      <td>PLAYSTATION 2</td>\n",
       "      <td>SCROLLING, SHOOTER</td>\n",
       "      <td>NaN</td>\n",
       "      <td>NaN</td>\n",
       "      <td>July 15, 2005</td>\n",
       "      <td>6 Days Ago</td>\n",
       "    </tr>\n",
       "    <tr>\n",
       "      <th>8490</th>\n",
       "      <td>9700</td>\n",
       "      <td>Terminator 3: War of the Machines</td>\n",
       "      <td>3.00</td>\n",
       "      <td>NaN</td>\n",
       "      <td>7.0</td>\n",
       "      <td>5.00</td>\n",
       "      <td>10.0</td>\n",
       "      <td>CLEVER'S GAMES</td>\n",
       "      <td>ATARI</td>\n",
       "      <td>PC</td>\n",
       "      <td>FIRST-PERSON, SHOOTER</td>\n",
       "      <td>December 02, 2003</td>\n",
       "      <td>November 28, 2003</td>\n",
       "      <td>April 12, 2004</td>\n",
       "      <td>8 Months Ago</td>\n",
       "    </tr>\n",
       "  </tbody>\n",
       "</table>\n",
       "</div>"
      ],
      "text/plain": [
       "          Id                             Titulo  Main Story  Main + Extras  \\\n",
       "31711  40686               Fantastic Checkers 2        0.25            NaN   \n",
       "25660  32139         Shrek: Swamp Kart Speedway        0.68            NaN   \n",
       "19084  23311        Spartans Vs Zombies Defense        4.00            NaN   \n",
       "4039    4588                              Ibara        2.50           14.0   \n",
       "8490    9700  Terminator 3: War of the Machines        3.00            NaN   \n",
       "\n",
       "       Completionist  All Styles  Rating      Developers  \\\n",
       "31711            1.0        0.63    10.0      ENSENASOFT   \n",
       "25660            NaN        0.68    10.0             NaN   \n",
       "19084            NaN        4.00    10.0       YFC GAMES   \n",
       "4039             NaN        7.00    10.0            CAVE   \n",
       "8490             7.0        5.00    10.0  CLEVER'S GAMES   \n",
       "\n",
       "                   Publishers    Playable On                 Genres  \\\n",
       "31711              ENSENASOFT             PC             BOARD GAME   \n",
       "25660                     TDK            NaN                    NaN   \n",
       "19084               YFC GAMES             PC       ACTION, STRATEGY   \n",
       "4039   AMI, TAITO CORPORATION  PLAYSTATION 2     SCROLLING, SHOOTER   \n",
       "8490                    ATARI             PC  FIRST-PERSON, SHOOTER   \n",
       "\n",
       "                       NA                  EU               JP  \\\n",
       "31711     August 19, 2016                 NaN              NaN   \n",
       "25660                2002                 NaN              NaN   \n",
       "19084    January 06, 2015    January 06, 2015              NaN   \n",
       "4039                  NaN                 NaN    July 15, 2005   \n",
       "8490    December 02, 2003   November 28, 2003   April 12, 2004   \n",
       "\n",
       "               Updated  \n",
       "31711       1 Week Ago  \n",
       "25660     7 Months Ago  \n",
       "19084   4.5 Months Ago  \n",
       "4039        6 Days Ago  \n",
       "8490      8 Months Ago  "
      ]
     },
     "execution_count": 47,
     "metadata": {},
     "output_type": "execute_result"
    }
   ],
   "source": [
    "worst_100.head()"
   ]
  },
  {
   "cell_type": "markdown",
   "metadata": {},
   "source": [
    "### Como se distribuyen segun el largo de los mismos (sobre la variable Main Story)"
   ]
  },
  {
   "cell_type": "code",
   "execution_count": 44,
   "metadata": {},
   "outputs": [
    {
     "data": {
      "text/html": [
       "<iframe id=\"igraph\" scrolling=\"no\" style=\"border:none;\" seamless=\"seamless\" src=\"https://plot.ly/~raharari/27.embed\" height=\"525px\" width=\"100%\"></iframe>"
      ],
      "text/plain": [
       "<plotly.tools.PlotlyDisplay object>"
      ]
     },
     "execution_count": 44,
     "metadata": {},
     "output_type": "execute_result"
    }
   ],
   "source": [
    "data = [go.Histogram(x=worst_100['Main Story'].dropna(), nbinsx= 10)]\n",
    "\n",
    "layout = go.Layout(\n",
    "    title='100 Peores Juegos',\n",
    "    xaxis=dict(\n",
    "        title='Main Story (hs)'\n",
    "    ),\n",
    "    yaxis=dict(\n",
    "        title='Cantidad'\n",
    "    ))\n",
    "\n",
    "fig = go.Figure(data=data, layout=layout)\n",
    "py.iplot(fig, filename='basic histogram')"
   ]
  },
  {
   "cell_type": "markdown",
   "metadata": {},
   "source": [
    "Como se puede ver, los resultados reflejan lo que habiamos visto anteriormente en la matriz de correlacion, si bien pareceria que los juegos con mayor Rating en lineas generales tienen una duracion mayor que los juegos con peor Rating."
   ]
  },
  {
   "cell_type": "code",
   "execution_count": null,
   "metadata": {},
   "outputs": [],
   "source": []
  },
  {
   "cell_type": "code",
   "execution_count": null,
   "metadata": {},
   "outputs": [],
   "source": []
  },
  {
   "cell_type": "code",
   "execution_count": null,
   "metadata": {},
   "outputs": [],
   "source": []
  },
  {
   "cell_type": "code",
   "execution_count": null,
   "metadata": {},
   "outputs": [],
   "source": []
  },
  {
   "cell_type": "code",
   "execution_count": null,
   "metadata": {},
   "outputs": [],
   "source": []
  },
  {
   "cell_type": "markdown",
   "metadata": {},
   "source": [
    "# Modelado"
   ]
  },
  {
   "cell_type": "markdown",
   "metadata": {},
   "source": [
    "El objetivo de este trabajo es poder crear un modelo predictivo, que a partir de la informacion de un juego, como su Developer, Publisher, Genero, etc; pueda determinar un rating entre 0 y 100.<br>\n",
    "Nos interesa especialmente que el modelo pueda acomodarse a valores faltantes en algunos de los campos, para lo cual vamos a utilizar XGBoost.<br>\n",
    "Al mismo tiempo, vamos a plantear otro modelos de regresion para datasets completos y comparar la performance de ambos."
   ]
  },
  {
   "cell_type": "markdown",
   "metadata": {},
   "source": [
    "Para poder proveerle la data al modelo, necesitamos que las columnas que tienen mas de un valor (como Genres) sean transformadas en dummies. <br>\n",
    "Para eso vamos a definir una funcion que itere sobre las columnas correspondientes, y extraiga todos los valores unicos, para luego crear una columna por cada uno de esos valores y completarla con 1 o 0 dependiendo si pertenece a esa clase o no."
   ]
  },
  {
   "cell_type": "markdown",
   "metadata": {},
   "source": [
    "## Defino una funcion para separar los atributos multiclase"
   ]
  },
  {
   "cell_type": "code",
   "execution_count": 30,
   "metadata": {},
   "outputs": [],
   "source": [
    "def splitter(dataframe_atributos, columna, dataframe_mapeo):\n",
    "    #Import de itertools para chainear los valores\n",
    "    import itertools\n",
    "    #Genero lista con los valores unicos y lista vacia para ir llenando\n",
    "    valores_unicos = dataframe_atributos[columna].unique()\n",
    "    valores_individuales = []\n",
    "    for x in valores_unicos:\n",
    "        if type(x) == str:\n",
    "            valores_individuales.append(x.split(','))\n",
    "        else:\n",
    "            pass\n",
    "    valores_individuales = list(itertools.chain.from_iterable(valores_individuales))\n",
    "    \n",
    "    #Elimino los espacios al principio y me quedo con los valores unicos\n",
    "    atributo = []\n",
    "    for i in range(len(valores_individuales)):\n",
    "        att = valores_individuales[i].lstrip()\n",
    "        atributo.append(att)\n",
    "    valores_individuales = set(atributo)\n",
    "    \n",
    "    #Genero un diccionario con llave cada valor unico, y valor la lista de unos y ceros\n",
    "    diccionario = {}\n",
    "\n",
    "    for z in valores_individuales:\n",
    "        lista = []\n",
    "        for y in range(len(dataframe_mapeo)):\n",
    "            try:\n",
    "                if dataframe_mapeo[columna][y].find(z) != -1:\n",
    "                    lista.append(1)\n",
    "                else:\n",
    "                    lista.append(0)\n",
    "            except:\n",
    "                lista.append(0)\n",
    "        diccionario[z] = lista\n",
    "    return diccionario"
   ]
  },
  {
   "cell_type": "markdown",
   "metadata": {},
   "source": [
    "### Generos y Playable On"
   ]
  },
  {
   "cell_type": "code",
   "execution_count": 31,
   "metadata": {},
   "outputs": [
    {
     "name": "stdout",
     "output_type": "stream",
     "text": [
      "Wall time: 4min 19s\n"
     ]
    }
   ],
   "source": [
    "%%time\n",
    "#Utilizo la funcion para generar un diccionario con los generos, y sus valores segun cada fila del df original\n",
    "dict_generos = splitter(df,'Genres',df)\n",
    "\n",
    "#Utilizo la funcion para generar un diccionario con las consolas, y sus valores segun cada fila del df original\n",
    "dict_consolas = splitter(df,'Playable On',df)"
   ]
  },
  {
   "cell_type": "code",
   "execution_count": 32,
   "metadata": {},
   "outputs": [],
   "source": [
    "#Transformo esos diccionarios en dataframes para despues appendarlos al df original\n",
    "\n",
    "df_consolas = pd.DataFrame(dict_consolas)\n",
    "df_generos = pd.DataFrame(dict_generos)\n",
    "\n",
    "df_consolas = df_consolas.drop(columns = '') #Esta columna se genero demas al momento de correr la funcion splitter\n",
    "\n",
    "#Genero prefijo para las columnas\n",
    "df_consolas = df_consolas.add_prefix('console_')\n",
    "df_generos = df_generos.add_prefix('gen_')"
   ]
  },
  {
   "cell_type": "code",
   "execution_count": 68,
   "metadata": {},
   "outputs": [
    {
     "name": "stdout",
     "output_type": "stream",
     "text": [
      "<class 'pandas.core.frame.DataFrame'>\n",
      "RangeIndex: 48157 entries, 0 to 48156\n",
      "Data columns (total 70 columns):\n",
      "3DO                        48157 non-null int64\n",
      "AMIGA                      48157 non-null int64\n",
      "AMSTRAD CPC                48157 non-null int64\n",
      "ANDROID                    48157 non-null int64\n",
      "APPLE II                   48157 non-null int64\n",
      "ARCADE                     48157 non-null int64\n",
      "ATARI 2600                 48157 non-null int64\n",
      "ATARI 5200                 48157 non-null int64\n",
      "ATARI 7800                 48157 non-null int64\n",
      "ATARI JAGUAR               48157 non-null int64\n",
      "ATARI LYNX                 48157 non-null int64\n",
      "ATARI ST                   48157 non-null int64\n",
      "BROWSER                    48157 non-null int64\n",
      "COMMODORE 64               48157 non-null int64\n",
      "DREAMCAST                  48157 non-null int64\n",
      "FM TOWNS                   48157 non-null int64\n",
      "GAME BOY                   48157 non-null int64\n",
      "GAME BOY ADVANCE           48157 non-null int64\n",
      "GAME BOY COLOR             48157 non-null int64\n",
      "HTC VIVE                   48157 non-null int64\n",
      "INTELLIVISION              48157 non-null int64\n",
      "IOS                        48157 non-null int64\n",
      "LINUX                      48157 non-null int64\n",
      "MAC                        48157 non-null int64\n",
      "MOBILE                     48157 non-null int64\n",
      "MSX                        48157 non-null int64\n",
      "N-GAGE                     48157 non-null int64\n",
      "NEO GEO                    48157 non-null int64\n",
      "NEO GEO CD                 48157 non-null int64\n",
      "NEO GEO POCKET COLOR       48157 non-null int64\n",
      "NES                        48157 non-null int64\n",
      "NINTENDO 2DS               48157 non-null int64\n",
      "NINTENDO 3DS               48157 non-null int64\n",
      "NINTENDO 64                48157 non-null int64\n",
      "NINTENDO DS                48157 non-null int64\n",
      "NINTENDO GAMECUBE          48157 non-null int64\n",
      "NINTENDO SWITCH            48157 non-null int64\n",
      "OCULUS GO                  48157 non-null int64\n",
      "OCULUS RIFT                48157 non-null int64\n",
      "ONLIVE                     48157 non-null int64\n",
      "OUYA                       48157 non-null int64\n",
      "PC                         48157 non-null int64\n",
      "PHILIPS CD-I               48157 non-null int64\n",
      "PLAYSTATION                48157 non-null int64\n",
      "PLAYSTATION 2              48157 non-null int64\n",
      "PLAYSTATION 3              48157 non-null int64\n",
      "PLAYSTATION 4              48157 non-null int64\n",
      "PLAYSTATION NOW            48157 non-null int64\n",
      "PLAYSTATION VITA           48157 non-null int64\n",
      "PLAYSTATION VR             48157 non-null int64\n",
      "PSP                        48157 non-null int64\n",
      "SEGA 32X                   48157 non-null int64\n",
      "SEGA CD                    48157 non-null int64\n",
      "SEGA GAME GEAR             48157 non-null int64\n",
      "SEGA MASTER SYSTEM         48157 non-null int64\n",
      "SEGA MEGA DRIVE/GENESIS    48157 non-null int64\n",
      "SEGA SATURN                48157 non-null int64\n",
      "SHARP X68000               48157 non-null int64\n",
      "SUPER NINTENDO             48157 non-null int64\n",
      "TURBOGRAFX-16              48157 non-null int64\n",
      "TURBOGRAFX-CD              48157 non-null int64\n",
      "VIRTUAL BOY                48157 non-null int64\n",
      "WII                        48157 non-null int64\n",
      "WII U                      48157 non-null int64\n",
      "WINDOWS PHONE              48157 non-null int64\n",
      "WONDERSWAN                 48157 non-null int64\n",
      "XBOX                       48157 non-null int64\n",
      "XBOX 360                   48157 non-null int64\n",
      "XBOX ONE                   48157 non-null int64\n",
      "ZX SPECTRUM                48157 non-null int64\n",
      "dtypes: int64(70)\n",
      "memory usage: 25.7 MB\n"
     ]
    }
   ],
   "source": [
    "df_consolas.info()"
   ]
  },
  {
   "cell_type": "code",
   "execution_count": 67,
   "metadata": {},
   "outputs": [
    {
     "name": "stdout",
     "output_type": "stream",
     "text": [
      "<class 'pandas.core.frame.DataFrame'>\n",
      "RangeIndex: 48157 entries, 0 to 48156\n",
      "Columns: 354 entries, 2.5D PLATFORM GAME to WRESTLING\n",
      "dtypes: int64(354)\n",
      "memory usage: 130.1 MB\n"
     ]
    }
   ],
   "source": [
    "df_generos.info()"
   ]
  },
  {
   "cell_type": "markdown",
   "metadata": {},
   "source": [
    "### Developers y Publishers"
   ]
  },
  {
   "cell_type": "markdown",
   "metadata": {},
   "source": [
    "Al tener una lista tan larga de valores unicos en cada una de estas columnas (alrededor de 14.000), para no estirar demasiado horizontalmente el dataframe que vamos a utilizar para modelar, solo vamos a tomar los Developers y Publishers de los 100 mejores y los 100 peores juegos que clasificamos anteriormente."
   ]
  },
  {
   "cell_type": "markdown",
   "metadata": {},
   "source": [
    "Para obtener esos valores unicos y mapearlos al dataframe original, vamos a tener que utilizar la funcion splitter, pero cuidando de identificar correctamente cada uno de los dataframes que toman parte de la funcion"
   ]
  },
  {
   "cell_type": "markdown",
   "metadata": {},
   "source": [
    "## Prueba con order by"
   ]
  },
  {
   "cell_type": "code",
   "execution_count": 11,
   "metadata": {},
   "outputs": [
    {
     "name": "stdout",
     "output_type": "stream",
     "text": [
      "Wall time: 2min 28s\n"
     ]
    }
   ],
   "source": [
    "%%time\n",
    "#Utilizo la funcion para generar un diccionario con los Publishers, y sus valores segun cada fila del df original\n",
    "dict_top_publishers = splitter(top_100,'Publishers',df)\n",
    "dict_worst_publishers = splitter(worst_100,'Publishers',df)\n",
    "\n",
    "#Utilizo la funcion para generar un diccionario con los Developers, y sus valores segun cada fila del df original\n",
    "dict_top_developers = splitter(top_100,'Developers',df)\n",
    "dict_worst_developers = splitter(worst_100,'Developers',df)"
   ]
  },
  {
   "cell_type": "markdown",
   "metadata": {},
   "source": [
    "## Prueba con group by"
   ]
  },
  {
   "cell_type": "code",
   "execution_count": 39,
   "metadata": {},
   "outputs": [
    {
     "name": "stdout",
     "output_type": "stream",
     "text": [
      "Wall time: 4min 49s\n"
     ]
    }
   ],
   "source": [
    "%%time\n",
    "#Utilizo la funcion para generar un diccionario con los Publishers, y sus valores segun cada fila del df original\n",
    "dict_top_publishers = splitter(top100_pubs_grouped,'Publishers',df)\n",
    "dict_worst_publishers = splitter(worst100_pubs_grouped,'Publishers',df)\n",
    "\n",
    "#Utilizo la funcion para generar un diccionario con los Developers, y sus valores segun cada fila del df original\n",
    "dict_top_developers = splitter(top100_devs_grouped,'Developers',df)\n",
    "dict_worst_developers = splitter(worst100_devs_grouped,'Developers',df)"
   ]
  },
  {
   "cell_type": "code",
   "execution_count": 40,
   "metadata": {},
   "outputs": [],
   "source": [
    "# Genero un dataframe para cada uno de los diccionarios\n",
    "df1_pub = pd.DataFrame(dict_top_publishers)\n",
    "df2_pub = pd.DataFrame(dict_worst_publishers)\n",
    "df1_dev = pd.DataFrame(dict_top_developers)\n",
    "df2_dev = pd.DataFrame(dict_worst_developers)"
   ]
  },
  {
   "cell_type": "code",
   "execution_count": 41,
   "metadata": {},
   "outputs": [],
   "source": [
    "# Armo una lista con los Publishers que figuran en ambos df\n",
    "cols_a_eliminar_pub = []\n",
    "for col1 in df1_pub.columns:\n",
    "    for col2 in df2_pub.columns:\n",
    "        if col1 == col2:\n",
    "            cols_a_eliminar_pub.append(col2)\n",
    "        else:\n",
    "            pass\n",
    "        \n",
    "        \n",
    "# Armo una lista con los Developers que figuran en ambos df\n",
    "cols_a_eliminar_dev = []\n",
    "for col1 in df1_dev.columns:\n",
    "    for col2 in df2_dev.columns:\n",
    "        if col1 == col2:\n",
    "            cols_a_eliminar_dev.append(col2)\n",
    "        else:\n",
    "            pass"
   ]
  },
  {
   "cell_type": "code",
   "execution_count": 42,
   "metadata": {},
   "outputs": [],
   "source": [
    "#Combino ambos dataframes, quedandome con las columnas unicas\n",
    "df_developers = pd.concat([df1_dev,df2_dev.drop(columns = cols_a_eliminar_dev)], axis = 1)\n",
    "df_publishers = pd.concat([df1_pub,df2_pub.drop(columns = cols_a_eliminar_pub)], axis = 1)"
   ]
  },
  {
   "cell_type": "markdown",
   "metadata": {},
   "source": [
    "Ya que hay Publishers que tambien son Developers, vamos a agregarle un prefijo a las columnas de cada Dataframe"
   ]
  },
  {
   "cell_type": "code",
   "execution_count": 43,
   "metadata": {},
   "outputs": [],
   "source": [
    "#Le agrego un prefijo a las columnas\n",
    "df_publishers = df_publishers.add_prefix('pub_')\n",
    "df_developers = df_developers.add_prefix('dev_')"
   ]
  },
  {
   "cell_type": "code",
   "execution_count": 44,
   "metadata": {},
   "outputs": [],
   "source": [
    "# Junto todo\n",
    "df_copia = df\n",
    "\n",
    "df = df.drop(['Developers','Publishers','Playable On','Genres','NA','EU','JP','Updated'], axis = 1)\n",
    "\n",
    "df = pd.concat([df, df_consolas, df_generos, df_developers, df_publishers], axis = 1)"
   ]
  },
  {
   "cell_type": "code",
   "execution_count": 70,
   "metadata": {},
   "outputs": [],
   "source": []
  },
  {
   "cell_type": "code",
   "execution_count": 43,
   "metadata": {},
   "outputs": [],
   "source": [
    "#Seteamos el indice \n",
    "df = df.set_index(df['Id'])\n",
    "df = df.drop(columns='Id')"
   ]
  },
  {
   "cell_type": "markdown",
   "metadata": {},
   "source": [
    "## XGBoost"
   ]
  },
  {
   "cell_type": "code",
   "execution_count": 45,
   "metadata": {},
   "outputs": [],
   "source": [
    "import xgboost as xgb\n",
    "from sklearn.model_selection import GridSearchCV\n",
    "from sklearn.model_selection import train_test_split\n",
    "from sklearn.preprocessing import StandardScaler\n",
    "from sklearn.metrics import confusion_matrix\n",
    "from sklearn.metrics import accuracy_score\n",
    "from sklearn.metrics import recall_score\n",
    "from sklearn.metrics import precision_score\n",
    "from sklearn.metrics import f1_score\n",
    "from sklearn.metrics import mean_squared_error"
   ]
  },
  {
   "cell_type": "code",
   "execution_count": 46,
   "metadata": {},
   "outputs": [],
   "source": [
    "#Seteamos el indice \n",
    "df = df.set_index(df['Id'])\n",
    "df = df.drop(columns='Id')"
   ]
  },
  {
   "cell_type": "code",
   "execution_count": 47,
   "metadata": {},
   "outputs": [],
   "source": [
    "#Elimino las observaciones que no tienen completa la variable objetivo\n",
    "df = df.dropna(subset = ['Rating'])"
   ]
  },
  {
   "cell_type": "code",
   "execution_count": 48,
   "metadata": {},
   "outputs": [],
   "source": [
    "#Separo la matriz de features y la variable objetivo\n",
    "X =  df.drop(['Titulo','Rating'], axis = 1)\n",
    "y = df['Rating']"
   ]
  },
  {
   "cell_type": "code",
   "execution_count": 49,
   "metadata": {},
   "outputs": [],
   "source": [
    "#Separo en Train y Test\n",
    "X_train, X_test, y_train, y_test = train_test_split(X, y, test_size=0.25, random_state=1)"
   ]
  },
  {
   "cell_type": "code",
   "execution_count": 50,
   "metadata": {},
   "outputs": [],
   "source": [
    "#Instancio el Clasificador de XGBoost\n",
    "xg_reg = xgb.XGBRegressor(max_depth=3, learning_rate=0.1, n_estimators=100, silent=True, objective='reg:linear',\\\n",
    "                           booster='gbtree', n_jobs=-1)"
   ]
  },
  {
   "cell_type": "code",
   "execution_count": 51,
   "metadata": {},
   "outputs": [
    {
     "name": "stdout",
     "output_type": "stream",
     "text": [
      "Wall time: 23.5 s\n"
     ]
    }
   ],
   "source": [
    "%%time\n",
    "#Fiteo el modelo\n",
    "xg_reg.fit(X_train,y_train)\n",
    "\n",
    "#Predicciones\n",
    "preds = xg_reg.predict(X_test)"
   ]
  },
  {
   "cell_type": "code",
   "execution_count": 52,
   "metadata": {},
   "outputs": [
    {
     "data": {
      "text/plain": [
       "0.19829676777758645"
      ]
     },
     "execution_count": 52,
     "metadata": {},
     "output_type": "execute_result"
    }
   ],
   "source": [
    "#Score\n",
    "xg_reg.score(X_test, y_test)"
   ]
  },
  {
   "cell_type": "markdown",
   "metadata": {},
   "source": [
    "### Como podemos mejorar el score?"
   ]
  },
  {
   "cell_type": "markdown",
   "metadata": {},
   "source": [
    "# XGBoost + GridSearch"
   ]
  },
  {
   "cell_type": "code",
   "execution_count": 81,
   "metadata": {},
   "outputs": [],
   "source": [
    "# Definimos una lista de hiperparametros a tunear\n",
    "l2_reg_range = [3,5,7,10]\n",
    "profundidad = [2,4,6,8,10]\n",
    "learn_rate = [0.01,0.03,0.1]"
   ]
  },
  {
   "cell_type": "code",
   "execution_count": 82,
   "metadata": {},
   "outputs": [
    {
     "name": "stdout",
     "output_type": "stream",
     "text": [
      "{'reg_lambda': [3, 5, 7, 10], 'max_depth': [2, 4, 6, 8, 10], 'learning_rate': [0.01, 0.03, 0.1]}\n"
     ]
    }
   ],
   "source": [
    "#Generamos la grilla para GridSearch\n",
    "param_grid = dict(reg_lambda = l2_reg_range, max_depth=profundidad, learning_rate = learn_rate)\n",
    "print(param_grid)"
   ]
  },
  {
   "cell_type": "code",
   "execution_count": null,
   "metadata": {},
   "outputs": [],
   "source": [
    "%%time\n",
    "# Instanciamos el modelo de XGBoost con los parametros de GridSearch y un cross validation de 5 folds\n",
    "xgb_regressor = xgb.XGBRegressor(n_estimators=100, silent=True, objective='reg:linear',booster='gbtree', n_jobs=-1)\n",
    "xgb_gs = GridSearchCV(xgb_regressor, param_grid, cv = 5)\n",
    "xgb_gs.fit(X_train, y_train)"
   ]
  },
  {
   "cell_type": "code",
   "execution_count": 50,
   "metadata": {},
   "outputs": [
    {
     "data": {
      "text/plain": [
       "(XGBRegressor(base_score=0.5, booster='gbtree', colsample_bylevel=1,\n",
       "        colsample_bytree=1, gamma=0, learning_rate=0.1, max_delta_step=0,\n",
       "        max_depth=6, min_child_weight=1, missing=None, n_estimators=100,\n",
       "        n_jobs=-1, nthread=None, objective='reg:linear', random_state=0,\n",
       "        reg_alpha=0, reg_lambda=10, scale_pos_weight=1, seed=None,\n",
       "        silent=True, subsample=1),\n",
       " 0.20413076439456873,\n",
       " {'learning_rate': 0.1, 'max_depth': 6, 'reg_lambda': 10})"
      ]
     },
     "execution_count": 50,
     "metadata": {},
     "output_type": "execute_result"
    }
   ],
   "source": [
    "#Vemos los parametros del mejor modelo\n",
    "xgb_gs.best_estimator_, xgb_gs.best_score_, xgb_gs.best_params_"
   ]
  },
  {
   "cell_type": "markdown",
   "metadata": {},
   "source": [
    "## Utilizamos el mejor modelo para entrenar"
   ]
  },
  {
   "cell_type": "code",
   "execution_count": 51,
   "metadata": {},
   "outputs": [
    {
     "data": {
      "text/plain": [
       "XGBRegressor(base_score=0.5, booster='gbtree', colsample_bylevel=1,\n",
       "       colsample_bytree=1, gamma=0, learning_rate=0.1, max_delta_step=0,\n",
       "       max_depth=6, min_child_weight=1, missing=None, n_estimators=100,\n",
       "       n_jobs=-1, nthread=None, objective='reg:linear', random_state=0,\n",
       "       reg_alpha=0, reg_lambda=10, scale_pos_weight=1, seed=None,\n",
       "       silent=True, subsample=1)"
      ]
     },
     "execution_count": 51,
     "metadata": {},
     "output_type": "execute_result"
    }
   ],
   "source": [
    "xgb_best = xgb.XGBRegressor(n_estimators=100, silent=True, objective='reg:linear',booster='gbtree', n_jobs=-1, \\\n",
    "                           learning_rate = 0.1, max_depth=6,reg_lambda=10)\n",
    "xgb_best.fit(X_train, y_train)"
   ]
  },
  {
   "cell_type": "code",
   "execution_count": 53,
   "metadata": {},
   "outputs": [
    {
     "data": {
      "text/plain": [
       "0.20613014421766385"
      ]
     },
     "execution_count": 53,
     "metadata": {},
     "output_type": "execute_result"
    }
   ],
   "source": [
    "xgb_best.score(X_test, y_test)"
   ]
  },
  {
   "cell_type": "code",
   "execution_count": null,
   "metadata": {},
   "outputs": [],
   "source": []
  },
  {
   "cell_type": "markdown",
   "metadata": {},
   "source": [
    "## CatBoost"
   ]
  },
  {
   "cell_type": "code",
   "execution_count": 36,
   "metadata": {},
   "outputs": [],
   "source": [
    "from catboost import CatBoostRegressor\n",
    "from sklearn.model_selection import GridSearchCV\n",
    "import warnings\n",
    "warnings.filterwarnings('ignore')"
   ]
  },
  {
   "cell_type": "code",
   "execution_count": 41,
   "metadata": {},
   "outputs": [],
   "source": [
    "#Separo la matriz de features y la variable objetivo\n",
    "X_cb =  df.drop(['Titulo','Rating','Developers','Publishers','NA','EU','JP','Updated'], axis = 1)\n",
    "y_cb = df['Rating'].astype(int)"
   ]
  },
  {
   "cell_type": "code",
   "execution_count": 43,
   "metadata": {},
   "outputs": [],
   "source": [
    "#Separo en Train y Test\n",
    "X_train_cb, X_test_cb, y_train_cb, y_test_cb = train_test_split(X_cb, y_cb, test_size=0.25, random_state=1)"
   ]
  },
  {
   "cell_type": "code",
   "execution_count": 44,
   "metadata": {},
   "outputs": [],
   "source": [
    "cb_model = CatBoostRegressor(iterations=100, learning_rate=0.1, depth=3, l2_leaf_reg=7, loss_function='RMSE')"
   ]
  },
  {
   "cell_type": "code",
   "execution_count": 45,
   "metadata": {},
   "outputs": [
    {
     "name": "stdout",
     "output_type": "stream",
     "text": [
      "0:\tlearn: 59.5222746\ttotal: 16.1ms\tremaining: 1.59s\n",
      "1:\tlearn: 54.1467145\ttotal: 28.4ms\tremaining: 1.39s\n",
      "2:\tlearn: 49.3646450\ttotal: 41.8ms\tremaining: 1.35s\n",
      "3:\tlearn: 45.1198757\ttotal: 53.8ms\tremaining: 1.29s\n",
      "4:\tlearn: 41.3022939\ttotal: 67.9ms\tremaining: 1.29s\n",
      "5:\tlearn: 37.9101091\ttotal: 82.4ms\tremaining: 1.29s\n",
      "6:\tlearn: 34.9292373\ttotal: 95ms\tremaining: 1.26s\n",
      "7:\tlearn: 32.3601524\ttotal: 107ms\tremaining: 1.23s\n",
      "8:\tlearn: 30.0935479\ttotal: 119ms\tremaining: 1.21s\n",
      "9:\tlearn: 28.0583158\ttotal: 134ms\tremaining: 1.2s\n",
      "10:\tlearn: 26.3177230\ttotal: 147ms\tremaining: 1.19s\n",
      "11:\tlearn: 24.7952239\ttotal: 163ms\tremaining: 1.2s\n",
      "12:\tlearn: 23.5436691\ttotal: 175ms\tremaining: 1.17s\n",
      "13:\tlearn: 22.4059498\ttotal: 188ms\tremaining: 1.16s\n",
      "14:\tlearn: 21.4457824\ttotal: 201ms\tremaining: 1.14s\n",
      "15:\tlearn: 20.6217964\ttotal: 217ms\tremaining: 1.14s\n",
      "16:\tlearn: 19.9150810\ttotal: 234ms\tremaining: 1.14s\n",
      "17:\tlearn: 19.3365551\ttotal: 249ms\tremaining: 1.13s\n",
      "18:\tlearn: 18.8524540\ttotal: 263ms\tremaining: 1.12s\n",
      "19:\tlearn: 18.4484806\ttotal: 278ms\tremaining: 1.11s\n",
      "20:\tlearn: 18.1053953\ttotal: 291ms\tremaining: 1.09s\n",
      "21:\tlearn: 17.8195866\ttotal: 305ms\tremaining: 1.08s\n",
      "22:\tlearn: 17.5806584\ttotal: 320ms\tremaining: 1.07s\n",
      "23:\tlearn: 17.3885381\ttotal: 333ms\tremaining: 1.05s\n",
      "24:\tlearn: 17.2184620\ttotal: 347ms\tremaining: 1.04s\n",
      "25:\tlearn: 17.0784291\ttotal: 361ms\tremaining: 1.03s\n",
      "26:\tlearn: 16.9665886\ttotal: 374ms\tremaining: 1.01s\n",
      "27:\tlearn: 16.8755425\ttotal: 388ms\tremaining: 998ms\n",
      "28:\tlearn: 16.7960459\ttotal: 402ms\tremaining: 985ms\n",
      "29:\tlearn: 16.7282976\ttotal: 417ms\tremaining: 973ms\n",
      "30:\tlearn: 16.6794043\ttotal: 432ms\tremaining: 961ms\n",
      "31:\tlearn: 16.6371092\ttotal: 446ms\tremaining: 948ms\n",
      "32:\tlearn: 16.5987802\ttotal: 460ms\tremaining: 934ms\n",
      "33:\tlearn: 16.5651006\ttotal: 475ms\tremaining: 922ms\n",
      "34:\tlearn: 16.5437665\ttotal: 487ms\tremaining: 904ms\n",
      "35:\tlearn: 16.5264965\ttotal: 499ms\tremaining: 888ms\n",
      "36:\tlearn: 16.5020871\ttotal: 514ms\tremaining: 875ms\n",
      "37:\tlearn: 16.4833012\ttotal: 527ms\tremaining: 860ms\n",
      "38:\tlearn: 16.4702574\ttotal: 540ms\tremaining: 844ms\n",
      "39:\tlearn: 16.4590663\ttotal: 552ms\tremaining: 827ms\n",
      "40:\tlearn: 16.4419031\ttotal: 567ms\tremaining: 816ms\n",
      "41:\tlearn: 16.4256793\ttotal: 582ms\tremaining: 804ms\n",
      "42:\tlearn: 16.4166806\ttotal: 595ms\tremaining: 789ms\n",
      "43:\tlearn: 16.4081392\ttotal: 608ms\tremaining: 774ms\n",
      "44:\tlearn: 16.4000140\ttotal: 624ms\tremaining: 762ms\n",
      "45:\tlearn: 16.3919964\ttotal: 639ms\tremaining: 750ms\n",
      "46:\tlearn: 16.3802359\ttotal: 656ms\tremaining: 740ms\n",
      "47:\tlearn: 16.3761473\ttotal: 669ms\tremaining: 725ms\n",
      "48:\tlearn: 16.3707875\ttotal: 683ms\tremaining: 711ms\n",
      "49:\tlearn: 16.3650826\ttotal: 699ms\tremaining: 699ms\n",
      "50:\tlearn: 16.3555713\ttotal: 716ms\tremaining: 688ms\n",
      "51:\tlearn: 16.3495730\ttotal: 731ms\tremaining: 675ms\n",
      "52:\tlearn: 16.3442396\ttotal: 748ms\tremaining: 663ms\n",
      "53:\tlearn: 16.3372095\ttotal: 761ms\tremaining: 649ms\n",
      "54:\tlearn: 16.3318209\ttotal: 776ms\tremaining: 635ms\n",
      "55:\tlearn: 16.3295449\ttotal: 791ms\tremaining: 622ms\n",
      "56:\tlearn: 16.3246618\ttotal: 806ms\tremaining: 608ms\n",
      "57:\tlearn: 16.3180369\ttotal: 823ms\tremaining: 596ms\n",
      "58:\tlearn: 16.3161417\ttotal: 840ms\tremaining: 584ms\n",
      "59:\tlearn: 16.3107966\ttotal: 856ms\tremaining: 571ms\n",
      "60:\tlearn: 16.3069377\ttotal: 870ms\tremaining: 556ms\n",
      "61:\tlearn: 16.3042121\ttotal: 884ms\tremaining: 542ms\n",
      "62:\tlearn: 16.3009146\ttotal: 897ms\tremaining: 527ms\n",
      "63:\tlearn: 16.2962094\ttotal: 911ms\tremaining: 512ms\n",
      "64:\tlearn: 16.2922644\ttotal: 927ms\tremaining: 499ms\n",
      "65:\tlearn: 16.2888800\ttotal: 942ms\tremaining: 485ms\n",
      "66:\tlearn: 16.2795436\ttotal: 958ms\tremaining: 472ms\n",
      "67:\tlearn: 16.2762058\ttotal: 970ms\tremaining: 457ms\n",
      "68:\tlearn: 16.2718645\ttotal: 983ms\tremaining: 442ms\n",
      "69:\tlearn: 16.2696734\ttotal: 996ms\tremaining: 427ms\n",
      "70:\tlearn: 16.2680249\ttotal: 1.01s\tremaining: 413ms\n",
      "71:\tlearn: 16.2656351\ttotal: 1.02s\tremaining: 398ms\n",
      "72:\tlearn: 16.2635995\ttotal: 1.04s\tremaining: 384ms\n",
      "73:\tlearn: 16.2616541\ttotal: 1.05s\tremaining: 370ms\n",
      "74:\tlearn: 16.2589686\ttotal: 1.06s\tremaining: 355ms\n",
      "75:\tlearn: 16.2562433\ttotal: 1.08s\tremaining: 341ms\n",
      "76:\tlearn: 16.2521096\ttotal: 1.09s\tremaining: 326ms\n",
      "77:\tlearn: 16.2498346\ttotal: 1.1s\tremaining: 312ms\n",
      "78:\tlearn: 16.2480496\ttotal: 1.12s\tremaining: 297ms\n",
      "79:\tlearn: 16.2459891\ttotal: 1.13s\tremaining: 283ms\n",
      "80:\tlearn: 16.2411560\ttotal: 1.15s\tremaining: 269ms\n",
      "81:\tlearn: 16.2382591\ttotal: 1.16s\tremaining: 255ms\n",
      "82:\tlearn: 16.2366112\ttotal: 1.17s\tremaining: 240ms\n",
      "83:\tlearn: 16.2350661\ttotal: 1.19s\tremaining: 226ms\n",
      "84:\tlearn: 16.2337906\ttotal: 1.2s\tremaining: 212ms\n",
      "85:\tlearn: 16.2310114\ttotal: 1.21s\tremaining: 198ms\n",
      "86:\tlearn: 16.2277103\ttotal: 1.23s\tremaining: 184ms\n",
      "87:\tlearn: 16.2260766\ttotal: 1.24s\tremaining: 169ms\n",
      "88:\tlearn: 16.2242343\ttotal: 1.25s\tremaining: 155ms\n",
      "89:\tlearn: 16.2225227\ttotal: 1.27s\tremaining: 141ms\n",
      "90:\tlearn: 16.2209797\ttotal: 1.28s\tremaining: 127ms\n",
      "91:\tlearn: 16.2174146\ttotal: 1.29s\tremaining: 113ms\n",
      "92:\tlearn: 16.2155410\ttotal: 1.31s\tremaining: 98.4ms\n",
      "93:\tlearn: 16.2126518\ttotal: 1.32s\tremaining: 84.4ms\n",
      "94:\tlearn: 16.2102027\ttotal: 1.34s\tremaining: 70.4ms\n",
      "95:\tlearn: 16.2083885\ttotal: 1.35s\tremaining: 56.3ms\n",
      "96:\tlearn: 16.2066999\ttotal: 1.36s\tremaining: 42.2ms\n",
      "97:\tlearn: 16.2043967\ttotal: 1.38s\tremaining: 28.1ms\n",
      "98:\tlearn: 16.2043645\ttotal: 1.39s\tremaining: 14ms\n",
      "99:\tlearn: 16.2005273\ttotal: 1.4s\tremaining: 0us\n"
     ]
    },
    {
     "data": {
      "text/plain": [
       "<catboost.core.CatBoostRegressor at 0xbac6147160>"
      ]
     },
     "execution_count": 45,
     "metadata": {},
     "output_type": "execute_result"
    }
   ],
   "source": [
    "cb_model.fit(X_train_cb, y_train_cb)"
   ]
  },
  {
   "cell_type": "code",
   "execution_count": 46,
   "metadata": {},
   "outputs": [
    {
     "ename": "TypeError",
     "evalue": "cannot convert the series to <class 'int'>",
     "output_type": "error",
     "traceback": [
      "\u001b[1;31m---------------------------------------------------------------------------\u001b[0m",
      "\u001b[1;31mTypeError\u001b[0m                                 Traceback (most recent call last)",
      "\u001b[1;32m<ipython-input-46-4dec2b777b85>\u001b[0m in \u001b[0;36m<module>\u001b[1;34m()\u001b[0m\n\u001b[0;32m      1\u001b[0m \u001b[1;31m#Predecimos sobre el set de testeo\u001b[0m\u001b[1;33m\u001b[0m\u001b[1;33m\u001b[0m\u001b[0m\n\u001b[1;32m----> 2\u001b[1;33m \u001b[0mcb_preds\u001b[0m \u001b[1;33m=\u001b[0m \u001b[0mcb_model\u001b[0m\u001b[1;33m.\u001b[0m\u001b[0mpredict\u001b[0m\u001b[1;33m(\u001b[0m\u001b[0mX_test_cb\u001b[0m\u001b[1;33m,\u001b[0m \u001b[0my_test_cb\u001b[0m\u001b[1;33m)\u001b[0m\u001b[1;33m\u001b[0m\u001b[0m\n\u001b[0m",
      "\u001b[1;32m~\\Anaconda3\\lib\\site-packages\\catboost\\core.py\u001b[0m in \u001b[0;36mpredict\u001b[1;34m(self, data, ntree_start, ntree_end, thread_count, verbose)\u001b[0m\n\u001b[0;32m   2545\u001b[0m         \u001b[0mprediction\u001b[0m \u001b[1;33m:\u001b[0m \u001b[0mnumpy\u001b[0m\u001b[1;33m.\u001b[0m\u001b[0marray\u001b[0m\u001b[1;33m\u001b[0m\u001b[0m\n\u001b[0;32m   2546\u001b[0m         \"\"\"\n\u001b[1;32m-> 2547\u001b[1;33m         \u001b[1;32mreturn\u001b[0m \u001b[0mself\u001b[0m\u001b[1;33m.\u001b[0m\u001b[0m_predict\u001b[0m\u001b[1;33m(\u001b[0m\u001b[0mdata\u001b[0m\u001b[1;33m,\u001b[0m \u001b[1;34m\"RawFormulaVal\"\u001b[0m\u001b[1;33m,\u001b[0m \u001b[0mntree_start\u001b[0m\u001b[1;33m,\u001b[0m \u001b[0mntree_end\u001b[0m\u001b[1;33m,\u001b[0m \u001b[0mthread_count\u001b[0m\u001b[1;33m,\u001b[0m \u001b[0mverbose\u001b[0m\u001b[1;33m)\u001b[0m\u001b[1;33m\u001b[0m\u001b[0m\n\u001b[0m\u001b[0;32m   2548\u001b[0m \u001b[1;33m\u001b[0m\u001b[0m\n\u001b[0;32m   2549\u001b[0m     \u001b[1;32mdef\u001b[0m \u001b[0mstaged_predict\u001b[0m\u001b[1;33m(\u001b[0m\u001b[0mself\u001b[0m\u001b[1;33m,\u001b[0m \u001b[0mdata\u001b[0m\u001b[1;33m,\u001b[0m \u001b[0mntree_start\u001b[0m\u001b[1;33m=\u001b[0m\u001b[1;36m0\u001b[0m\u001b[1;33m,\u001b[0m \u001b[0mntree_end\u001b[0m\u001b[1;33m=\u001b[0m\u001b[1;36m0\u001b[0m\u001b[1;33m,\u001b[0m \u001b[0meval_period\u001b[0m\u001b[1;33m=\u001b[0m\u001b[1;36m1\u001b[0m\u001b[1;33m,\u001b[0m \u001b[0mthread_count\u001b[0m\u001b[1;33m=\u001b[0m\u001b[1;33m-\u001b[0m\u001b[1;36m1\u001b[0m\u001b[1;33m,\u001b[0m \u001b[0mverbose\u001b[0m\u001b[1;33m=\u001b[0m\u001b[1;32mNone\u001b[0m\u001b[1;33m)\u001b[0m\u001b[1;33m:\u001b[0m\u001b[1;33m\u001b[0m\u001b[0m\n",
      "\u001b[1;32m~\\Anaconda3\\lib\\site-packages\\catboost\\core.py\u001b[0m in \u001b[0;36m_predict\u001b[1;34m(self, data, prediction_type, ntree_start, ntree_end, thread_count, verbose)\u001b[0m\n\u001b[0;32m   1269\u001b[0m         \u001b[1;32mif\u001b[0m \u001b[0mloss_function_type\u001b[0m \u001b[1;32mis\u001b[0m \u001b[1;32mnot\u001b[0m \u001b[1;32mNone\u001b[0m \u001b[1;32mand\u001b[0m \u001b[1;33m(\u001b[0m\u001b[0mloss_function_type\u001b[0m \u001b[1;33m==\u001b[0m \u001b[1;34m'MultiClass'\u001b[0m \u001b[1;32mor\u001b[0m \u001b[0mloss_function_type\u001b[0m \u001b[1;33m==\u001b[0m \u001b[1;34m'MultiClassOneVsAll'\u001b[0m\u001b[1;33m)\u001b[0m\u001b[1;33m:\u001b[0m\u001b[1;33m\u001b[0m\u001b[0m\n\u001b[0;32m   1270\u001b[0m             \u001b[1;32mreturn\u001b[0m \u001b[0mnp\u001b[0m\u001b[1;33m.\u001b[0m\u001b[0mtranspose\u001b[0m\u001b[1;33m(\u001b[0m\u001b[0mself\u001b[0m\u001b[1;33m.\u001b[0m\u001b[0m_base_predict_multi\u001b[0m\u001b[1;33m(\u001b[0m\u001b[0mdata\u001b[0m\u001b[1;33m,\u001b[0m \u001b[0mprediction_type\u001b[0m\u001b[1;33m,\u001b[0m \u001b[0mntree_start\u001b[0m\u001b[1;33m,\u001b[0m \u001b[0mntree_end\u001b[0m\u001b[1;33m,\u001b[0m \u001b[0mthread_count\u001b[0m\u001b[1;33m,\u001b[0m \u001b[0mverbose\u001b[0m\u001b[1;33m)\u001b[0m\u001b[1;33m)\u001b[0m\u001b[1;33m\u001b[0m\u001b[0m\n\u001b[1;32m-> 1271\u001b[1;33m         \u001b[0mpredictions\u001b[0m \u001b[1;33m=\u001b[0m \u001b[0mnp\u001b[0m\u001b[1;33m.\u001b[0m\u001b[0marray\u001b[0m\u001b[1;33m(\u001b[0m\u001b[0mself\u001b[0m\u001b[1;33m.\u001b[0m\u001b[0m_base_predict\u001b[0m\u001b[1;33m(\u001b[0m\u001b[0mdata\u001b[0m\u001b[1;33m,\u001b[0m \u001b[0mprediction_type\u001b[0m\u001b[1;33m,\u001b[0m \u001b[0mntree_start\u001b[0m\u001b[1;33m,\u001b[0m \u001b[0mntree_end\u001b[0m\u001b[1;33m,\u001b[0m \u001b[0mthread_count\u001b[0m\u001b[1;33m,\u001b[0m \u001b[0mverbose\u001b[0m\u001b[1;33m)\u001b[0m\u001b[1;33m)\u001b[0m\u001b[1;33m\u001b[0m\u001b[0m\n\u001b[0m\u001b[0;32m   1272\u001b[0m         \u001b[1;32mif\u001b[0m \u001b[0mprediction_type\u001b[0m \u001b[1;33m==\u001b[0m \u001b[1;34m'Probability'\u001b[0m\u001b[1;33m:\u001b[0m\u001b[1;33m\u001b[0m\u001b[0m\n\u001b[0;32m   1273\u001b[0m             \u001b[0mpredictions\u001b[0m \u001b[1;33m=\u001b[0m \u001b[0mnp\u001b[0m\u001b[1;33m.\u001b[0m\u001b[0mtranspose\u001b[0m\u001b[1;33m(\u001b[0m\u001b[1;33m[\u001b[0m\u001b[1;36m1\u001b[0m \u001b[1;33m-\u001b[0m \u001b[0mpredictions\u001b[0m\u001b[1;33m,\u001b[0m \u001b[0mpredictions\u001b[0m\u001b[1;33m]\u001b[0m\u001b[1;33m)\u001b[0m\u001b[1;33m\u001b[0m\u001b[0m\n",
      "\u001b[1;32m~\\Anaconda3\\lib\\site-packages\\catboost\\core.py\u001b[0m in \u001b[0;36m_base_predict\u001b[1;34m(self, pool, prediction_type, ntree_start, ntree_end, thread_count, verbose)\u001b[0m\n\u001b[0;32m    880\u001b[0m \u001b[1;33m\u001b[0m\u001b[0m\n\u001b[0;32m    881\u001b[0m     \u001b[1;32mdef\u001b[0m \u001b[0m_base_predict\u001b[0m\u001b[1;33m(\u001b[0m\u001b[0mself\u001b[0m\u001b[1;33m,\u001b[0m \u001b[0mpool\u001b[0m\u001b[1;33m,\u001b[0m \u001b[0mprediction_type\u001b[0m\u001b[1;33m,\u001b[0m \u001b[0mntree_start\u001b[0m\u001b[1;33m,\u001b[0m \u001b[0mntree_end\u001b[0m\u001b[1;33m,\u001b[0m \u001b[0mthread_count\u001b[0m\u001b[1;33m,\u001b[0m \u001b[0mverbose\u001b[0m\u001b[1;33m)\u001b[0m\u001b[1;33m:\u001b[0m\u001b[1;33m\u001b[0m\u001b[0m\n\u001b[1;32m--> 882\u001b[1;33m         \u001b[1;32mreturn\u001b[0m \u001b[0mself\u001b[0m\u001b[1;33m.\u001b[0m\u001b[0m_object\u001b[0m\u001b[1;33m.\u001b[0m\u001b[0m_base_predict\u001b[0m\u001b[1;33m(\u001b[0m\u001b[0mpool\u001b[0m\u001b[1;33m,\u001b[0m \u001b[0mprediction_type\u001b[0m\u001b[1;33m,\u001b[0m \u001b[0mntree_start\u001b[0m\u001b[1;33m,\u001b[0m \u001b[0mntree_end\u001b[0m\u001b[1;33m,\u001b[0m \u001b[0mthread_count\u001b[0m\u001b[1;33m,\u001b[0m \u001b[0mverbose\u001b[0m\u001b[1;33m)\u001b[0m\u001b[1;33m\u001b[0m\u001b[0m\n\u001b[0m\u001b[0;32m    883\u001b[0m \u001b[1;33m\u001b[0m\u001b[0m\n\u001b[0;32m    884\u001b[0m     \u001b[1;32mdef\u001b[0m \u001b[0m_base_predict_multi\u001b[0m\u001b[1;33m(\u001b[0m\u001b[0mself\u001b[0m\u001b[1;33m,\u001b[0m \u001b[0mpool\u001b[0m\u001b[1;33m,\u001b[0m \u001b[0mprediction_type\u001b[0m\u001b[1;33m,\u001b[0m \u001b[0mntree_start\u001b[0m\u001b[1;33m,\u001b[0m \u001b[0mntree_end\u001b[0m\u001b[1;33m,\u001b[0m \u001b[0mthread_count\u001b[0m\u001b[1;33m,\u001b[0m \u001b[0mverbose\u001b[0m\u001b[1;33m)\u001b[0m\u001b[1;33m:\u001b[0m\u001b[1;33m\u001b[0m\u001b[0m\n",
      "\u001b[1;32m_catboost.pyx\u001b[0m in \u001b[0;36m_catboost._CatBoost._base_predict\u001b[1;34m()\u001b[0m\n",
      "\u001b[1;32m~\\Anaconda3\\lib\\site-packages\\pandas\\core\\series.py\u001b[0m in \u001b[0;36mwrapper\u001b[1;34m(self)\u001b[0m\n\u001b[0;32m    116\u001b[0m             \u001b[1;32mreturn\u001b[0m \u001b[0mconverter\u001b[0m\u001b[1;33m(\u001b[0m\u001b[0mself\u001b[0m\u001b[1;33m.\u001b[0m\u001b[0miloc\u001b[0m\u001b[1;33m[\u001b[0m\u001b[1;36m0\u001b[0m\u001b[1;33m]\u001b[0m\u001b[1;33m)\u001b[0m\u001b[1;33m\u001b[0m\u001b[0m\n\u001b[0;32m    117\u001b[0m         raise TypeError(\"cannot convert the series to \"\n\u001b[1;32m--> 118\u001b[1;33m                         \"{0}\".format(str(converter)))\n\u001b[0m\u001b[0;32m    119\u001b[0m \u001b[1;33m\u001b[0m\u001b[0m\n\u001b[0;32m    120\u001b[0m     \u001b[1;32mreturn\u001b[0m \u001b[0mwrapper\u001b[0m\u001b[1;33m\u001b[0m\u001b[0m\n",
      "\u001b[1;31mTypeError\u001b[0m: cannot convert the series to <class 'int'>"
     ]
    }
   ],
   "source": [
    "#Predecimos sobre el set de testeo\n",
    "cb_preds = cb_model.predict(X_test_cb, y_test_cb)"
   ]
  },
  {
   "cell_type": "code",
   "execution_count": null,
   "metadata": {},
   "outputs": [],
   "source": []
  },
  {
   "cell_type": "markdown",
   "metadata": {},
   "source": [
    "### Generos"
   ]
  },
  {
   "cell_type": "markdown",
   "metadata": {},
   "source": [
    "# ESTA ES LA QUE FUNCA "
   ]
  },
  {
   "cell_type": "code",
   "execution_count": 93,
   "metadata": {},
   "outputs": [],
   "source": [
    "#Lista de Generos\n",
    "import itertools\n",
    "unique_genres = df['Genres'].unique()\n",
    "individual_genres = []\n",
    "for genre in unique_genres:\n",
    "    if type(genre) == str:\n",
    "        individual_genres.append(genre.split(','))\n",
    "    else:\n",
    "        pass\n",
    "\n",
    "individual_genres = list(itertools.chain.from_iterable(individual_genres))\n",
    "\n",
    "#Elimino los espacios al principio y me quedo con los unicos\n",
    "generos = []\n",
    "for i in range(len(individual_genres)):\n",
    "    gen = individual_genres[i].lstrip()\n",
    "    generos.append(gen)\n",
    "individual_genres = set(generos)\n",
    "\n",
    "%%time\n",
    "#Tengo que loopear sobre individual_genres, generar una columna para cada genero y appendar un 1 o 0 \n",
    "#si la columna del df tiene ese dato\n",
    "dict_generos = {}\n",
    "\n",
    "for genre in individual_genres:\n",
    "    lista = []\n",
    "    for i in range(len(df)):\n",
    "        try:\n",
    "            if df['Genres'][i].find(genre) != -1:\n",
    "                lista.append(1)\n",
    "            else:\n",
    "                lista.append(0)\n",
    "        except:\n",
    "            lista.append(0)\n",
    "    dict_generos[genre] = lista"
   ]
  },
  {
   "cell_type": "markdown",
   "metadata": {},
   "source": [
    "# HAY QUE LEVANTAR EXCEPCION PARA LOS NULL"
   ]
  },
  {
   "cell_type": "code",
   "execution_count": null,
   "metadata": {},
   "outputs": [],
   "source": []
  },
  {
   "cell_type": "code",
   "execution_count": 80,
   "metadata": {},
   "outputs": [],
   "source": [
    "#Lista de Generos\n",
    "import itertools\n",
    "unique_genres = df['Genres'].unique()\n",
    "individual_genres = []\n",
    "for genre in unique_genres:\n",
    "    if type(genre) == str:\n",
    "        individual_genres.append(genre.split(','))\n",
    "    else:\n",
    "        pass\n",
    "\n",
    "individual_genres = list(itertools.chain.from_iterable(individual_genres))\n",
    "individual_genres = set(individual_genres)"
   ]
  },
  {
   "cell_type": "code",
   "execution_count": null,
   "metadata": {},
   "outputs": [],
   "source": []
  },
  {
   "cell_type": "code",
   "execution_count": null,
   "metadata": {},
   "outputs": [],
   "source": []
  }
 ],
 "metadata": {
  "kernelspec": {
   "display_name": "Python 3",
   "language": "python",
   "name": "python3"
  },
  "language_info": {
   "codemirror_mode": {
    "name": "ipython",
    "version": 3
   },
   "file_extension": ".py",
   "mimetype": "text/x-python",
   "name": "python",
   "nbconvert_exporter": "python",
   "pygments_lexer": "ipython3",
   "version": "3.6.4"
  }
 },
 "nbformat": 4,
 "nbformat_minor": 2
}
