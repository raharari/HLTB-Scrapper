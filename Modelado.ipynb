{
 "cells": [
  {
   "cell_type": "markdown",
   "metadata": {},
   "source": [
    "## Librerias"
   ]
  },
  {
   "cell_type": "code",
   "execution_count": 1,
   "metadata": {},
   "outputs": [],
   "source": [
    "import pandas as pd\n",
    "import xgboost as xgb\n",
    "from sklearn.model_selection import GridSearchCV\n",
    "from sklearn.model_selection import train_test_split\n",
    "from sklearn.preprocessing import StandardScaler\n",
    "from sklearn.metrics import confusion_matrix\n",
    "from sklearn.metrics import mean_squared_error"
   ]
  },
  {
   "cell_type": "markdown",
   "metadata": {},
   "source": [
    "## Importamos el dataframe"
   ]
  },
  {
   "cell_type": "code",
   "execution_count": 4,
   "metadata": {},
   "outputs": [],
   "source": [
    "df = pd.read_csv('C:/Users/Ramiro/Desktop/Digital House/Desafios/HLTB Scrapper/DB Input Modelo.csv', sep ='|')\n",
    "df = df.drop(columns=['Unnamed: 0'])"
   ]
  },
  {
   "cell_type": "code",
   "execution_count": 5,
   "metadata": {},
   "outputs": [
    {
     "data": {
      "text/html": [
       "<div>\n",
       "<style scoped>\n",
       "    .dataframe tbody tr th:only-of-type {\n",
       "        vertical-align: middle;\n",
       "    }\n",
       "\n",
       "    .dataframe tbody tr th {\n",
       "        vertical-align: top;\n",
       "    }\n",
       "\n",
       "    .dataframe thead th {\n",
       "        text-align: right;\n",
       "    }\n",
       "</style>\n",
       "<table border=\"1\" class=\"dataframe\">\n",
       "  <thead>\n",
       "    <tr style=\"text-align: right;\">\n",
       "      <th></th>\n",
       "      <th>Id</th>\n",
       "      <th>Titulo</th>\n",
       "      <th>Main Story</th>\n",
       "      <th>Main + Extras</th>\n",
       "      <th>Completionist</th>\n",
       "      <th>All Styles</th>\n",
       "      <th>Rating</th>\n",
       "      <th>console_IOS</th>\n",
       "      <th>console_GAME BOY</th>\n",
       "      <th>console_ONLIVE</th>\n",
       "      <th>...</th>\n",
       "      <th>pub_MUMBOJUMBO</th>\n",
       "      <th>pub_VIVA MEDIA</th>\n",
       "      <th>pub_GT INTERACTIVE</th>\n",
       "      <th>pub_KEMCO</th>\n",
       "      <th>pub_DAGESTAN TECHNOLOGY</th>\n",
       "      <th>pub_BLACK SHELL MEDIA</th>\n",
       "      <th>pub_SLITHERINE</th>\n",
       "      <th>pub_SUNSOFT</th>\n",
       "      <th>pub_DEGICA</th>\n",
       "      <th>pub_EIDOS INTERACTIVE</th>\n",
       "    </tr>\n",
       "  </thead>\n",
       "  <tbody>\n",
       "    <tr>\n",
       "      <th>0</th>\n",
       "      <td>1</td>\n",
       "      <td>688(I) Hunter/Killer</td>\n",
       "      <td>9.5</td>\n",
       "      <td>24.0</td>\n",
       "      <td>50.5</td>\n",
       "      <td>15.5</td>\n",
       "      <td>NaN</td>\n",
       "      <td>0</td>\n",
       "      <td>0</td>\n",
       "      <td>0</td>\n",
       "      <td>...</td>\n",
       "      <td>0</td>\n",
       "      <td>0</td>\n",
       "      <td>0</td>\n",
       "      <td>0</td>\n",
       "      <td>0</td>\n",
       "      <td>0</td>\n",
       "      <td>0</td>\n",
       "      <td>0</td>\n",
       "      <td>0</td>\n",
       "      <td>0</td>\n",
       "    </tr>\n",
       "    <tr>\n",
       "      <th>1</th>\n",
       "      <td>2</td>\n",
       "      <td>Beyond Good &amp; Evil 2</td>\n",
       "      <td>NaN</td>\n",
       "      <td>NaN</td>\n",
       "      <td>NaN</td>\n",
       "      <td>NaN</td>\n",
       "      <td>NaN</td>\n",
       "      <td>0</td>\n",
       "      <td>0</td>\n",
       "      <td>0</td>\n",
       "      <td>...</td>\n",
       "      <td>0</td>\n",
       "      <td>0</td>\n",
       "      <td>0</td>\n",
       "      <td>0</td>\n",
       "      <td>0</td>\n",
       "      <td>0</td>\n",
       "      <td>0</td>\n",
       "      <td>0</td>\n",
       "      <td>0</td>\n",
       "      <td>0</td>\n",
       "    </tr>\n",
       "    <tr>\n",
       "      <th>2</th>\n",
       "      <td>10</td>\n",
       "      <td>Ico and Shadow of the Colossus Collection</td>\n",
       "      <td>NaN</td>\n",
       "      <td>NaN</td>\n",
       "      <td>NaN</td>\n",
       "      <td>NaN</td>\n",
       "      <td>NaN</td>\n",
       "      <td>0</td>\n",
       "      <td>0</td>\n",
       "      <td>0</td>\n",
       "      <td>...</td>\n",
       "      <td>0</td>\n",
       "      <td>0</td>\n",
       "      <td>0</td>\n",
       "      <td>0</td>\n",
       "      <td>0</td>\n",
       "      <td>0</td>\n",
       "      <td>0</td>\n",
       "      <td>0</td>\n",
       "      <td>0</td>\n",
       "      <td>0</td>\n",
       "    </tr>\n",
       "    <tr>\n",
       "      <th>3</th>\n",
       "      <td>16</td>\n",
       "      <td>Shadow of the Comet</td>\n",
       "      <td>NaN</td>\n",
       "      <td>NaN</td>\n",
       "      <td>NaN</td>\n",
       "      <td>NaN</td>\n",
       "      <td>NaN</td>\n",
       "      <td>0</td>\n",
       "      <td>0</td>\n",
       "      <td>0</td>\n",
       "      <td>...</td>\n",
       "      <td>0</td>\n",
       "      <td>0</td>\n",
       "      <td>0</td>\n",
       "      <td>0</td>\n",
       "      <td>0</td>\n",
       "      <td>0</td>\n",
       "      <td>0</td>\n",
       "      <td>0</td>\n",
       "      <td>0</td>\n",
       "      <td>0</td>\n",
       "    </tr>\n",
       "    <tr>\n",
       "      <th>4</th>\n",
       "      <td>18</td>\n",
       "      <td>'Splosion Man</td>\n",
       "      <td>8.0</td>\n",
       "      <td>10.0</td>\n",
       "      <td>18.0</td>\n",
       "      <td>9.5</td>\n",
       "      <td>76.0</td>\n",
       "      <td>0</td>\n",
       "      <td>0</td>\n",
       "      <td>0</td>\n",
       "      <td>...</td>\n",
       "      <td>0</td>\n",
       "      <td>0</td>\n",
       "      <td>0</td>\n",
       "      <td>0</td>\n",
       "      <td>0</td>\n",
       "      <td>0</td>\n",
       "      <td>0</td>\n",
       "      <td>0</td>\n",
       "      <td>0</td>\n",
       "      <td>0</td>\n",
       "    </tr>\n",
       "  </tbody>\n",
       "</table>\n",
       "<p>5 rows × 1236 columns</p>\n",
       "</div>"
      ],
      "text/plain": [
       "   Id                                     Titulo  Main Story  Main + Extras  \\\n",
       "0   1                       688(I) Hunter/Killer         9.5           24.0   \n",
       "1   2                       Beyond Good & Evil 2         NaN            NaN   \n",
       "2  10  Ico and Shadow of the Colossus Collection         NaN            NaN   \n",
       "3  16                        Shadow of the Comet         NaN            NaN   \n",
       "4  18                              'Splosion Man         8.0           10.0   \n",
       "\n",
       "   Completionist  All Styles  Rating  console_IOS  console_GAME BOY  \\\n",
       "0           50.5        15.5     NaN            0                 0   \n",
       "1            NaN         NaN     NaN            0                 0   \n",
       "2            NaN         NaN     NaN            0                 0   \n",
       "3            NaN         NaN     NaN            0                 0   \n",
       "4           18.0         9.5    76.0            0                 0   \n",
       "\n",
       "   console_ONLIVE          ...            pub_MUMBOJUMBO  pub_VIVA MEDIA  \\\n",
       "0               0          ...                         0               0   \n",
       "1               0          ...                         0               0   \n",
       "2               0          ...                         0               0   \n",
       "3               0          ...                         0               0   \n",
       "4               0          ...                         0               0   \n",
       "\n",
       "   pub_GT INTERACTIVE  pub_KEMCO  pub_DAGESTAN TECHNOLOGY  \\\n",
       "0                   0          0                        0   \n",
       "1                   0          0                        0   \n",
       "2                   0          0                        0   \n",
       "3                   0          0                        0   \n",
       "4                   0          0                        0   \n",
       "\n",
       "   pub_BLACK SHELL MEDIA  pub_SLITHERINE  pub_SUNSOFT  pub_DEGICA  \\\n",
       "0                      0               0            0           0   \n",
       "1                      0               0            0           0   \n",
       "2                      0               0            0           0   \n",
       "3                      0               0            0           0   \n",
       "4                      0               0            0           0   \n",
       "\n",
       "   pub_EIDOS INTERACTIVE  \n",
       "0                      0  \n",
       "1                      0  \n",
       "2                      0  \n",
       "3                      0  \n",
       "4                      0  \n",
       "\n",
       "[5 rows x 1236 columns]"
      ]
     },
     "execution_count": 5,
     "metadata": {},
     "output_type": "execute_result"
    }
   ],
   "source": [
    "df.head()"
   ]
  },
  {
   "cell_type": "code",
   "execution_count": 6,
   "metadata": {},
   "outputs": [],
   "source": [
    "#Seteamos el indice \n",
    "df = df.set_index(df['Id'])\n",
    "df = df.drop(columns='Id')"
   ]
  },
  {
   "cell_type": "markdown",
   "metadata": {},
   "source": [
    "# XGBoost"
   ]
  },
  {
   "cell_type": "code",
   "execution_count": 7,
   "metadata": {},
   "outputs": [],
   "source": [
    "#Elimino las observaciones que no tienen completa la variable objetivo\n",
    "df = df.dropna(subset = ['Rating'])"
   ]
  },
  {
   "cell_type": "code",
   "execution_count": 8,
   "metadata": {},
   "outputs": [],
   "source": [
    "#Separo la matriz de features y la variable objetivo\n",
    "X =  df.drop(['Titulo','Rating'], axis = 1)\n",
    "y = df['Rating']\n",
    "\n",
    "#Separo en Train y Test\n",
    "X_train, X_test, y_train, y_test = train_test_split(X, y, test_size=0.25, random_state=1)\n",
    "\n",
    "#Instancio el Clasificador de XGBoost\n",
    "xg_reg = xgb.XGBRegressor(max_depth=3, learning_rate=0.1, n_estimators=100, silent=True, objective='reg:linear',\\\n",
    "                           booster='gbtree', n_jobs=-1)"
   ]
  },
  {
   "cell_type": "code",
   "execution_count": 9,
   "metadata": {},
   "outputs": [
    {
     "name": "stdout",
     "output_type": "stream",
     "text": [
      "Wall time: 17.5 s\n"
     ]
    }
   ],
   "source": [
    "%%time\n",
    "#Fiteo el modelo\n",
    "xg_reg.fit(X_train,y_train)\n",
    "\n",
    "#Predicciones\n",
    "preds = xg_reg.predict(X_test)"
   ]
  },
  {
   "cell_type": "code",
   "execution_count": 10,
   "metadata": {},
   "outputs": [
    {
     "data": {
      "text/plain": [
       "0.2075300338990297"
      ]
     },
     "execution_count": 10,
     "metadata": {},
     "output_type": "execute_result"
    }
   ],
   "source": [
    "#Score\n",
    "xg_reg.score(X_test, y_test)"
   ]
  },
  {
   "cell_type": "markdown",
   "metadata": {},
   "source": [
    "### Como podemos mejorar el score?"
   ]
  },
  {
   "cell_type": "markdown",
   "metadata": {},
   "source": [
    "# XGBoost + GridSearch"
   ]
  },
  {
   "cell_type": "code",
   "execution_count": null,
   "metadata": {},
   "outputs": [],
   "source": [
    "# Definimos una lista de hiperparametros a tunear\n",
    "l2_reg_range = [3,5,7,10]\n",
    "profundidad = [2,4,6,8,10]\n",
    "learn_rate = [0.01,0.03,0.1]"
   ]
  },
  {
   "cell_type": "code",
   "execution_count": null,
   "metadata": {},
   "outputs": [],
   "source": [
    "#Generamos la grilla para GridSearch\n",
    "param_grid = dict(reg_lambda = l2_reg_range, max_depth=profundidad, learning_rate = learn_rate)\n",
    "print(param_grid)"
   ]
  },
  {
   "cell_type": "code",
   "execution_count": null,
   "metadata": {},
   "outputs": [],
   "source": [
    "%%time\n",
    "# Instanciamos el modelo de XGBoost con los parametros de GridSearch y un cross validation de 5 folds\n",
    "xgb_regressor = xgb.XGBRegressor(n_estimators=100, silent=True, objective='reg:linear',booster='gbtree')\n",
    "xgb_gs = GridSearchCV(xgb_regressor, param_grid, cv = 5)\n",
    "xgb_gs.fit(X_train, y_train)"
   ]
  },
  {
   "cell_type": "code",
   "execution_count": null,
   "metadata": {},
   "outputs": [],
   "source": [
    "#Vemos los parametros del mejor modelo\n",
    "xgb_gs.best_estimator_, xgb_gs.best_score_, xgb_gs.best_params_"
   ]
  },
  {
   "cell_type": "markdown",
   "metadata": {},
   "source": [
    "## Utilizamos el mejor modelo para entrenar"
   ]
  },
  {
   "cell_type": "markdown",
   "metadata": {},
   "source": [
    "# Mejor estimador??"
   ]
  },
  {
   "cell_type": "code",
   "execution_count": 12,
   "metadata": {},
   "outputs": [
    {
     "data": {
      "text/plain": [
       "XGBRegressor(base_score=0.5, booster='gbtree', colsample_bylevel=1,\n",
       "       colsample_bytree=1, gamma=0, learning_rate=0.1, max_delta_step=0,\n",
       "       max_depth=6, min_child_weight=1, missing=None, n_estimators=100,\n",
       "       n_jobs=-1, nthread=None, objective='reg:linear', random_state=0,\n",
       "       reg_alpha=0, reg_lambda=10, scale_pos_weight=1, seed=None,\n",
       "       silent=True, subsample=1)"
      ]
     },
     "execution_count": 12,
     "metadata": {},
     "output_type": "execute_result"
    }
   ],
   "source": [
    "xgb_best = xgb.XGBRegressor(n_estimators=100, silent=True, objective='reg:linear',booster='gbtree', n_jobs=-1, \\\n",
    "                           learning_rate = 0.1, max_depth=6,reg_lambda=10)\n",
    "xgb_best.fit(X_train, y_train)"
   ]
  },
  {
   "cell_type": "code",
   "execution_count": 13,
   "metadata": {},
   "outputs": [
    {
     "data": {
      "text/plain": [
       "0.22414392575899822"
      ]
     },
     "execution_count": 13,
     "metadata": {},
     "output_type": "execute_result"
    }
   ],
   "source": [
    "xgb_best.score(X_test, y_test)"
   ]
  },
  {
   "cell_type": "markdown",
   "metadata": {},
   "source": [
    "## CatBoost"
   ]
  },
  {
   "cell_type": "code",
   "execution_count": 36,
   "metadata": {},
   "outputs": [],
   "source": [
    "from catboost import CatBoostRegressor\n",
    "from sklearn.model_selection import GridSearchCV\n",
    "import warnings\n",
    "warnings.filterwarnings('ignore')"
   ]
  },
  {
   "cell_type": "code",
   "execution_count": 41,
   "metadata": {},
   "outputs": [],
   "source": [
    "#Separo la matriz de features y la variable objetivo\n",
    "X_cb =  df.drop(['Titulo','Rating','Developers','Publishers','NA','EU','JP','Updated'], axis = 1)\n",
    "y_cb = df['Rating'].astype(int)"
   ]
  },
  {
   "cell_type": "code",
   "execution_count": 43,
   "metadata": {},
   "outputs": [],
   "source": [
    "#Separo en Train y Test\n",
    "X_train_cb, X_test_cb, y_train_cb, y_test_cb = train_test_split(X_cb, y_cb, test_size=0.25, random_state=1)"
   ]
  },
  {
   "cell_type": "code",
   "execution_count": 44,
   "metadata": {},
   "outputs": [],
   "source": [
    "cb_model = CatBoostRegressor(iterations=100, learning_rate=0.1, depth=3, l2_leaf_reg=7, loss_function='RMSE')"
   ]
  },
  {
   "cell_type": "code",
   "execution_count": 45,
   "metadata": {},
   "outputs": [
    {
     "name": "stdout",
     "output_type": "stream",
     "text": [
      "0:\tlearn: 59.5222746\ttotal: 16.1ms\tremaining: 1.59s\n",
      "1:\tlearn: 54.1467145\ttotal: 28.4ms\tremaining: 1.39s\n",
      "2:\tlearn: 49.3646450\ttotal: 41.8ms\tremaining: 1.35s\n",
      "3:\tlearn: 45.1198757\ttotal: 53.8ms\tremaining: 1.29s\n",
      "4:\tlearn: 41.3022939\ttotal: 67.9ms\tremaining: 1.29s\n",
      "5:\tlearn: 37.9101091\ttotal: 82.4ms\tremaining: 1.29s\n",
      "6:\tlearn: 34.9292373\ttotal: 95ms\tremaining: 1.26s\n",
      "7:\tlearn: 32.3601524\ttotal: 107ms\tremaining: 1.23s\n",
      "8:\tlearn: 30.0935479\ttotal: 119ms\tremaining: 1.21s\n",
      "9:\tlearn: 28.0583158\ttotal: 134ms\tremaining: 1.2s\n",
      "10:\tlearn: 26.3177230\ttotal: 147ms\tremaining: 1.19s\n",
      "11:\tlearn: 24.7952239\ttotal: 163ms\tremaining: 1.2s\n",
      "12:\tlearn: 23.5436691\ttotal: 175ms\tremaining: 1.17s\n",
      "13:\tlearn: 22.4059498\ttotal: 188ms\tremaining: 1.16s\n",
      "14:\tlearn: 21.4457824\ttotal: 201ms\tremaining: 1.14s\n",
      "15:\tlearn: 20.6217964\ttotal: 217ms\tremaining: 1.14s\n",
      "16:\tlearn: 19.9150810\ttotal: 234ms\tremaining: 1.14s\n",
      "17:\tlearn: 19.3365551\ttotal: 249ms\tremaining: 1.13s\n",
      "18:\tlearn: 18.8524540\ttotal: 263ms\tremaining: 1.12s\n",
      "19:\tlearn: 18.4484806\ttotal: 278ms\tremaining: 1.11s\n",
      "20:\tlearn: 18.1053953\ttotal: 291ms\tremaining: 1.09s\n",
      "21:\tlearn: 17.8195866\ttotal: 305ms\tremaining: 1.08s\n",
      "22:\tlearn: 17.5806584\ttotal: 320ms\tremaining: 1.07s\n",
      "23:\tlearn: 17.3885381\ttotal: 333ms\tremaining: 1.05s\n",
      "24:\tlearn: 17.2184620\ttotal: 347ms\tremaining: 1.04s\n",
      "25:\tlearn: 17.0784291\ttotal: 361ms\tremaining: 1.03s\n",
      "26:\tlearn: 16.9665886\ttotal: 374ms\tremaining: 1.01s\n",
      "27:\tlearn: 16.8755425\ttotal: 388ms\tremaining: 998ms\n",
      "28:\tlearn: 16.7960459\ttotal: 402ms\tremaining: 985ms\n",
      "29:\tlearn: 16.7282976\ttotal: 417ms\tremaining: 973ms\n",
      "30:\tlearn: 16.6794043\ttotal: 432ms\tremaining: 961ms\n",
      "31:\tlearn: 16.6371092\ttotal: 446ms\tremaining: 948ms\n",
      "32:\tlearn: 16.5987802\ttotal: 460ms\tremaining: 934ms\n",
      "33:\tlearn: 16.5651006\ttotal: 475ms\tremaining: 922ms\n",
      "34:\tlearn: 16.5437665\ttotal: 487ms\tremaining: 904ms\n",
      "35:\tlearn: 16.5264965\ttotal: 499ms\tremaining: 888ms\n",
      "36:\tlearn: 16.5020871\ttotal: 514ms\tremaining: 875ms\n",
      "37:\tlearn: 16.4833012\ttotal: 527ms\tremaining: 860ms\n",
      "38:\tlearn: 16.4702574\ttotal: 540ms\tremaining: 844ms\n",
      "39:\tlearn: 16.4590663\ttotal: 552ms\tremaining: 827ms\n",
      "40:\tlearn: 16.4419031\ttotal: 567ms\tremaining: 816ms\n",
      "41:\tlearn: 16.4256793\ttotal: 582ms\tremaining: 804ms\n",
      "42:\tlearn: 16.4166806\ttotal: 595ms\tremaining: 789ms\n",
      "43:\tlearn: 16.4081392\ttotal: 608ms\tremaining: 774ms\n",
      "44:\tlearn: 16.4000140\ttotal: 624ms\tremaining: 762ms\n",
      "45:\tlearn: 16.3919964\ttotal: 639ms\tremaining: 750ms\n",
      "46:\tlearn: 16.3802359\ttotal: 656ms\tremaining: 740ms\n",
      "47:\tlearn: 16.3761473\ttotal: 669ms\tremaining: 725ms\n",
      "48:\tlearn: 16.3707875\ttotal: 683ms\tremaining: 711ms\n",
      "49:\tlearn: 16.3650826\ttotal: 699ms\tremaining: 699ms\n",
      "50:\tlearn: 16.3555713\ttotal: 716ms\tremaining: 688ms\n",
      "51:\tlearn: 16.3495730\ttotal: 731ms\tremaining: 675ms\n",
      "52:\tlearn: 16.3442396\ttotal: 748ms\tremaining: 663ms\n",
      "53:\tlearn: 16.3372095\ttotal: 761ms\tremaining: 649ms\n",
      "54:\tlearn: 16.3318209\ttotal: 776ms\tremaining: 635ms\n",
      "55:\tlearn: 16.3295449\ttotal: 791ms\tremaining: 622ms\n",
      "56:\tlearn: 16.3246618\ttotal: 806ms\tremaining: 608ms\n",
      "57:\tlearn: 16.3180369\ttotal: 823ms\tremaining: 596ms\n",
      "58:\tlearn: 16.3161417\ttotal: 840ms\tremaining: 584ms\n",
      "59:\tlearn: 16.3107966\ttotal: 856ms\tremaining: 571ms\n",
      "60:\tlearn: 16.3069377\ttotal: 870ms\tremaining: 556ms\n",
      "61:\tlearn: 16.3042121\ttotal: 884ms\tremaining: 542ms\n",
      "62:\tlearn: 16.3009146\ttotal: 897ms\tremaining: 527ms\n",
      "63:\tlearn: 16.2962094\ttotal: 911ms\tremaining: 512ms\n",
      "64:\tlearn: 16.2922644\ttotal: 927ms\tremaining: 499ms\n",
      "65:\tlearn: 16.2888800\ttotal: 942ms\tremaining: 485ms\n",
      "66:\tlearn: 16.2795436\ttotal: 958ms\tremaining: 472ms\n",
      "67:\tlearn: 16.2762058\ttotal: 970ms\tremaining: 457ms\n",
      "68:\tlearn: 16.2718645\ttotal: 983ms\tremaining: 442ms\n",
      "69:\tlearn: 16.2696734\ttotal: 996ms\tremaining: 427ms\n",
      "70:\tlearn: 16.2680249\ttotal: 1.01s\tremaining: 413ms\n",
      "71:\tlearn: 16.2656351\ttotal: 1.02s\tremaining: 398ms\n",
      "72:\tlearn: 16.2635995\ttotal: 1.04s\tremaining: 384ms\n",
      "73:\tlearn: 16.2616541\ttotal: 1.05s\tremaining: 370ms\n",
      "74:\tlearn: 16.2589686\ttotal: 1.06s\tremaining: 355ms\n",
      "75:\tlearn: 16.2562433\ttotal: 1.08s\tremaining: 341ms\n",
      "76:\tlearn: 16.2521096\ttotal: 1.09s\tremaining: 326ms\n",
      "77:\tlearn: 16.2498346\ttotal: 1.1s\tremaining: 312ms\n",
      "78:\tlearn: 16.2480496\ttotal: 1.12s\tremaining: 297ms\n",
      "79:\tlearn: 16.2459891\ttotal: 1.13s\tremaining: 283ms\n",
      "80:\tlearn: 16.2411560\ttotal: 1.15s\tremaining: 269ms\n",
      "81:\tlearn: 16.2382591\ttotal: 1.16s\tremaining: 255ms\n",
      "82:\tlearn: 16.2366112\ttotal: 1.17s\tremaining: 240ms\n",
      "83:\tlearn: 16.2350661\ttotal: 1.19s\tremaining: 226ms\n",
      "84:\tlearn: 16.2337906\ttotal: 1.2s\tremaining: 212ms\n",
      "85:\tlearn: 16.2310114\ttotal: 1.21s\tremaining: 198ms\n",
      "86:\tlearn: 16.2277103\ttotal: 1.23s\tremaining: 184ms\n",
      "87:\tlearn: 16.2260766\ttotal: 1.24s\tremaining: 169ms\n",
      "88:\tlearn: 16.2242343\ttotal: 1.25s\tremaining: 155ms\n",
      "89:\tlearn: 16.2225227\ttotal: 1.27s\tremaining: 141ms\n",
      "90:\tlearn: 16.2209797\ttotal: 1.28s\tremaining: 127ms\n",
      "91:\tlearn: 16.2174146\ttotal: 1.29s\tremaining: 113ms\n",
      "92:\tlearn: 16.2155410\ttotal: 1.31s\tremaining: 98.4ms\n",
      "93:\tlearn: 16.2126518\ttotal: 1.32s\tremaining: 84.4ms\n",
      "94:\tlearn: 16.2102027\ttotal: 1.34s\tremaining: 70.4ms\n",
      "95:\tlearn: 16.2083885\ttotal: 1.35s\tremaining: 56.3ms\n",
      "96:\tlearn: 16.2066999\ttotal: 1.36s\tremaining: 42.2ms\n",
      "97:\tlearn: 16.2043967\ttotal: 1.38s\tremaining: 28.1ms\n",
      "98:\tlearn: 16.2043645\ttotal: 1.39s\tremaining: 14ms\n",
      "99:\tlearn: 16.2005273\ttotal: 1.4s\tremaining: 0us\n"
     ]
    },
    {
     "data": {
      "text/plain": [
       "<catboost.core.CatBoostRegressor at 0xbac6147160>"
      ]
     },
     "execution_count": 45,
     "metadata": {},
     "output_type": "execute_result"
    }
   ],
   "source": [
    "cb_model.fit(X_train_cb, y_train_cb)"
   ]
  },
  {
   "cell_type": "code",
   "execution_count": 46,
   "metadata": {},
   "outputs": [
    {
     "ename": "TypeError",
     "evalue": "cannot convert the series to <class 'int'>",
     "output_type": "error",
     "traceback": [
      "\u001b[1;31m---------------------------------------------------------------------------\u001b[0m",
      "\u001b[1;31mTypeError\u001b[0m                                 Traceback (most recent call last)",
      "\u001b[1;32m<ipython-input-46-4dec2b777b85>\u001b[0m in \u001b[0;36m<module>\u001b[1;34m()\u001b[0m\n\u001b[0;32m      1\u001b[0m \u001b[1;31m#Predecimos sobre el set de testeo\u001b[0m\u001b[1;33m\u001b[0m\u001b[1;33m\u001b[0m\u001b[0m\n\u001b[1;32m----> 2\u001b[1;33m \u001b[0mcb_preds\u001b[0m \u001b[1;33m=\u001b[0m \u001b[0mcb_model\u001b[0m\u001b[1;33m.\u001b[0m\u001b[0mpredict\u001b[0m\u001b[1;33m(\u001b[0m\u001b[0mX_test_cb\u001b[0m\u001b[1;33m,\u001b[0m \u001b[0my_test_cb\u001b[0m\u001b[1;33m)\u001b[0m\u001b[1;33m\u001b[0m\u001b[0m\n\u001b[0m",
      "\u001b[1;32m~\\Anaconda3\\lib\\site-packages\\catboost\\core.py\u001b[0m in \u001b[0;36mpredict\u001b[1;34m(self, data, ntree_start, ntree_end, thread_count, verbose)\u001b[0m\n\u001b[0;32m   2545\u001b[0m         \u001b[0mprediction\u001b[0m \u001b[1;33m:\u001b[0m \u001b[0mnumpy\u001b[0m\u001b[1;33m.\u001b[0m\u001b[0marray\u001b[0m\u001b[1;33m\u001b[0m\u001b[0m\n\u001b[0;32m   2546\u001b[0m         \"\"\"\n\u001b[1;32m-> 2547\u001b[1;33m         \u001b[1;32mreturn\u001b[0m \u001b[0mself\u001b[0m\u001b[1;33m.\u001b[0m\u001b[0m_predict\u001b[0m\u001b[1;33m(\u001b[0m\u001b[0mdata\u001b[0m\u001b[1;33m,\u001b[0m \u001b[1;34m\"RawFormulaVal\"\u001b[0m\u001b[1;33m,\u001b[0m \u001b[0mntree_start\u001b[0m\u001b[1;33m,\u001b[0m \u001b[0mntree_end\u001b[0m\u001b[1;33m,\u001b[0m \u001b[0mthread_count\u001b[0m\u001b[1;33m,\u001b[0m \u001b[0mverbose\u001b[0m\u001b[1;33m)\u001b[0m\u001b[1;33m\u001b[0m\u001b[0m\n\u001b[0m\u001b[0;32m   2548\u001b[0m \u001b[1;33m\u001b[0m\u001b[0m\n\u001b[0;32m   2549\u001b[0m     \u001b[1;32mdef\u001b[0m \u001b[0mstaged_predict\u001b[0m\u001b[1;33m(\u001b[0m\u001b[0mself\u001b[0m\u001b[1;33m,\u001b[0m \u001b[0mdata\u001b[0m\u001b[1;33m,\u001b[0m \u001b[0mntree_start\u001b[0m\u001b[1;33m=\u001b[0m\u001b[1;36m0\u001b[0m\u001b[1;33m,\u001b[0m \u001b[0mntree_end\u001b[0m\u001b[1;33m=\u001b[0m\u001b[1;36m0\u001b[0m\u001b[1;33m,\u001b[0m \u001b[0meval_period\u001b[0m\u001b[1;33m=\u001b[0m\u001b[1;36m1\u001b[0m\u001b[1;33m,\u001b[0m \u001b[0mthread_count\u001b[0m\u001b[1;33m=\u001b[0m\u001b[1;33m-\u001b[0m\u001b[1;36m1\u001b[0m\u001b[1;33m,\u001b[0m \u001b[0mverbose\u001b[0m\u001b[1;33m=\u001b[0m\u001b[1;32mNone\u001b[0m\u001b[1;33m)\u001b[0m\u001b[1;33m:\u001b[0m\u001b[1;33m\u001b[0m\u001b[0m\n",
      "\u001b[1;32m~\\Anaconda3\\lib\\site-packages\\catboost\\core.py\u001b[0m in \u001b[0;36m_predict\u001b[1;34m(self, data, prediction_type, ntree_start, ntree_end, thread_count, verbose)\u001b[0m\n\u001b[0;32m   1269\u001b[0m         \u001b[1;32mif\u001b[0m \u001b[0mloss_function_type\u001b[0m \u001b[1;32mis\u001b[0m \u001b[1;32mnot\u001b[0m \u001b[1;32mNone\u001b[0m \u001b[1;32mand\u001b[0m \u001b[1;33m(\u001b[0m\u001b[0mloss_function_type\u001b[0m \u001b[1;33m==\u001b[0m \u001b[1;34m'MultiClass'\u001b[0m \u001b[1;32mor\u001b[0m \u001b[0mloss_function_type\u001b[0m \u001b[1;33m==\u001b[0m \u001b[1;34m'MultiClassOneVsAll'\u001b[0m\u001b[1;33m)\u001b[0m\u001b[1;33m:\u001b[0m\u001b[1;33m\u001b[0m\u001b[0m\n\u001b[0;32m   1270\u001b[0m             \u001b[1;32mreturn\u001b[0m \u001b[0mnp\u001b[0m\u001b[1;33m.\u001b[0m\u001b[0mtranspose\u001b[0m\u001b[1;33m(\u001b[0m\u001b[0mself\u001b[0m\u001b[1;33m.\u001b[0m\u001b[0m_base_predict_multi\u001b[0m\u001b[1;33m(\u001b[0m\u001b[0mdata\u001b[0m\u001b[1;33m,\u001b[0m \u001b[0mprediction_type\u001b[0m\u001b[1;33m,\u001b[0m \u001b[0mntree_start\u001b[0m\u001b[1;33m,\u001b[0m \u001b[0mntree_end\u001b[0m\u001b[1;33m,\u001b[0m \u001b[0mthread_count\u001b[0m\u001b[1;33m,\u001b[0m \u001b[0mverbose\u001b[0m\u001b[1;33m)\u001b[0m\u001b[1;33m)\u001b[0m\u001b[1;33m\u001b[0m\u001b[0m\n\u001b[1;32m-> 1271\u001b[1;33m         \u001b[0mpredictions\u001b[0m \u001b[1;33m=\u001b[0m \u001b[0mnp\u001b[0m\u001b[1;33m.\u001b[0m\u001b[0marray\u001b[0m\u001b[1;33m(\u001b[0m\u001b[0mself\u001b[0m\u001b[1;33m.\u001b[0m\u001b[0m_base_predict\u001b[0m\u001b[1;33m(\u001b[0m\u001b[0mdata\u001b[0m\u001b[1;33m,\u001b[0m \u001b[0mprediction_type\u001b[0m\u001b[1;33m,\u001b[0m \u001b[0mntree_start\u001b[0m\u001b[1;33m,\u001b[0m \u001b[0mntree_end\u001b[0m\u001b[1;33m,\u001b[0m \u001b[0mthread_count\u001b[0m\u001b[1;33m,\u001b[0m \u001b[0mverbose\u001b[0m\u001b[1;33m)\u001b[0m\u001b[1;33m)\u001b[0m\u001b[1;33m\u001b[0m\u001b[0m\n\u001b[0m\u001b[0;32m   1272\u001b[0m         \u001b[1;32mif\u001b[0m \u001b[0mprediction_type\u001b[0m \u001b[1;33m==\u001b[0m \u001b[1;34m'Probability'\u001b[0m\u001b[1;33m:\u001b[0m\u001b[1;33m\u001b[0m\u001b[0m\n\u001b[0;32m   1273\u001b[0m             \u001b[0mpredictions\u001b[0m \u001b[1;33m=\u001b[0m \u001b[0mnp\u001b[0m\u001b[1;33m.\u001b[0m\u001b[0mtranspose\u001b[0m\u001b[1;33m(\u001b[0m\u001b[1;33m[\u001b[0m\u001b[1;36m1\u001b[0m \u001b[1;33m-\u001b[0m \u001b[0mpredictions\u001b[0m\u001b[1;33m,\u001b[0m \u001b[0mpredictions\u001b[0m\u001b[1;33m]\u001b[0m\u001b[1;33m)\u001b[0m\u001b[1;33m\u001b[0m\u001b[0m\n",
      "\u001b[1;32m~\\Anaconda3\\lib\\site-packages\\catboost\\core.py\u001b[0m in \u001b[0;36m_base_predict\u001b[1;34m(self, pool, prediction_type, ntree_start, ntree_end, thread_count, verbose)\u001b[0m\n\u001b[0;32m    880\u001b[0m \u001b[1;33m\u001b[0m\u001b[0m\n\u001b[0;32m    881\u001b[0m     \u001b[1;32mdef\u001b[0m \u001b[0m_base_predict\u001b[0m\u001b[1;33m(\u001b[0m\u001b[0mself\u001b[0m\u001b[1;33m,\u001b[0m \u001b[0mpool\u001b[0m\u001b[1;33m,\u001b[0m \u001b[0mprediction_type\u001b[0m\u001b[1;33m,\u001b[0m \u001b[0mntree_start\u001b[0m\u001b[1;33m,\u001b[0m \u001b[0mntree_end\u001b[0m\u001b[1;33m,\u001b[0m \u001b[0mthread_count\u001b[0m\u001b[1;33m,\u001b[0m \u001b[0mverbose\u001b[0m\u001b[1;33m)\u001b[0m\u001b[1;33m:\u001b[0m\u001b[1;33m\u001b[0m\u001b[0m\n\u001b[1;32m--> 882\u001b[1;33m         \u001b[1;32mreturn\u001b[0m \u001b[0mself\u001b[0m\u001b[1;33m.\u001b[0m\u001b[0m_object\u001b[0m\u001b[1;33m.\u001b[0m\u001b[0m_base_predict\u001b[0m\u001b[1;33m(\u001b[0m\u001b[0mpool\u001b[0m\u001b[1;33m,\u001b[0m \u001b[0mprediction_type\u001b[0m\u001b[1;33m,\u001b[0m \u001b[0mntree_start\u001b[0m\u001b[1;33m,\u001b[0m \u001b[0mntree_end\u001b[0m\u001b[1;33m,\u001b[0m \u001b[0mthread_count\u001b[0m\u001b[1;33m,\u001b[0m \u001b[0mverbose\u001b[0m\u001b[1;33m)\u001b[0m\u001b[1;33m\u001b[0m\u001b[0m\n\u001b[0m\u001b[0;32m    883\u001b[0m \u001b[1;33m\u001b[0m\u001b[0m\n\u001b[0;32m    884\u001b[0m     \u001b[1;32mdef\u001b[0m \u001b[0m_base_predict_multi\u001b[0m\u001b[1;33m(\u001b[0m\u001b[0mself\u001b[0m\u001b[1;33m,\u001b[0m \u001b[0mpool\u001b[0m\u001b[1;33m,\u001b[0m \u001b[0mprediction_type\u001b[0m\u001b[1;33m,\u001b[0m \u001b[0mntree_start\u001b[0m\u001b[1;33m,\u001b[0m \u001b[0mntree_end\u001b[0m\u001b[1;33m,\u001b[0m \u001b[0mthread_count\u001b[0m\u001b[1;33m,\u001b[0m \u001b[0mverbose\u001b[0m\u001b[1;33m)\u001b[0m\u001b[1;33m:\u001b[0m\u001b[1;33m\u001b[0m\u001b[0m\n",
      "\u001b[1;32m_catboost.pyx\u001b[0m in \u001b[0;36m_catboost._CatBoost._base_predict\u001b[1;34m()\u001b[0m\n",
      "\u001b[1;32m~\\Anaconda3\\lib\\site-packages\\pandas\\core\\series.py\u001b[0m in \u001b[0;36mwrapper\u001b[1;34m(self)\u001b[0m\n\u001b[0;32m    116\u001b[0m             \u001b[1;32mreturn\u001b[0m \u001b[0mconverter\u001b[0m\u001b[1;33m(\u001b[0m\u001b[0mself\u001b[0m\u001b[1;33m.\u001b[0m\u001b[0miloc\u001b[0m\u001b[1;33m[\u001b[0m\u001b[1;36m0\u001b[0m\u001b[1;33m]\u001b[0m\u001b[1;33m)\u001b[0m\u001b[1;33m\u001b[0m\u001b[0m\n\u001b[0;32m    117\u001b[0m         raise TypeError(\"cannot convert the series to \"\n\u001b[1;32m--> 118\u001b[1;33m                         \"{0}\".format(str(converter)))\n\u001b[0m\u001b[0;32m    119\u001b[0m \u001b[1;33m\u001b[0m\u001b[0m\n\u001b[0;32m    120\u001b[0m     \u001b[1;32mreturn\u001b[0m \u001b[0mwrapper\u001b[0m\u001b[1;33m\u001b[0m\u001b[0m\n",
      "\u001b[1;31mTypeError\u001b[0m: cannot convert the series to <class 'int'>"
     ]
    }
   ],
   "source": [
    "#Predecimos sobre el set de testeo\n",
    "cb_preds = cb_model.predict(X_test_cb, y_test_cb)"
   ]
  },
  {
   "cell_type": "code",
   "execution_count": null,
   "metadata": {},
   "outputs": [],
   "source": []
  },
  {
   "cell_type": "code",
   "execution_count": null,
   "metadata": {},
   "outputs": [],
   "source": []
  },
  {
   "cell_type": "code",
   "execution_count": null,
   "metadata": {},
   "outputs": [],
   "source": []
  }
 ],
 "metadata": {
  "kernelspec": {
   "display_name": "Python 3",
   "language": "python",
   "name": "python3"
  },
  "language_info": {
   "codemirror_mode": {
    "name": "ipython",
    "version": 3
   },
   "file_extension": ".py",
   "mimetype": "text/x-python",
   "name": "python",
   "nbconvert_exporter": "python",
   "pygments_lexer": "ipython3",
   "version": "3.7.0"
  }
 },
 "nbformat": 4,
 "nbformat_minor": 2
}
