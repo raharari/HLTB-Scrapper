{
 "cells": [
  {
   "cell_type": "code",
   "execution_count": null,
   "metadata": {},
   "outputs": [],
   "source": [
    "#Librerias\n",
    "from requests import get\n",
    "from requests.exceptions import RequestException\n",
    "from contextlib import closing\n",
    "from bs4 import BeautifulSoup"
   ]
  },
  {
   "cell_type": "code",
   "execution_count": 21,
   "metadata": {},
   "outputs": [],
   "source": [
    "# Funcion get\n",
    "def simple_get(url):\n",
    "    \"\"\"\n",
    "    Attempts to get the content at `url` by making an HTTP GET request.\n",
    "    If the content-type of response is some kind of HTML/XML, return the\n",
    "    text content, otherwise return None.\n",
    "    \"\"\"\n",
    "    head = {'user-agent': 'Mozilla/5.0 (X11; Linux x86_64) AppleWebKit/537.36 (KHTML, like Gecko) '\n",
    "        'Chrome/59.0.3071.115 Safari/537.36'}\n",
    "    try:\n",
    "        with closing(get(url, stream=True, headers=head)) as resp:\n",
    "            if is_good_response(resp):\n",
    "                return resp.content\n",
    "            else:\n",
    "                return None\n",
    "\n",
    "    except RequestException as e:\n",
    "        log_error('Error during requests to {0} : {1}'.format(url, str(e)))\n",
    "        return None\n",
    "\n",
    "\n",
    "def is_good_response(resp):\n",
    "    \"\"\"\n",
    "    Returns True if the response seems to be HTML, False otherwise.\n",
    "    \"\"\"\n",
    "    content_type = resp.headers['Content-Type'].lower()\n",
    "    return (resp.status_code == 200 \n",
    "            and content_type is not None \n",
    "            and content_type.find('html') > -1)\n",
    "\n",
    "\n",
    "def log_error(e):\n",
    "    \"\"\"\n",
    "    It is always a good idea to log errors. \n",
    "    This function just prints them, but you can\n",
    "    make it do anything.\n",
    "    \"\"\"\n",
    "    print(e)"
   ]
  },
  {
   "cell_type": "code",
   "execution_count": 22,
   "metadata": {},
   "outputs": [],
   "source": [
    "#Raw HTML\n",
    "raw_html = simple_get('https://howlongtobeat.com/game.php?id=10270')"
   ]
  },
  {
   "cell_type": "code",
   "execution_count": null,
   "metadata": {},
   "outputs": [],
   "source": [
    "#Paso el request a un objeto de BeatifulSoup\n",
    "html = BeautifulSoup(raw_html, 'html.parser')"
   ]
  },
  {
   "cell_type": "markdown",
   "metadata": {},
   "source": [
    "## Parseo del HTML"
   ]
  },
  {
   "cell_type": "code",
   "execution_count": 107,
   "metadata": {},
   "outputs": [],
   "source": [
    "#Titulo del juego\n",
    "titulo = html.find('div', {'class':\"profile_header shadow_text\"}).text\n",
    "titulo = titulo.replace(\"\\n\", \"\").rstrip()"
   ]
  },
  {
   "cell_type": "code",
   "execution_count": 108,
   "metadata": {},
   "outputs": [
    {
     "data": {
      "text/plain": [
       "'The Witcher 3: Wild Hunt'"
      ]
     },
     "execution_count": 108,
     "metadata": {},
     "output_type": "execute_result"
    }
   ],
   "source": [
    "titulo"
   ]
  },
  {
   "cell_type": "code",
   "execution_count": 65,
   "metadata": {},
   "outputs": [
    {
     "data": {
      "text/plain": [
       "<div class=\"profile_details\">\n",
       "<li>2.1K Playing</li>\n",
       "<li>7K Backlogs</li>\n",
       "<li>911 Replays</li>\n",
       "<li>1% Retired\n",
       "</li>\n",
       "<li>96% Rating</li>\n",
       "<li>5.7K Beat</li>\n",
       "<div class=\"clear\"></div>\n",
       "</div>"
      ]
     },
     "execution_count": 65,
     "metadata": {},
     "output_type": "execute_result"
    }
   ],
   "source": [
    "#Detalles de rating, backlog\n",
    "det=html.find('div', {'class':'profile_details'})"
   ]
  },
  {
   "cell_type": "code",
   "execution_count": 99,
   "metadata": {},
   "outputs": [],
   "source": [
    "# Rating\n",
    "details = []\n",
    "for i, li in enumerate(det.select('li')):\n",
    "        dicc = {i: li.text}\n",
    "        details.append(li.text)\n",
    "\n",
    "rating = details[4][0:2]"
   ]
  },
  {
   "cell_type": "code",
   "execution_count": 100,
   "metadata": {},
   "outputs": [
    {
     "data": {
      "text/plain": [
       "'96'"
      ]
     },
     "execution_count": 100,
     "metadata": {},
     "output_type": "execute_result"
    }
   ],
   "source": [
    "rating"
   ]
  },
  {
   "cell_type": "code",
   "execution_count": 110,
   "metadata": {},
   "outputs": [
    {
     "data": {
      "text/plain": [
       "[<li class=\"short time_100\">\n",
       " <h5>Main Story</h5>\n",
       " <div>49½ Hours </div>\n",
       " </li>, <li class=\"short time_100\">\n",
       " <h5>Main + Extras</h5>\n",
       " <div>103 Hours </div>\n",
       " </li>, <li class=\"short time_100\">\n",
       " <h5>Completionist</h5>\n",
       " <div>171 Hours </div>\n",
       " </li>, <li class=\"short time_100\">\n",
       " <h5>All Styles</h5>\n",
       " <div>102 Hours </div>\n",
       " </li>]"
      ]
     },
     "execution_count": 110,
     "metadata": {},
     "output_type": "execute_result"
    }
   ],
   "source": [
    "#Tiempos\n",
    "html.find_all('li', {'class':'short time_100'})"
   ]
  },
  {
   "cell_type": "code",
   "execution_count": 111,
   "metadata": {},
   "outputs": [],
   "source": [
    "tiempos = html.find_all('li', {'class':'short time_100'})"
   ]
  },
  {
   "cell_type": "code",
   "execution_count": 162,
   "metadata": {},
   "outputs": [],
   "source": [
    "x = tiempos[0].select('div')\n",
    "x = str(x[0])"
   ]
  },
  {
   "cell_type": "code",
   "execution_count": 166,
   "metadata": {},
   "outputs": [],
   "source": [
    "x = x.replace('<div>', '')\n",
    "x = x.replace('</div>','')\n",
    "x = x.rstrip()"
   ]
  },
  {
   "cell_type": "code",
   "execution_count": 167,
   "metadata": {},
   "outputs": [
    {
     "data": {
      "text/plain": [
       "'49½ Hours'"
      ]
     },
     "execution_count": 167,
     "metadata": {},
     "output_type": "execute_result"
    }
   ],
   "source": [
    "x"
   ]
  },
  {
   "cell_type": "code",
   "execution_count": 137,
   "metadata": {},
   "outputs": [
    {
     "data": {
      "text/plain": [
       "<li class=\"short time_100\">\n",
       "<h5>Main + Extras</h5>\n",
       "<div>103 Hours </div>\n",
       "</li>"
      ]
     },
     "execution_count": 137,
     "metadata": {},
     "output_type": "execute_result"
    }
   ],
   "source": [
    "tiempos[1]"
   ]
  },
  {
   "cell_type": "code",
   "execution_count": 145,
   "metadata": {},
   "outputs": [
    {
     "name": "stdout",
     "output_type": "stream",
     "text": [
      "[<h5>Main Story</h5>] [<div>49½ Hours </div>]\n"
     ]
    }
   ],
   "source": [
    "for i in range(4):\n",
    "    tiempos[0].select('h5')\n",
    "    tiempos[0].select('div')"
   ]
  },
  {
   "cell_type": "code",
   "execution_count": 135,
   "metadata": {},
   "outputs": [
    {
     "data": {
      "text/plain": [
       "<h5>Main Story</h5>"
      ]
     },
     "execution_count": 135,
     "metadata": {},
     "output_type": "execute_result"
    }
   ],
   "source": []
  },
  {
   "cell_type": "code",
   "execution_count": 123,
   "metadata": {},
   "outputs": [
    {
     "name": "stdout",
     "output_type": "stream",
     "text": [
      "<li class=\"short time_100\">\n",
      "<h5>Main Story</h5>\n",
      "<div>49½ Hours </div>\n",
      "</li>\n",
      "<li class=\"short time_100\">\n",
      "<h5>Main + Extras</h5>\n",
      "<div>103 Hours </div>\n",
      "</li>\n",
      "<li class=\"short time_100\">\n",
      "<h5>Completionist</h5>\n",
      "<div>171 Hours </div>\n",
      "</li>\n",
      "<li class=\"short time_100\">\n",
      "<h5>All Styles</h5>\n",
      "<div>102 Hours </div>\n",
      "</li>\n"
     ]
    }
   ],
   "source": [
    "for i in range(4):\n",
    "    print(tiempos[i])"
   ]
  },
  {
   "cell_type": "code",
   "execution_count": 121,
   "metadata": {},
   "outputs": [
    {
     "name": "stdout",
     "output_type": "stream",
     "text": [
      "<li class=\"short time_100\">\n",
      "<h5>Main Story</h5>\n",
      "<div>49½ Hours </div>\n",
      "</li>\n",
      "<li class=\"short time_100\">\n",
      "<h5>Main + Extras</h5>\n",
      "<div>103 Hours </div>\n",
      "</li>\n",
      "<li class=\"short time_100\">\n",
      "<h5>Completionist</h5>\n",
      "<div>171 Hours </div>\n",
      "</li>\n",
      "<li class=\"short time_100\">\n",
      "<h5>All Styles</h5>\n",
      "<div>102 Hours </div>\n",
      "</li>\n"
     ]
    }
   ],
   "source": [
    "for i, li in enumerate(tiempos.select('li')):"
   ]
  },
  {
   "cell_type": "code",
   "execution_count": null,
   "metadata": {},
   "outputs": [],
   "source": []
  },
  {
   "cell_type": "code",
   "execution_count": null,
   "metadata": {},
   "outputs": [],
   "source": []
  },
  {
   "cell_type": "code",
   "execution_count": 32,
   "metadata": {},
   "outputs": [
    {
     "data": {
      "text/plain": [
       "[<div class=\"profile_info\">\n",
       " <strong>\n",
       " Developer:\n",
       " </strong>\n",
       " CD Projekt RED </div>, <div class=\"profile_info\">\n",
       " <strong>\n",
       " Publishers:\n",
       " </strong>\n",
       " CD Projekt, Warner Bros. Interactive Entertainment </div>, <div class=\"profile_info\">\n",
       " <strong>\n",
       " Playable On:\n",
       " </strong>\n",
       " Linux, PC, PlayStation 4, Xbox One </div>, <div class=\"profile_info\">\n",
       " <strong>\n",
       " Genres:\n",
       " </strong>\n",
       " Third-Person, Action, Adventure, Open World, Role-Playing </div>, <div class=\"profile_info\">\n",
       " <strong>NA:</strong> May 19, 2015 </div>, <div class=\"profile_info\">\n",
       " <strong>EU:</strong> May 19, 2015 </div>, <div class=\"profile_info\">\n",
       " <strong>JP:</strong> May 19, 2015 </div>, <div class=\"profile_info\">\n",
       " <strong>Updated:</strong> 7 Mins Ago </div>]"
      ]
     },
     "execution_count": 32,
     "metadata": {},
     "output_type": "execute_result"
    }
   ],
   "source": [
    "# Info del juego\n",
    "html.find_all('div', {'class':'profile_info'})"
   ]
  },
  {
   "cell_type": "code",
   "execution_count": null,
   "metadata": {},
   "outputs": [],
   "source": []
  }
 ],
 "metadata": {
  "kernelspec": {
   "display_name": "Python 3",
   "language": "python",
   "name": "python3"
  },
  "language_info": {
   "codemirror_mode": {
    "name": "ipython",
    "version": 3
   },
   "file_extension": ".py",
   "mimetype": "text/x-python",
   "name": "python",
   "nbconvert_exporter": "python",
   "pygments_lexer": "ipython3",
   "version": "3.6.4"
  }
 },
 "nbformat": 4,
 "nbformat_minor": 2
}
