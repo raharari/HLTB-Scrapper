{
 "cells": [
  {
   "cell_type": "code",
   "execution_count": null,
   "metadata": {},
   "outputs": [],
   "source": [
    "#Librerias\n",
    "from requests import get\n",
    "from requests.exceptions import RequestException\n",
    "from contextlib import closing\n",
    "from bs4 import BeautifulSoup"
   ]
  },
  {
   "cell_type": "code",
   "execution_count": 21,
   "metadata": {},
   "outputs": [],
   "source": [
    "# Funcion get\n",
    "def simple_get(url):\n",
    "    \"\"\"\n",
    "    Attempts to get the content at `url` by making an HTTP GET request.\n",
    "    If the content-type of response is some kind of HTML/XML, return the\n",
    "    text content, otherwise return None.\n",
    "    \"\"\"\n",
    "    head = {'user-agent': 'Mozilla/5.0 (X11; Linux x86_64) AppleWebKit/537.36 (KHTML, like Gecko) '\n",
    "        'Chrome/59.0.3071.115 Safari/537.36'}\n",
    "    try:\n",
    "        with closing(get(url, stream=True, headers=head)) as resp:\n",
    "            if is_good_response(resp):\n",
    "                return resp.content\n",
    "            else:\n",
    "                return None\n",
    "\n",
    "    except RequestException as e:\n",
    "        log_error('Error during requests to {0} : {1}'.format(url, str(e)))\n",
    "        return None\n",
    "\n",
    "\n",
    "def is_good_response(resp):\n",
    "    \"\"\"\n",
    "    Returns True if the response seems to be HTML, False otherwise.\n",
    "    \"\"\"\n",
    "    content_type = resp.headers['Content-Type'].lower()\n",
    "    return (resp.status_code == 200 \n",
    "            and content_type is not None \n",
    "            and content_type.find('html') > -1)\n",
    "\n",
    "\n",
    "def log_error(e):\n",
    "    \"\"\"\n",
    "    It is always a good idea to log errors. \n",
    "    This function just prints them, but you can\n",
    "    make it do anything.\n",
    "    \"\"\"\n",
    "    print(e)"
   ]
  },
  {
   "cell_type": "code",
   "execution_count": 22,
   "metadata": {},
   "outputs": [],
   "source": [
    "#Raw HTML\n",
    "raw_html = simple_get('https://howlongtobeat.com/game.php?id=10270')"
   ]
  },
  {
   "cell_type": "code",
   "execution_count": null,
   "metadata": {},
   "outputs": [],
   "source": [
    "#Paso el request a un objeto de BeatifulSoup\n",
    "html = BeautifulSoup(raw_html, 'html.parser')"
   ]
  },
  {
   "cell_type": "markdown",
   "metadata": {},
   "source": [
    "# Parseo del HTML"
   ]
  },
  {
   "cell_type": "markdown",
   "metadata": {},
   "source": [
    "## Titulo y rating"
   ]
  },
  {
   "cell_type": "code",
   "execution_count": 174,
   "metadata": {},
   "outputs": [],
   "source": [
    "#Titulo del juego\n",
    "titulo = html.find('div', {'class':\"profile_header shadow_text\"}).text.split('\\n')\n",
    "titulo = titulo[1].rstrip()"
   ]
  },
  {
   "cell_type": "code",
   "execution_count": 199,
   "metadata": {},
   "outputs": [
    {
     "data": {
      "text/plain": [
       "{'Titulo': 'The Witcher 3: Wild Hunt'}"
      ]
     },
     "execution_count": 199,
     "metadata": {},
     "output_type": "execute_result"
    }
   ],
   "source": [
    "#Pasamos a dict\n",
    "titulo_dict = {'Titulo' : titulo}\n",
    "titulo_dict"
   ]
  },
  {
   "cell_type": "code",
   "execution_count": 193,
   "metadata": {},
   "outputs": [],
   "source": [
    "#Detalles de rating, backlog, etc\n",
    "det=html.find('div', {'class':'profile_details'})"
   ]
  },
  {
   "cell_type": "code",
   "execution_count": 194,
   "metadata": {},
   "outputs": [
    {
     "data": {
      "text/plain": [
       "<div class=\"profile_details\">\n",
       "<li>2.1K Playing</li>\n",
       "<li>7K Backlogs</li>\n",
       "<li>911 Replays</li>\n",
       "<li>1% Retired\n",
       "</li>\n",
       "<li>96% Rating</li>\n",
       "<li>5.7K Beat</li>\n",
       "<div class=\"clear\"></div>\n",
       "</div>"
      ]
     },
     "execution_count": 194,
     "metadata": {},
     "output_type": "execute_result"
    }
   ],
   "source": [
    "det"
   ]
  },
  {
   "cell_type": "code",
   "execution_count": 99,
   "metadata": {},
   "outputs": [],
   "source": [
    "# Rating\n",
    "details = []\n",
    "for i, li in enumerate(det.select('li')):\n",
    "        dicc = {i: li.text}\n",
    "        details.append(li.text)\n",
    "rating = details[4][0:2]"
   ]
  },
  {
   "cell_type": "code",
   "execution_count": 200,
   "metadata": {},
   "outputs": [
    {
     "data": {
      "text/plain": [
       "{'Rating': '96'}"
      ]
     },
     "execution_count": 200,
     "metadata": {},
     "output_type": "execute_result"
    }
   ],
   "source": [
    "#Pasamos a dict\n",
    "rating_dict = {'Rating': rating}\n",
    "rating_dict"
   ]
  },
  {
   "cell_type": "markdown",
   "metadata": {},
   "source": [
    "## Completion Times"
   ]
  },
  {
   "cell_type": "code",
   "execution_count": 191,
   "metadata": {},
   "outputs": [],
   "source": [
    "#Tiempos\n",
    "tiempos = html.find_all('li', {'class':'short time_100'})"
   ]
  },
  {
   "cell_type": "code",
   "execution_count": 190,
   "metadata": {},
   "outputs": [
    {
     "data": {
      "text/plain": [
       "[<li class=\"short time_100\">\n",
       " <h5>Main Story</h5>\n",
       " <div>49½ Hours </div>\n",
       " </li>, <li class=\"short time_100\">\n",
       " <h5>Main + Extras</h5>\n",
       " <div>103 Hours </div>\n",
       " </li>, <li class=\"short time_100\">\n",
       " <h5>Completionist</h5>\n",
       " <div>171 Hours </div>\n",
       " </li>, <li class=\"short time_100\">\n",
       " <h5>All Styles</h5>\n",
       " <div>102 Hours </div>\n",
       " </li>]"
      ]
     },
     "execution_count": 190,
     "metadata": {},
     "output_type": "execute_result"
    }
   ],
   "source": [
    "#Vemos como quedó\n",
    "tiempos"
   ]
  },
  {
   "cell_type": "code",
   "execution_count": 195,
   "metadata": {},
   "outputs": [],
   "source": [
    "#Descompongo cada uno de los tiempos\n",
    "times = []\n",
    "for i in range(4):\n",
    "    x = tiempos[i].select('div')\n",
    "    x = str(x[0])\n",
    "    x = x.replace('<div>', '')\n",
    "    x = x.replace('</div>','')\n",
    "    x = x.rstrip()\n",
    "    times.append(x)"
   ]
  },
  {
   "cell_type": "code",
   "execution_count": 196,
   "metadata": {},
   "outputs": [
    {
     "data": {
      "text/plain": [
       "['49½ Hours', '103 Hours', '171 Hours', '102 Hours']"
      ]
     },
     "execution_count": 196,
     "metadata": {},
     "output_type": "execute_result"
    }
   ],
   "source": [
    "times"
   ]
  },
  {
   "cell_type": "code",
   "execution_count": 202,
   "metadata": {},
   "outputs": [
    {
     "data": {
      "text/plain": [
       "{'All Styles': '102 Hours',\n",
       " 'Completionist': '171 Hours',\n",
       " 'Main + Extras': '103 Hours',\n",
       " 'Main Story': '49½ Hours'}"
      ]
     },
     "execution_count": 202,
     "metadata": {},
     "output_type": "execute_result"
    }
   ],
   "source": [
    "# Creo un diccionario con la clave de cada tiempo\n",
    "times_dict = {'Main Story': times[0],\n",
    "              'Main + Extras' : times[1],\n",
    "              'Completionist' : times[2],\n",
    "              'All Styles' : times[3]}\n",
    "times_dict"
   ]
  },
  {
   "cell_type": "markdown",
   "metadata": {},
   "source": [
    "## Informacion adicional del juego"
   ]
  },
  {
   "cell_type": "code",
   "execution_count": 32,
   "metadata": {},
   "outputs": [
    {
     "data": {
      "text/plain": [
       "[<div class=\"profile_info\">\n",
       " <strong>\n",
       " Developer:\n",
       " </strong>\n",
       " CD Projekt RED </div>, <div class=\"profile_info\">\n",
       " <strong>\n",
       " Publishers:\n",
       " </strong>\n",
       " CD Projekt, Warner Bros. Interactive Entertainment </div>, <div class=\"profile_info\">\n",
       " <strong>\n",
       " Playable On:\n",
       " </strong>\n",
       " Linux, PC, PlayStation 4, Xbox One </div>, <div class=\"profile_info\">\n",
       " <strong>\n",
       " Genres:\n",
       " </strong>\n",
       " Third-Person, Action, Adventure, Open World, Role-Playing </div>, <div class=\"profile_info\">\n",
       " <strong>NA:</strong> May 19, 2015 </div>, <div class=\"profile_info\">\n",
       " <strong>EU:</strong> May 19, 2015 </div>, <div class=\"profile_info\">\n",
       " <strong>JP:</strong> May 19, 2015 </div>, <div class=\"profile_info\">\n",
       " <strong>Updated:</strong> 7 Mins Ago </div>]"
      ]
     },
     "execution_count": 32,
     "metadata": {},
     "output_type": "execute_result"
    }
   ],
   "source": [
    "# Info del juego\n",
    "prof = html.find_all('div', {'class':'profile_info'})"
   ]
  },
  {
   "cell_type": "code",
   "execution_count": 203,
   "metadata": {},
   "outputs": [],
   "source": [
    "prof = html.find_all('div', {'class':'profile_info'})"
   ]
  },
  {
   "cell_type": "code",
   "execution_count": 207,
   "metadata": {},
   "outputs": [
    {
     "data": {
      "text/plain": [
       "<div class=\"profile_info\">\n",
       "<strong>\n",
       "Genres:\n",
       "</strong>\n",
       "Third-Person, Action, Adventure, Open World, Role-Playing </div>"
      ]
     },
     "execution_count": 207,
     "metadata": {},
     "output_type": "execute_result"
    }
   ],
   "source": [
    "# Creo un diccionario con la info\n",
    "keys = ['Developer', 'Publishers', 'Playable On', 'Genres']\n",
    "info_dict = {}\n",
    "\n",
    "for i in range(4):\n",
    "    \n",
    "prof[0] ## Developer\n",
    "prof[1] ## Publishers\n",
    "prof[2] ## Playable On\n",
    "prof[3] ##Genres"
   ]
  },
  {
   "cell_type": "code",
   "execution_count": 219,
   "metadata": {},
   "outputs": [
    {
     "data": {
      "text/plain": [
       "<div class=\"profile_info\">\n",
       "<strong>\n",
       "Developer:\n",
       "</strong>\n",
       "CD Projekt RED </div>"
      ]
     },
     "execution_count": 219,
     "metadata": {},
     "output_type": "execute_result"
    }
   ],
   "source": [
    "prof.find"
   ]
  },
  {
   "cell_type": "code",
   "execution_count": null,
   "metadata": {},
   "outputs": [],
   "source": []
  },
  {
   "cell_type": "code",
   "execution_count": null,
   "metadata": {},
   "outputs": [],
   "source": []
  },
  {
   "cell_type": "code",
   "execution_count": null,
   "metadata": {},
   "outputs": [],
   "source": [
    "#Para juntar los diccionarios\n",
    "\n",
    "{**titulo_dict, **rating_dict, **times_dict}"
   ]
  }
 ],
 "metadata": {
  "kernelspec": {
   "display_name": "Python 3",
   "language": "python",
   "name": "python3"
  },
  "language_info": {
   "codemirror_mode": {
    "name": "ipython",
    "version": 3
   },
   "file_extension": ".py",
   "mimetype": "text/x-python",
   "name": "python",
   "nbconvert_exporter": "python",
   "pygments_lexer": "ipython3",
   "version": "3.6.4"
  }
 },
 "nbformat": 4,
 "nbformat_minor": 2
}
