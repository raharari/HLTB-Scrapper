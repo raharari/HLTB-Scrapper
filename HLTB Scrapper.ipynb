{
 "cells": [
  {
   "cell_type": "markdown",
   "metadata": {},
   "source": [
    "## Probar selenium para navegar con incognito y con la libreria time espaciarle los requests"
   ]
  },
  {
   "cell_type": "code",
   "execution_count": 12,
   "metadata": {},
   "outputs": [],
   "source": [
    "#Librerias\n",
    "import re\n",
    "from requests import get\n",
    "from requests.exceptions import RequestException\n",
    "from contextlib import closing\n",
    "from bs4 import BeautifulSoup\n",
    "import time"
   ]
  },
  {
   "cell_type": "code",
   "execution_count": 2,
   "metadata": {},
   "outputs": [],
   "source": [
    "# Funcion get\n",
    "def simple_get(url):\n",
    "    \"\"\"\n",
    "    Attempts to get the content at `url` by making an HTTP GET request.\n",
    "    If the content-type of response is some kind of HTML/XML, return the\n",
    "    text content, otherwise return None.\n",
    "    \"\"\"\n",
    "    head = {'user-agent': 'Mozilla/5.0 (X11; Linux x86_64) AppleWebKit/537.36 (KHTML, like Gecko) '\n",
    "        'Chrome/59.0.3071.115 Safari/537.36'}\n",
    "    try:\n",
    "        with closing(get(url, stream=True, headers=head)) as resp:\n",
    "            if is_good_response(resp):\n",
    "                return resp.content\n",
    "            else:\n",
    "                return None\n",
    "\n",
    "    except RequestException as e:\n",
    "        log_error('Error during requests to {0} : {1}'.format(url, str(e)))\n",
    "        return None\n",
    "\n",
    "\n",
    "def is_good_response(resp):\n",
    "    \"\"\"\n",
    "    Returns True if the response seems to be HTML, False otherwise.\n",
    "    \"\"\"\n",
    "    content_type = resp.headers['Content-Type'].lower()\n",
    "    return (resp.status_code == 200 \n",
    "            and content_type is not None \n",
    "            and content_type.find('html') > -1)\n",
    "\n",
    "\n",
    "def log_error(e):\n",
    "    \"\"\"\n",
    "    It is always a good idea to log errors. \n",
    "    This function just prints them, but you can\n",
    "    make it do anything.\n",
    "    \"\"\"\n",
    "    print(e)"
   ]
  },
  {
   "cell_type": "markdown",
   "metadata": {},
   "source": [
    "# Codigo final todo junto"
   ]
  },
  {
   "cell_type": "code",
   "execution_count": 18,
   "metadata": {},
   "outputs": [
    {
     "data": {
      "text/plain": [
       "[0, 1, 2, 3, 4, 5, 6, 7, 8, 9]"
      ]
     },
     "execution_count": 18,
     "metadata": {},
     "output_type": "execute_result"
    }
   ],
   "source": [
    "ids = list(range(10000))"
   ]
  },
  {
   "cell_type": "code",
   "execution_count": 13,
   "metadata": {},
   "outputs": [],
   "source": [
    "ids = [27100,10270,57503,10469,38019,55358,1066,11111]"
   ]
  },
  {
   "cell_type": "code",
   "execution_count": 14,
   "metadata": {},
   "outputs": [],
   "source": [
    "##Loopeo sobre los id de la URL\n",
    "games = []\n",
    "\n",
    "try:\n",
    "    for id in ids:\n",
    "        url = 'https://howlongtobeat.com/game.php?id='+str(id)\n",
    "        raw_html = simple_get(url)\n",
    "        html = BeautifulSoup(raw_html, 'html.parser')\n",
    "\n",
    "        ## Titulo del juego\n",
    "        titulo = html.find('div', {'class':\"profile_header shadow_text\"}).text.split('\\n')\n",
    "        titulo = titulo[1].rstrip()\n",
    "            #Pasamos a dict\n",
    "        titulo_dict = {'Titulo' : titulo}\n",
    "\n",
    "\n",
    "        ## Rating\n",
    "        det=html.find('div', {'class':'profile_details'})\n",
    "        details = []\n",
    "        for i, li in enumerate(det.select('li')):\n",
    "            dicc = {i: li.text}\n",
    "            details.append(li.text)\n",
    "        rating = details[4][0:2]\n",
    "            #Pasamos a dict\n",
    "        rating_dict = {'Rating': rating}\n",
    "        rating_dict\n",
    "\n",
    "\n",
    "        ## Completion Times\n",
    "        tiempos = html.find_all('li',class_=re.compile(\"short time_\"))\n",
    "            #Descompongo cada uno de los tiempos\n",
    "        times = []\n",
    "        for n in range(4):\n",
    "            x = tiempos[n].select('div')\n",
    "            x = str(x[0])\n",
    "            x = x.replace('<div>', '')\n",
    "            x = x.replace('</div>','')\n",
    "            x = x.rstrip()\n",
    "            times.append(x)\n",
    "            #Creo un diccionario con la clave de cada tiempo\n",
    "        times_dict = {'Main Story'    : times[0],\n",
    "                      'Main + Extras' : times[1],\n",
    "                      'Completionist' : times[2],\n",
    "                      'All Styles'    : times[3]}\n",
    "\n",
    "\n",
    "        ## Info del juego\n",
    "        prof = html.find_all('div', {'class':'profile_info'})\n",
    "            #Creo un diccionario con la info\n",
    "        info_dict = {'Developer'   : prof[0].contents[2].replace('\\n','').rstrip(),\n",
    "                     'Publishers'  : prof[1].contents[2].replace('\\n','').rstrip(),\n",
    "                     'Playable On' : prof[2].contents[2].replace('\\n','').rstrip(),\n",
    "                     'Genres'      : prof[3].contents[2].replace('\\n','').rstrip()}\n",
    "\n",
    "        ## Junto Todos los diccionarios en uno solo\n",
    "\n",
    "        games.append({**titulo_dict, **rating_dict, **times_dict, **info_dict})\n",
    "        time.sleep(2) # Esperar dos segundos entre cada loop\n",
    "except:\n",
    "    pass"
   ]
  },
  {
   "cell_type": "code",
   "execution_count": 15,
   "metadata": {},
   "outputs": [],
   "source": [
    "import pandas as pd\n",
    "games_df = pd.DataFrame(games)"
   ]
  },
  {
   "cell_type": "code",
   "execution_count": 16,
   "metadata": {},
   "outputs": [
    {
     "data": {
      "text/html": [
       "<div>\n",
       "<style scoped>\n",
       "    .dataframe tbody tr th:only-of-type {\n",
       "        vertical-align: middle;\n",
       "    }\n",
       "\n",
       "    .dataframe tbody tr th {\n",
       "        vertical-align: top;\n",
       "    }\n",
       "\n",
       "    .dataframe thead th {\n",
       "        text-align: right;\n",
       "    }\n",
       "</style>\n",
       "<table border=\"1\" class=\"dataframe\">\n",
       "  <thead>\n",
       "    <tr style=\"text-align: right;\">\n",
       "      <th></th>\n",
       "      <th>All Styles</th>\n",
       "      <th>Completionist</th>\n",
       "      <th>Developer</th>\n",
       "      <th>Genres</th>\n",
       "      <th>Main + Extras</th>\n",
       "      <th>Main Story</th>\n",
       "      <th>Playable On</th>\n",
       "      <th>Publishers</th>\n",
       "      <th>Rating</th>\n",
       "      <th>Titulo</th>\n",
       "    </tr>\n",
       "  </thead>\n",
       "  <tbody>\n",
       "    <tr>\n",
       "      <th>0</th>\n",
       "      <td>54½ Hours</td>\n",
       "      <td>175 Hours</td>\n",
       "      <td>Rockstar Studios</td>\n",
       "      <td>Third-Person, Action, Adventure, Open World, S...</td>\n",
       "      <td>63 Hours</td>\n",
       "      <td>40 Hours</td>\n",
       "      <td>PlayStation 4, Xbox One</td>\n",
       "      <td>Rockstar Games</td>\n",
       "      <td>94</td>\n",
       "      <td>Red Dead Redemption 2</td>\n",
       "    </tr>\n",
       "    <tr>\n",
       "      <th>1</th>\n",
       "      <td>102 Hours</td>\n",
       "      <td>171 Hours</td>\n",
       "      <td>CD Projekt RED</td>\n",
       "      <td>Third-Person, Action, Adventure, Open World, R...</td>\n",
       "      <td>103 Hours</td>\n",
       "      <td>49½ Hours</td>\n",
       "      <td>Linux, PC, PlayStation 4, Xbox One</td>\n",
       "      <td>CD Projekt, Warner Bros. Interactive Entertain...</td>\n",
       "      <td>96</td>\n",
       "      <td>The Witcher 3: Wild Hunt</td>\n",
       "    </tr>\n",
       "    <tr>\n",
       "      <th>2</th>\n",
       "      <td>71 Hours</td>\n",
       "      <td>102 Hours</td>\n",
       "      <td>Ubisoft Quebec</td>\n",
       "      <td>Third-Person, Action, Open World, Role-Playing</td>\n",
       "      <td>66 Hours</td>\n",
       "      <td>33 Hours</td>\n",
       "      <td>PC, PlayStation 4, Xbox One</td>\n",
       "      <td>Ubisoft</td>\n",
       "      <td>86</td>\n",
       "      <td>Assassin's Creed Odyssey</td>\n",
       "    </tr>\n",
       "    <tr>\n",
       "      <th>3</th>\n",
       "      <td>14½ Hours</td>\n",
       "      <td>20½ Hours</td>\n",
       "      <td>Crystal Dynamics, Eidos Montreal, Nixxes Softw...</td>\n",
       "      <td>Third-Person, Action, Adventure, Platform, Sho...</td>\n",
       "      <td>15½ Hours</td>\n",
       "      <td>11½ Hours</td>\n",
       "      <td>Linux, Mac, PC, PlayStation 3, PlayStation 4, ...</td>\n",
       "      <td>Square Enix</td>\n",
       "      <td>84</td>\n",
       "      <td>Tomb Raider (2013)</td>\n",
       "    </tr>\n",
       "    <tr>\n",
       "      <th>4</th>\n",
       "      <td>86 Hours</td>\n",
       "      <td>177 Hours</td>\n",
       "      <td>Nintendo EPD</td>\n",
       "      <td>Third-Person, Action, Adventure, Open World</td>\n",
       "      <td>91½ Hours</td>\n",
       "      <td>46½ Hours</td>\n",
       "      <td>Nintendo Switch, Wii U</td>\n",
       "      <td>Nintendo</td>\n",
       "      <td>94</td>\n",
       "      <td>The Legend of Zelda: Breath of the Wild</td>\n",
       "    </tr>\n",
       "    <tr>\n",
       "      <th>5</th>\n",
       "      <td>26 Hours</td>\n",
       "      <td>26 Hours</td>\n",
       "      <td>Toys for Bob</td>\n",
       "      <td>Third-Person, Platform</td>\n",
       "      <td>--</td>\n",
       "      <td>--</td>\n",
       "      <td>PlayStation 4</td>\n",
       "      <td>Activision</td>\n",
       "      <td>92</td>\n",
       "      <td>Spyro Reignited Trilogy</td>\n",
       "    </tr>\n",
       "    <tr>\n",
       "      <th>6</th>\n",
       "      <td>13 Hours</td>\n",
       "      <td>22½ Hours</td>\n",
       "      <td>2K Marin, Digital Extremes, 2K China, Arkane S...</td>\n",
       "      <td>First-Person, Shooter</td>\n",
       "      <td>14½ Hours</td>\n",
       "      <td>11 Hours</td>\n",
       "      <td>Mac, PC, PlayStation 3, PlayStation 4, Xbox 36...</td>\n",
       "      <td>2K Games, D3 Publisher</td>\n",
       "      <td>79</td>\n",
       "      <td>BioShock 2</td>\n",
       "    </tr>\n",
       "  </tbody>\n",
       "</table>\n",
       "</div>"
      ],
      "text/plain": [
       "  All Styles Completionist                                          Developer  \\\n",
       "0  54½ Hours     175 Hours                                   Rockstar Studios   \n",
       "1  102 Hours     171 Hours                                     CD Projekt RED   \n",
       "2   71 Hours     102 Hours                                     Ubisoft Quebec   \n",
       "3  14½ Hours     20½ Hours  Crystal Dynamics, Eidos Montreal, Nixxes Softw...   \n",
       "4   86 Hours     177 Hours                                       Nintendo EPD   \n",
       "5   26 Hours      26 Hours                                       Toys for Bob   \n",
       "6   13 Hours     22½ Hours  2K Marin, Digital Extremes, 2K China, Arkane S...   \n",
       "\n",
       "                                              Genres Main + Extras Main Story  \\\n",
       "0  Third-Person, Action, Adventure, Open World, S...      63 Hours   40 Hours   \n",
       "1  Third-Person, Action, Adventure, Open World, R...     103 Hours  49½ Hours   \n",
       "2     Third-Person, Action, Open World, Role-Playing      66 Hours   33 Hours   \n",
       "3  Third-Person, Action, Adventure, Platform, Sho...     15½ Hours  11½ Hours   \n",
       "4        Third-Person, Action, Adventure, Open World     91½ Hours  46½ Hours   \n",
       "5                             Third-Person, Platform            --         --   \n",
       "6                              First-Person, Shooter     14½ Hours   11 Hours   \n",
       "\n",
       "                                         Playable On  \\\n",
       "0                            PlayStation 4, Xbox One   \n",
       "1                 Linux, PC, PlayStation 4, Xbox One   \n",
       "2                        PC, PlayStation 4, Xbox One   \n",
       "3  Linux, Mac, PC, PlayStation 3, PlayStation 4, ...   \n",
       "4                             Nintendo Switch, Wii U   \n",
       "5                                      PlayStation 4   \n",
       "6  Mac, PC, PlayStation 3, PlayStation 4, Xbox 36...   \n",
       "\n",
       "                                          Publishers Rating  \\\n",
       "0                                     Rockstar Games     94   \n",
       "1  CD Projekt, Warner Bros. Interactive Entertain...     96   \n",
       "2                                            Ubisoft     86   \n",
       "3                                        Square Enix     84   \n",
       "4                                           Nintendo     94   \n",
       "5                                         Activision     92   \n",
       "6                             2K Games, D3 Publisher     79   \n",
       "\n",
       "                                    Titulo  \n",
       "0                    Red Dead Redemption 2  \n",
       "1                 The Witcher 3: Wild Hunt  \n",
       "2                 Assassin's Creed Odyssey  \n",
       "3                       Tomb Raider (2013)  \n",
       "4  The Legend of Zelda: Breath of the Wild  \n",
       "5                  Spyro Reignited Trilogy  \n",
       "6                               BioShock 2  "
      ]
     },
     "execution_count": 16,
     "metadata": {},
     "output_type": "execute_result"
    }
   ],
   "source": [
    "games_df"
   ]
  },
  {
   "cell_type": "code",
   "execution_count": 9,
   "metadata": {},
   "outputs": [],
   "source": [
    "games_df = games_df[['Titulo','Main Story','Main + Extras','Completionist','All Styles','Rating','Developer', 'Publishers', 'Genres']]"
   ]
  },
  {
   "cell_type": "code",
   "execution_count": 10,
   "metadata": {},
   "outputs": [
    {
     "data": {
      "text/html": [
       "<div>\n",
       "<style scoped>\n",
       "    .dataframe tbody tr th:only-of-type {\n",
       "        vertical-align: middle;\n",
       "    }\n",
       "\n",
       "    .dataframe tbody tr th {\n",
       "        vertical-align: top;\n",
       "    }\n",
       "\n",
       "    .dataframe thead th {\n",
       "        text-align: right;\n",
       "    }\n",
       "</style>\n",
       "<table border=\"1\" class=\"dataframe\">\n",
       "  <thead>\n",
       "    <tr style=\"text-align: right;\">\n",
       "      <th></th>\n",
       "      <th>Titulo</th>\n",
       "      <th>Main Story</th>\n",
       "      <th>Main + Extras</th>\n",
       "      <th>Completionist</th>\n",
       "      <th>All Styles</th>\n",
       "      <th>Rating</th>\n",
       "      <th>Developer</th>\n",
       "      <th>Publishers</th>\n",
       "      <th>Genres</th>\n",
       "    </tr>\n",
       "  </thead>\n",
       "  <tbody>\n",
       "    <tr>\n",
       "      <th>0</th>\n",
       "      <td>Red Dead Redemption 2</td>\n",
       "      <td>40 Hours</td>\n",
       "      <td>63 Hours</td>\n",
       "      <td>175 Hours</td>\n",
       "      <td>54½ Hours</td>\n",
       "      <td>94</td>\n",
       "      <td>Rockstar Studios</td>\n",
       "      <td>Rockstar Games</td>\n",
       "      <td>Third-Person, Action, Adventure, Open World, S...</td>\n",
       "    </tr>\n",
       "    <tr>\n",
       "      <th>1</th>\n",
       "      <td>The Witcher 3: Wild Hunt</td>\n",
       "      <td>49½ Hours</td>\n",
       "      <td>103 Hours</td>\n",
       "      <td>171 Hours</td>\n",
       "      <td>102 Hours</td>\n",
       "      <td>96</td>\n",
       "      <td>CD Projekt RED</td>\n",
       "      <td>CD Projekt, Warner Bros. Interactive Entertain...</td>\n",
       "      <td>Third-Person, Action, Adventure, Open World, R...</td>\n",
       "    </tr>\n",
       "    <tr>\n",
       "      <th>2</th>\n",
       "      <td>Assassin's Creed Odyssey</td>\n",
       "      <td>33 Hours</td>\n",
       "      <td>66 Hours</td>\n",
       "      <td>102 Hours</td>\n",
       "      <td>71 Hours</td>\n",
       "      <td>86</td>\n",
       "      <td>Ubisoft Quebec</td>\n",
       "      <td>Ubisoft</td>\n",
       "      <td>Third-Person, Action, Open World, Role-Playing</td>\n",
       "    </tr>\n",
       "    <tr>\n",
       "      <th>3</th>\n",
       "      <td>Tomb Raider (2013)</td>\n",
       "      <td>11½ Hours</td>\n",
       "      <td>15½ Hours</td>\n",
       "      <td>20½ Hours</td>\n",
       "      <td>14½ Hours</td>\n",
       "      <td>84</td>\n",
       "      <td>Crystal Dynamics, Eidos Montreal, Nixxes Softw...</td>\n",
       "      <td>Square Enix</td>\n",
       "      <td>Third-Person, Action, Adventure, Platform, Sho...</td>\n",
       "    </tr>\n",
       "    <tr>\n",
       "      <th>4</th>\n",
       "      <td>The Legend of Zelda: Breath of the Wild</td>\n",
       "      <td>46½ Hours</td>\n",
       "      <td>91½ Hours</td>\n",
       "      <td>177 Hours</td>\n",
       "      <td>86 Hours</td>\n",
       "      <td>94</td>\n",
       "      <td>Nintendo EPD</td>\n",
       "      <td>Nintendo</td>\n",
       "      <td>Third-Person, Action, Adventure, Open World</td>\n",
       "    </tr>\n",
       "    <tr>\n",
       "      <th>5</th>\n",
       "      <td>Spyro Reignited Trilogy</td>\n",
       "      <td>--</td>\n",
       "      <td>--</td>\n",
       "      <td>26 Hours</td>\n",
       "      <td>26 Hours</td>\n",
       "      <td>92</td>\n",
       "      <td>Toys for Bob</td>\n",
       "      <td>Activision</td>\n",
       "      <td>Third-Person, Platform</td>\n",
       "    </tr>\n",
       "    <tr>\n",
       "      <th>6</th>\n",
       "      <td>BioShock 2</td>\n",
       "      <td>11 Hours</td>\n",
       "      <td>14½ Hours</td>\n",
       "      <td>22½ Hours</td>\n",
       "      <td>13 Hours</td>\n",
       "      <td>79</td>\n",
       "      <td>2K Marin, Digital Extremes, 2K China, Arkane S...</td>\n",
       "      <td>2K Games, D3 Publisher</td>\n",
       "      <td>First-Person, Shooter</td>\n",
       "    </tr>\n",
       "  </tbody>\n",
       "</table>\n",
       "</div>"
      ],
      "text/plain": [
       "                                    Titulo Main Story Main + Extras  \\\n",
       "0                    Red Dead Redemption 2   40 Hours      63 Hours   \n",
       "1                 The Witcher 3: Wild Hunt  49½ Hours     103 Hours   \n",
       "2                 Assassin's Creed Odyssey   33 Hours      66 Hours   \n",
       "3                       Tomb Raider (2013)  11½ Hours     15½ Hours   \n",
       "4  The Legend of Zelda: Breath of the Wild  46½ Hours     91½ Hours   \n",
       "5                  Spyro Reignited Trilogy         --            --   \n",
       "6                               BioShock 2   11 Hours     14½ Hours   \n",
       "\n",
       "  Completionist All Styles Rating  \\\n",
       "0     175 Hours  54½ Hours     94   \n",
       "1     171 Hours  102 Hours     96   \n",
       "2     102 Hours   71 Hours     86   \n",
       "3     20½ Hours  14½ Hours     84   \n",
       "4     177 Hours   86 Hours     94   \n",
       "5      26 Hours   26 Hours     92   \n",
       "6     22½ Hours   13 Hours     79   \n",
       "\n",
       "                                           Developer  \\\n",
       "0                                   Rockstar Studios   \n",
       "1                                     CD Projekt RED   \n",
       "2                                     Ubisoft Quebec   \n",
       "3  Crystal Dynamics, Eidos Montreal, Nixxes Softw...   \n",
       "4                                       Nintendo EPD   \n",
       "5                                       Toys for Bob   \n",
       "6  2K Marin, Digital Extremes, 2K China, Arkane S...   \n",
       "\n",
       "                                          Publishers  \\\n",
       "0                                     Rockstar Games   \n",
       "1  CD Projekt, Warner Bros. Interactive Entertain...   \n",
       "2                                            Ubisoft   \n",
       "3                                        Square Enix   \n",
       "4                                           Nintendo   \n",
       "5                                         Activision   \n",
       "6                             2K Games, D3 Publisher   \n",
       "\n",
       "                                              Genres  \n",
       "0  Third-Person, Action, Adventure, Open World, S...  \n",
       "1  Third-Person, Action, Adventure, Open World, R...  \n",
       "2     Third-Person, Action, Open World, Role-Playing  \n",
       "3  Third-Person, Action, Adventure, Platform, Sho...  \n",
       "4        Third-Person, Action, Adventure, Open World  \n",
       "5                             Third-Person, Platform  \n",
       "6                              First-Person, Shooter  "
      ]
     },
     "execution_count": 10,
     "metadata": {},
     "output_type": "execute_result"
    }
   ],
   "source": [
    "games_df"
   ]
  },
  {
   "cell_type": "code",
   "execution_count": 35,
   "metadata": {},
   "outputs": [
    {
     "name": "stdout",
     "output_type": "stream",
     "text": [
      "<class 'list'>\n"
     ]
    }
   ],
   "source": [
    "print(type(games))\n"
   ]
  },
  {
   "cell_type": "markdown",
   "metadata": {},
   "source": [
    "# -------CODIGO ANTERIOR-------------"
   ]
  },
  {
   "cell_type": "markdown",
   "metadata": {},
   "source": [
    "## Titulo y rating"
   ]
  },
  {
   "cell_type": "code",
   "execution_count": 9,
   "metadata": {},
   "outputs": [],
   "source": [
    "#Titulo del juego\n",
    "titulo = html.find('div', {'class':\"profile_header shadow_text\"}).text.split('\\n')\n",
    "titulo = titulo[1].rstrip()"
   ]
  },
  {
   "cell_type": "code",
   "execution_count": 10,
   "metadata": {},
   "outputs": [
    {
     "data": {
      "text/plain": [
       "{'Titulo': 'The Witcher 3: Wild Hunt'}"
      ]
     },
     "execution_count": 10,
     "metadata": {},
     "output_type": "execute_result"
    }
   ],
   "source": [
    "#Pasamos a dict\n",
    "titulo_dict = {'Titulo' : titulo}\n",
    "titulo_dict"
   ]
  },
  {
   "cell_type": "code",
   "execution_count": 11,
   "metadata": {},
   "outputs": [],
   "source": [
    "#Detalles de rating, backlog, etc\n",
    "det=html.find('div', {'class':'profile_details'})"
   ]
  },
  {
   "cell_type": "code",
   "execution_count": 12,
   "metadata": {},
   "outputs": [
    {
     "data": {
      "text/plain": [
       "<div class=\"profile_details\">\n",
       "<li>2.1K Playing</li>\n",
       "<li>7K Backlogs</li>\n",
       "<li>914 Replays</li>\n",
       "<li>1% Retired\n",
       "</li>\n",
       "<li>96% Rating</li>\n",
       "<li>5.7K Beat</li>\n",
       "<div class=\"clear\"></div>\n",
       "</div>"
      ]
     },
     "execution_count": 12,
     "metadata": {},
     "output_type": "execute_result"
    }
   ],
   "source": [
    "det"
   ]
  },
  {
   "cell_type": "code",
   "execution_count": 60,
   "metadata": {},
   "outputs": [],
   "source": [
    "# Rating\n",
    "details = []\n",
    "for i, li in enumerate(det.select('li')):\n",
    "        dicc = {i: li.text}\n",
    "        details.append(li.text)\n",
    "rating = details[4][0:2]"
   ]
  },
  {
   "cell_type": "code",
   "execution_count": 61,
   "metadata": {},
   "outputs": [
    {
     "data": {
      "text/plain": [
       "{'Rating': '94'}"
      ]
     },
     "execution_count": 61,
     "metadata": {},
     "output_type": "execute_result"
    }
   ],
   "source": [
    "#Pasamos a dict\n",
    "rating_dict = {'Rating': rating}\n",
    "rating_dict"
   ]
  },
  {
   "cell_type": "markdown",
   "metadata": {},
   "source": [
    "## Completion Times"
   ]
  },
  {
   "cell_type": "code",
   "execution_count": 5,
   "metadata": {},
   "outputs": [
    {
     "data": {
      "text/plain": [
       "<!DOCTYPE html>\n",
       "\n",
       "<html>\n",
       "<head>\n",
       "<meta charset=\"utf-8\"/>\n",
       "<meta content=\"IE=edge,chrome=1\" http-equiv=\"X-UA-Compatible\"/>\n",
       "<link href=\"css/main_77.css\" rel=\"stylesheet\"/>\n",
       "<link href=\"css/desktop_77.css\" media=\"screen and (min-width: 769px)\" rel=\"stylesheet\"/>\n",
       "<link href=\"css/mobile_77.css\" media=\"screen and (max-width: 769px)\" rel=\"stylesheet\"/>\n",
       "<title>How long is Spyro Reignited Trilogy? - HLTB</title> <meta content=\"How long is Spyro Reignited Trilogy? HowLongToBeat has the answer. Create a backlog, submit your game times and compete with your friends!\" name=\"description\"/> <meta content=\"width=device-width,initial-scale=1,maximum-scale=1,user-scalable=no\" name=\"viewport\"/>\n",
       "<link href=\"img/icons/apple-touch-icon-57x57.png\" rel=\"apple-touch-icon\" sizes=\"57x57\"/>\n",
       "<link href=\"img/icons/apple-touch-icon-60x60.png\" rel=\"apple-touch-icon\" sizes=\"60x60\"/>\n",
       "<link href=\"img/icons/apple-touch-icon-72x72.png\" rel=\"apple-touch-icon\" sizes=\"72x72\"/>\n",
       "<link href=\"img/icons/apple-touch-icon-76x76.png\" rel=\"apple-touch-icon\" sizes=\"76x76\"/>\n",
       "<link href=\"img/icons/apple-touch-icon-114x114.png\" rel=\"apple-touch-icon\" sizes=\"114x114\"/>\n",
       "<link href=\"img/icons/apple-touch-icon-120x120.png\" rel=\"apple-touch-icon\" sizes=\"120x120\"/>\n",
       "<link href=\"img/icons/apple-touch-icon-144x144.png\" rel=\"apple-touch-icon\" sizes=\"144x144\"/>\n",
       "<link href=\"img/icons/apple-touch-icon-152x152.png\" rel=\"apple-touch-icon\" sizes=\"152x152\"/>\n",
       "<link href=\"img/icons/apple-touch-icon-180x180.png\" rel=\"apple-touch-icon\" sizes=\"180x180\"/>\n",
       "<link href=\"img/icons/favicon-32x32.png\" rel=\"icon\" sizes=\"32x32\" type=\"image/png\"/>\n",
       "<link href=\"img/icons/android-chrome-192x192.png\" rel=\"icon\" sizes=\"192x192\" type=\"image/png\"/>\n",
       "<link href=\"img/icons/favicon-96x96.png\" rel=\"icon\" sizes=\"96x96\" type=\"image/png\"/>\n",
       "<link href=\"img/icons/favicon-16x16.png\" rel=\"icon\" sizes=\"16x16\" type=\"image/png\"/>\n",
       "<link href=\"img/icons/manifest.json\" rel=\"manifest\"/>\n",
       "<link href=\"img/icons/favicon.ico\" rel=\"shortcut icon\"/>\n",
       "<meta content=\"HLTB\" name=\"application-name\">\n",
       "<meta content=\"https://howlongtobeat.com\" name=\"msapplication-starturl\"> <meta content=\"#287FC2\" name=\"msapplication-navbutton-color\">\n",
       "<meta content=\"#287FC2\" name=\"msapplication-TileColor\"/>\n",
       "<meta content=\"name=Home;action-uri=https://howlongtobeat.com;icon-uri=img/icons/favicon.ico\" name=\"msapplication-task\">\n",
       "<meta content=\"name=Search;action-uri=https://howlongtobeat.com/search.php;icon-uri=img/icons/favicon.ico\" name=\"msapplication-task\">\n",
       "<meta content=\"name=Submit;action-uri=https://howlongtobeat.com/submit.php;icon-uri=img/icons/favicon.ico\" name=\"msapplication-task\"/>\n",
       "<meta content=\"name=Control Panel;action-uri=https://howlongtobeat.com/user.php;icon-uri=img/icons/favicon.ico\" name=\"msapplication-task\"/>\n",
       "<meta content=\"img/icons/mstile-144x144.png\" name=\"msapplication-TileImage\"/>\n",
       "<meta content=\"img/icons/browserconfig.xml\" name=\"msapplication-config\"/>\n",
       "<meta content=\"#287FC2\" name=\"theme-color\"/>\n",
       "</meta></meta></meta></meta></meta></head>\n",
       "<body onload=\"\">\n",
       "<!--[if lt IE 7]>\n",
       "            <p class=\"chromeframe\">You are using an outdated browser. <a href=\"http://browsehappy.com/\">Upgrade your browser today</a> or <a href=\"http://www.google.com/chromeframe/?redirect=true\">install Google Chrome Frame</a> to better experience this site.</p>\n",
       "        <![endif]-->\n",
       "<div class=\"container\" id=\"top\"> <form autocomplete=\"off\" name=\"global_search_form\">\n",
       "<div class=\"nav\">\n",
       "<div class=\"contain_out back_white\">\n",
       "<div class=\"contain_in\">\n",
       "<div class=\"nav_g\">\n",
       "<a class=\"brand back_black\" href=\"./\"></a>\n",
       "<div class=\"main_links\">\n",
       "<ul class=\"site\">\n",
       "<a class=\"text_dark\" href=\"forum.php\"><li>Forum</li></a>\n",
       "<a class=\"text_dark\" href=\"stats.php\"><li>Stats</li></a>\n",
       "<a class=\"text_dark\" href=\"submit.php\"><li>Submit</li></a>\n",
       "</ul>\n",
       "<ul class=\"login\">\n",
       "<a class=\"text_dark\" href=\"login.php\"><li>Login</li></a>\n",
       "<a class=\"text_dark\" href=\"login.php?t=signup\"><li>Join</li></a>\n",
       "</ul>\n",
       "<div class=\"search_container\">\n",
       "<input autofocus=\"on\" class=\"global_search_box back_light\" id=\"global_search_box\" name=\"global_search_box\" onclick=\"search_enable();\" onkeypress=\"if(event.keyCode==13){return false;}\" onkeyup=\"return hitkey_l(event.keyCode,document.forms.global_search_form.t.value,this.value);\" onpaste=\"setTimeout(function() {return hitkey_l(0,document.forms.global_search_form.t.value,this.value);}, 50);\" placeholder=\"Search Your Favorite Games...\" type=\"text\" value=\"\"/>\n",
       "</div>\n",
       "</div>\n",
       "</div>\n",
       "</div>\n",
       "</div>\n",
       "<div class=\"nav_up back_lighter\" id=\"nav_u_drop\">\n",
       "<div class=\"contain_in\">\n",
       "<div class=\"content_25\" id=\"nav_profile_load\">\n",
       "<h4 class=\"global_padding back_pink shadow_box\">My Account</h4>\n",
       "<div class=\"in back_white shadow_box\">\n",
       "<ul>\n",
       "<li><a class=\"link_pink\" href=\"user.php?n=\">Profile</a></li>\n",
       "<li><a class=\"link_pink\" href=\"user.php?n=&amp;s=stats\">Stats</a></li>\n",
       "<li><a class=\"link_pink\" href=\"user.php?n=&amp;s=friends\">Friends</a></li>\n",
       "<li><a class=\"link_pink\" href=\"user.php?n=&amp;s=messages\">Messages</a></li>\n",
       "<li><a class=\"link_pink\" href=\"user.php?n=&amp;s=options\">Options</a></li>\n",
       "<li><a class=\"link_red\" href=\"login.php?t=out\">Log Out</a></li>\n",
       "</ul>\n",
       "</div>\n",
       "</div>\n",
       "<div class=\"content_25\" id=\"nav_playthroughs_load\">\n",
       "<h4 class=\"global_padding back_blue shadow_box\">\n",
       "My Games (<a class=\"text_white\" href=\"user.php?n=&amp;s=games&amp;playing=1&amp;backlog=1&amp;replays=1&amp;custom=1&amp;completed=1&amp;retired=1\">All</a>)\n",
       "</h4>\n",
       "<div class=\"in back_white shadow_box\">\n",
       "<ul>\n",
       "<li><a class=\"link_green\" href=\"user.php?n=&amp;s=games&amp;playing=1\">Playing</a></li>\n",
       "<li><a class=\"link_blue\" href=\"user.php?n=&amp;s=games&amp;backlog=1\">Backlog</a></li>\n",
       "<li><a class=\"link_blueish\" href=\"user.php?n=&amp;s=games&amp;replays=1\">Replays</a></li>\n",
       "<li><a class=\"link_purple\" href=\"user.php?n=&amp;s=games&amp;completed=1\">Completed</a></li>\n",
       "<li><a class=\"link_red\" href=\"user.php?n=&amp;s=games&amp;retired=1\">Retired</a></li>\n",
       "</ul>\n",
       "</div>\n",
       "</div>\n",
       "<div class=\"mobile_clear\"></div>\n",
       "<div class=\"content_50\" id=\"nav_games_load\">\n",
       "<div class=\"loading_bar\">\n",
       "<h4 class=\"global_padding text_orange shadow_box\">Games</h4>\n",
       "</div>\n",
       "</div>\n",
       "<div class=\"clear\"></div>\n",
       "<div class=\"content_100\"></div>\n",
       "</div>\n",
       "</div>\n",
       "</div>\n",
       "<div class=\"clear\"></div>\n",
       "<div class=\"global_padding back_yellow center\" id=\"note_bar\"></div>\n",
       "<div id=\"global_search\" style=\"display:none;\">\n",
       "<div class=\"contain_out\">\n",
       "<div class=\"contain_in\">\n",
       "<div class=\"content_50 back_dark shadow_box\">\n",
       "<input class=\"form_checkbox\" id=\"search_type_g\" name=\"t\" style=\"display:none;\" type=\"hidden\" value=\"games\"/>\n",
       "<a class=\"text_white\" href=\"javascript:change_class('game_list_tag','content_50_static back_blue center');\n",
       "\t\t\t\t\t\t\t change_class('user_list_tag','content_50_static center');\n",
       "\t\t\t\t\t\t\t document.forms.global_search_form.t.value = 'games';\n",
       "\t\t\t\t\t\t\t globalSearch(document.forms.global_search_form.t.value,'',document.forms.global_search_form.global_search_box.value);\">\n",
       "<h4 class=\"content_50_static back_blue center\" id=\"game_list_tag\">Games List</h4>\n",
       "</a>\n",
       "<a class=\"text_white\" href=\"javascript:change_class('user_list_tag','content_50_static back_pink center');\n",
       "\t\t\t\t\t\t\t change_class('game_list_tag','content_50_static center');\n",
       "\t\t\t\t\t\t\t document.forms.global_search_form.t.value = 'users';\n",
       "\t\t\t\t\t\t\t globalSearch(document.forms.global_search_form.t.value,'',document.forms.global_search_form.global_search_box.value);\">\n",
       "<h4 class=\"content_50_static center\" id=\"user_list_tag\">User List</h4>\n",
       "</a>\n",
       "<div class=\"clear\"></div>\n",
       "</div>\n",
       "<div class=\"content_25\">\n",
       "<input class=\"search_options_button back_darkish shadow_box\" onclick=\"search_options();\" type=\"button\" value=\"Search Options\"/>\n",
       "</div>\n",
       "<div class=\"content_25\">\n",
       "<input class=\"search_options_button back_light shadow_box\" onclick=\"search_enable('close');\" type=\"button\" value=\"Close\"/>\n",
       "</div>\n",
       "<div class=\"clear\"></div>\n",
       "<div id=\"global_search_opt\" style=\"display:none;\">\n",
       "<div id=\"search_preset_g\">\n",
       "<div class=\"content_33 back_dark shadow_box\" id=\"search_platform\">\n",
       "<div class=\"in\">\n",
       "<h5 class=\"left\">Platform</h5>\n",
       "<select autocomplete=\"off\" class=\"form_select back_white\" name=\"platform\" onchange='globalSearch(\"\",\"\",document.forms.global_search_form.global_search_box.value);' style=\"width:100%;\"><option value=\"\">All</option><option value=\"\">---------------</option><option value=\"Emulated\">Emulated</option><option value=\"Nintendo 3DS\">Nintendo 3DS</option><option value=\"Nintendo Switch\">Nintendo Switch</option><option value=\"PC\">PC</option><option value=\"PlayStation 3\">PlayStation 3</option><option value=\"PlayStation 4\">PlayStation 4</option><option value=\"Wii U\">Wii U</option><option value=\"Xbox 360\">Xbox 360</option><option value=\"Xbox One\">Xbox One</option><option value=\"\">---------------</option><option value=\"3DO\">3DO</option><option value=\"Amiga\">Amiga</option><option value=\"Amstrad CPC\">Amstrad CPC</option><option value=\"Android\">Android</option><option value=\"Apple II\">Apple II</option><option value=\"Arcade\">Arcade</option><option value=\"Atari 2600\">Atari 2600</option><option value=\"Atari 5200\">Atari 5200</option><option value=\"Atari 7800\">Atari 7800</option><option value=\"Atari 8-bit Family\">Atari 8-bit Family</option><option value=\"Atari Jaguar\">Atari Jaguar</option><option value=\"Atari Jaguar CD\">Atari Jaguar CD</option><option value=\"Atari Lynx\">Atari Lynx</option><option value=\"Atari ST\">Atari ST</option><option value=\"BBC Micro\">BBC Micro</option><option value=\"Browser\">Browser</option><option value=\"ColecoVision\">ColecoVision</option><option value=\"Commodore 64\">Commodore 64</option><option value=\"Dreamcast\">Dreamcast</option><option value=\"Emulated\">Emulated</option><option value=\"FM Towns\">FM Towns</option><option value=\"Game &amp; Watch\">Game &amp; Watch</option><option value=\"Game Boy\">Game Boy</option><option value=\"Game Boy Advance\">Game Boy Advance</option><option value=\"Game Boy Color\">Game Boy Color</option><option value=\"Gear VR\">Gear VR</option><option value=\"HTC Vive\">HTC Vive</option><option value=\"Intellivision\">Intellivision</option><option value=\"Interactive Movie\">Interactive Movie</option><option value=\"iOS\">iOS</option><option value=\"Linux\">Linux</option><option value=\"Mac\">Mac</option><option value=\"Mobile\">Mobile</option><option value=\"MSX\">MSX</option><option value=\"N-Gage\">N-Gage</option><option value=\"Neo Geo\">Neo Geo</option><option value=\"Neo Geo CD\">Neo Geo CD</option><option value=\"Neo Geo Pocket\">Neo Geo Pocket</option><option value=\"Neo Geo Pocket Color\">Neo Geo Pocket Color</option><option value=\"NES\">NES</option><option value=\"Nintendo 2DS\">Nintendo 2DS</option><option value=\"Nintendo 3DS\">Nintendo 3DS</option><option value=\"Nintendo 64\">Nintendo 64</option><option value=\"Nintendo DS\">Nintendo DS</option><option value=\"Nintendo GameCube\">Nintendo GameCube</option><option value=\"Nintendo Switch\">Nintendo Switch</option><option value=\"Oculus Go\">Oculus Go</option><option value=\"Oculus Rift\">Oculus Rift</option><option value=\"OnLive\">OnLive</option><option value=\"Ouya\">Ouya</option><option value=\"PC\">PC</option><option value=\"Philips CD-i\">Philips CD-i</option><option value=\"Philips Videopac G7000\">Philips Videopac G7000</option><option value=\"PlayStation\">PlayStation</option><option value=\"PlayStation 2\">PlayStation 2</option><option value=\"PlayStation 3\">PlayStation 3</option><option value=\"PlayStation 4\">PlayStation 4</option><option value=\"PlayStation Mobile\">PlayStation Mobile</option><option value=\"PlayStation Now\">PlayStation Now</option><option value=\"PlayStation Vita\">PlayStation Vita</option><option value=\"PlayStation VR\">PlayStation VR</option><option value=\"Plug &amp; Play\">Plug &amp; Play</option><option value=\"PSP\">PSP</option><option value=\"Sega 32X\">Sega 32X</option><option value=\"Sega CD\">Sega CD</option><option value=\"Sega Game Gear\">Sega Game Gear</option><option value=\"Sega Master System\">Sega Master System</option><option value=\"Sega Mega Drive/Genesis\">Sega Mega Drive/Genesis</option><option value=\"Sega Saturn\">Sega Saturn</option><option value=\"Sharp X68000\">Sharp X68000</option><option value=\"Super Nintendo\">Super Nintendo</option><option value=\"Tiger Handheld\">Tiger Handheld</option><option value=\"TurboGrafx-16\">TurboGrafx-16</option><option value=\"TurboGrafx-CD\">TurboGrafx-CD</option><option value=\"Virtual Boy\">Virtual Boy</option><option value=\"Wii\">Wii</option><option value=\"Wii U\">Wii U</option><option value=\"Windows Phone\">Windows Phone</option><option value=\"WonderSwan\">WonderSwan</option><option value=\"Xbox\">Xbox</option><option value=\"Xbox 360\">Xbox 360</option><option value=\"Xbox One\">Xbox One</option><option value=\"ZX Spectrum\">ZX Spectrum</option></select> <h5 class=\"left\">Sort By</h5>\n",
       "<select class=\"form_select back_white\" name=\"search_sort_g\" onchange=\"globalSearch(document.forms.global_search_form.t.value,'',document.forms.global_search_form.global_search_box.value);\">\n",
       "<option value=\"name\">Name</option>\n",
       "<option value=\"main\">Main Story</option>\n",
       "<option value=\"mainp\">Main + Extras</option>\n",
       "<option value=\"comp\">Completionist</option>\n",
       "<option value=\"averagea\">Average Time</option>\n",
       "<option value=\"rating\">Top Rated</option>\n",
       "<option selected=\"selected\" value=\"popular\">Most Popular</option>\n",
       "<option value=\"backlog\">Most Backlogs</option>\n",
       "<option value=\"usersp\">Most Submissions</option>\n",
       "<option value=\"playing\">Most Played</option>\n",
       "<option value=\"speedruns\">Most Speedruns</option>\n",
       "<option value=\"release\">Release Date</option>\n",
       "</select>\n",
       "</div>\n",
       "</div>\n",
       "<div class=\"content_33 back_dark shadow_box\">\n",
       "<div class=\"in\">\n",
       "<h5 class=\"left\">Length Range Category</h5>\n",
       "<select class=\"form_select back_white\" name=\"search_range_type\" onchange=\"globalSearch(document.forms.global_search_form.t.value,'',document.forms.global_search_form.global_search_box.value);\">\n",
       "<option value=\"main\">Main Story</option>\n",
       "<option value=\"mainp\">Main + Extras</option>\n",
       "<option value=\"comp\">Completionist</option>\n",
       "<option value=\"averagea\">Average Time</option>\n",
       "</select>\n",
       "<h5 class=\"left\">Hour Range</h5>\n",
       "<input class=\"search_range_l back_white\" id=\"search_len_min_g\" name=\"search_len_str_g\" onkeyup=\"return hitkey_l(event.keyCode,document.forms.global_search_form.t.value,document.forms.global_search_form.global_search_box.value);\" placeholder=\"Min\" type=\"text\"/>\n",
       "<input class=\"search_range_r back_white\" id=\"search_len_max_g\" name=\"search_len_end_g\" onkeyup=\"return hitkey_l(event.keyCode,document.forms.global_search_form.t.value,document.forms.global_search_form.global_search_box.value);\" placeholder=\"Max\" type=\"text\"/>\n",
       "<div class=\"clear\"></div>\n",
       "</div>\n",
       "</div>\n",
       "</div>\n",
       "<div class=\"content_66 back_dark shadow_box\" id=\"search_preset_u\">\n",
       "<div class=\"in\">\n",
       "<h5 class=\"left\">Sort By</h5>\n",
       "<select class=\"form_select back_white\" name=\"search_sort_u\" onchange=\"globalSearch(document.forms.global_search_form.t.value,'',document.forms.global_search_form.global_search_box.value);\">\n",
       "<option value=\"name\">Name</option>\n",
       "<option value=\"gender\">Gender</option>\n",
       "<option value=\"age\">Age</option>\n",
       "<option value=\"numbacklog\">Most Backlogs</option>\n",
       "<option value=\"numcomp\">Most Completed</option>\n",
       "<option selected=\"selected\" value=\"postcount\">Top Posters</option>\n",
       "</select>\n",
       "</div>\n",
       "</div>\n",
       "<div class=\"content_33 back_dark shadow_box\">\n",
       "<div class=\"in\">\n",
       "<div id=\"search_detail_box\">\n",
       "<h5 class=\"left\">Show Extra Information</h5>\n",
       "<select class=\"form_select back_white\" name=\"detail\" onchange=\"globalSearch(document.forms.global_search_form.t.value,'',document.forms.global_search_form.global_search_box.value);\">\n",
       "<option value=\"\">None</option>\n",
       "<option value=\"user_stats\">User Stats</option>\n",
       "</select>\n",
       "</div>\n",
       "<h5 class=\"left\">Other Options</h5>\n",
       "<input class=\"form_button back_dark\" name=\"sortd\" onclick=\"search_flip(document.forms.global_search_form.sortd.value,'search');globalSearch(document.forms.global_search_form.t.value,'',document.forms.global_search_form.global_search_box.value);\" type=\"button\" value=\"Normal Order\"/>\n",
       "<input class=\"form_button back_red\" onmouseup=\"setTimeout(function(){search_flip('Reverse Order','search');globalSearch(document.forms.global_search_form.t.value,'','');},100);\" type=\"reset\"/>\n",
       "</div>\n",
       "</div>\n",
       "<div class=\"clear\"></div>\n",
       "</div>\n",
       "<div class=\"content_100\">\n",
       "<div class=\"search_list\" id=\"global_search_content\"></div>\n",
       "</div>\n",
       "<div class=\"clear\"></div>\n",
       "</div>\n",
       "</div></div>\n",
       "</form>\n",
       "<div id=\"global_site\"> <div class=\"contain_out back_blue shadow_box\">\n",
       "<div class=\"contain_in\" style=\"\tbackground-image: radial-gradient(circle at 50%, rgba(50, 142, 214, 0.7), rgba(50, 142, 214, 0.95) 75%, #328ed6 100%), url('https://howlongtobeat.com/gameimages/55358_Spyro_Reignited_Trilogy.jpg');\n",
       "\t\t\t\t\t\t\t\t\t\tbackground-position: center center;\n",
       "\t\t\t\t\t\t\t\t\t\tbackground-size: cover;\"> <div class=\"profile_header_game\"> <div class=\"profile_header shadow_text\">\n",
       "Spyro Reignited Trilogy </div>\n",
       "<div class=\"profile_details\">\n",
       "<li>52 Playing</li>\n",
       "<li>87 Backlogs</li>\n",
       "<li>0 Replays</li>\n",
       "<li>1% Retired\n",
       "</li>\n",
       "<li>92% Rating</li>\n",
       "<li>18 Beat</li>\n",
       "<div class=\"clear\"></div>\n",
       "</div>\n",
       "</div> <div class=\"content_75_static scrollable back_clear\"> <div class=\"profile_nav\">\n",
       "<a href=\"game.php?id=55358\">\n",
       "<li class=\"back_darkish\">Overview</li>\n",
       "</a>\n",
       "<a href=\"forum.php?game=55358\"><li>Discussion (0)</li></a> <a href=\"game.php?id=55358&amp;s=reviews\"><li class=\"\">Reviews</li></a> <a href=\"game.php?id=55358&amp;s=playing\"><li class=\"\">Playing</li></a> <a href=\"game.php?id=55358&amp;s=backlogs\"><li class=\"\">Backlogs</li></a> <a href=\"game.php?id=55358&amp;s=completions\"><li class=\"\">Completions</li></a> <a href=\"game.php?id=55358&amp;s=retired\"><li class=\"\">Retired</li></a> <div class=\"clear\"></div>\n",
       "</div>\n",
       "</div>\n",
       "</div>\n",
       "<div class=\"clear\"></div>\n",
       "</div>\n",
       "<div class=\"contain_out\">\n",
       "<div class=\"contain_in\"> <div class=\"content_25_static game_bar\"> <div class=\"game_image\">\n",
       "<img class=\"shadow_box\" src=\"https://howlongtobeat.com/gameimages/55358_Spyro_Reignited_Trilogy.jpg\"/>\n",
       "</div> <div class=\"in back_darkish shadow_box\"> <a class=\"text_orange center\" href=\"submit.php?s=add&amp;gid=55358\" title=\"Submit Your Time\"><h4>Submit Your Time</h4></a> <div class=\"clear\"></div>\n",
       "</div>\n",
       "<div class=\"mobile_clear\"></div> </div>\n",
       "<div class=\"content_75_static\"> <div class=\"game_times shadow_box\"> <li class=\"short time_00\">\n",
       "<h5>Main Story</h5>\n",
       "<div>-- </div>\n",
       "</li>\n",
       "<li class=\"short time_00\">\n",
       "<h5>Main + Extras</h5>\n",
       "<div>-- </div>\n",
       "</li>\n",
       "<li class=\"short time_40\">\n",
       "<h5>Completionist</h5>\n",
       "<div>26 Hours </div>\n",
       "</li>\n",
       "<li class=\"short time_40\">\n",
       "<h5>All Styles</h5>\n",
       "<div>26 Hours </div>\n",
       "</li> <div class=\"guide\">\n",
       "<div class=\"guide_node time_40 shadow_box\"> </div>\n",
       "<div class=\"guide_node time_50 shadow_box\"> </div>\n",
       "<div class=\"guide_node time_60 shadow_box\"> </div>\n",
       "<div class=\"guide_node time_70 shadow_box\"> </div>\n",
       "<div class=\"guide_node time_80 shadow_box\"> </div>\n",
       "<div class=\"guide_node time_90 shadow_box\"> </div>\n",
       "<div class=\"guide_node time_100 shadow_box\"></div>\n",
       "</div>\n",
       "</div> <div class=\"in back_white shadow_box\"> <p style=\"margin-bottom: 10px;\"> The original roast master is back! Same sick burns, same smoldering attitude, now all scaled up in stunning HD. Spyro is bringing the heat like never before in the Spyro Reignited Trilogy game collection. Rekindle the fire with the original three games, Spyro the Dragon, Spyro 2: Ripto's Rage! and Spyro: Year of the Dragon. Explore the expansive re<a id=\"profile_summary_more\" onclick=\"document.getElementById('profile_summary_more').style.display = 'none';document.getElementById('profile_summary_rest').style.display = 'inline';\">...Read More</a><span id=\"profile_summary_rest\" style=\"display:none;\">alms, re-encounter the fiery personalities and relive the adventure in fully remastered glory. Because when there’s a realm that needs saving, there’s only one dragon to call.</span>\n",
       "</p> <div> <div class=\"profile_info\">\n",
       "<strong>\n",
       "Developer:\n",
       "</strong>\n",
       "Toys for Bob </div> <div class=\"profile_info\">\n",
       "<strong>\n",
       "Publisher:\n",
       "</strong>\n",
       "Activision </div> <div class=\"profile_info\">\n",
       "<strong>\n",
       "Playable On:\n",
       "</strong>\n",
       "PlayStation 4 </div> <div class=\"profile_info\">\n",
       "<strong>\n",
       "Genres:\n",
       "</strong>\n",
       "Third-Person, Platform </div> <div class=\"profile_info\">\n",
       "<strong>NA:</strong> September 21, 2018 </div> <div class=\"profile_info\">\n",
       "<strong>Updated:</strong> 1 Hour Ago </div> </div>\n",
       "</div> <div class=\"in scrollable shadow_box back_white\">\n",
       "<table>\n",
       "<thead>\n",
       "<tr>\n",
       "<td>Single-Player</td>\n",
       "<td class=\"center\" style=\"width: 50px;\">Polled</td> <td>Average</td>\n",
       "<td>Median</td>\n",
       "<td>Rushed</td>\n",
       "<td>Leisure</td>\n",
       "</tr>\n",
       "</thead> <tbody class=\"spreadsheet\">\n",
       "<tr>\n",
       "<td>Completionists</td>\n",
       "<td class=\"center time_40_text\">1 </td> <td>25h 45m </td>\n",
       "<td>25h 45m </td>\n",
       "<td>25h 45m </td>\n",
       "<td>25h 45m </td>\n",
       "</tr>\n",
       "</tbody> <tbody class=\"spreadsheet\">\n",
       "<tr>\n",
       "<td>All PlayStyles</td>\n",
       "<td class=\"center time_40_text\">1 </td> <td>25h 45m </td>\n",
       "<td>25h 45m </td>\n",
       "<td>25h 45m </td>\n",
       "<td>25h 45m </td>\n",
       "</tr>\n",
       "</tbody>\n",
       "</table>\n",
       "<div class=\"mobile_show_block scrollable_hint\">Scroll for More ►</div>\n",
       "</div> <div class=\"in shadow_box back_white\"> <div class=\"scrollable\">\n",
       "<table class=\"game_main_table\">\n",
       "<thead>\n",
       "<tr>\n",
       "<td>Platform</td>\n",
       "<td class=\"center\" style=\"width: 50px;\">Polled</td>\n",
       "<td>Main</td>\n",
       "<td>Main +</td>\n",
       "<td>100%</td>\n",
       "<td>Fastest</td>\n",
       "<td>Longest</td>\n",
       "</tr>\n",
       "</thead>\n",
       "<tbody> <tr class=\"spreadsheet\">\n",
       "<td>PlayStation 4 </td>\n",
       "<td class=\"center time_40_text\">1</td>\n",
       "<td>--</td>\n",
       "<td>--</td>\n",
       "<td>25h 45m </td>\n",
       "<td>25h 45m </td>\n",
       "<td>25h 45m </td>\n",
       "</tr> </tbody>\n",
       "</table>\n",
       "<div class=\"mobile_show_block scrollable_hint\">Scroll for More ►</div>\n",
       "</div> <div class=\"in back_light\"> </div> </div> </div>\n",
       "<div class=\"clear\"></div> </div>\n",
       "</div> <div class=\"contain_out\">\n",
       "<div class=\"contain_in\">\n",
       "<div class=\"content_100 center\">\n",
       "<script async=\"\" src=\"//pagead2.googlesyndication.com/pagead/js/adsbygoogle.js\"></script>\n",
       "<ins class=\"adsbygoogle\" data-ad-client=\"ca-pub-7605721541969230\" data-ad-format=\"auto\" data-ad-slot=\"8455119541\" style=\"display:block\"></ins>\n",
       "<script>\n",
       "(adsbygoogle = window.adsbygoogle || []).push({});\n",
       "</script> </div>\n",
       "<div class=\"content_100\"></div>\n",
       "</div>\n",
       "</div>\n",
       "</div>\n",
       "</div>\n",
       "<div class=\"footer back_white shadow_box\">\n",
       "<div class=\"contain_out\">\n",
       "<div class=\"contain_in\">\n",
       "<div class=\"content_25\" style=\"margin-top:0;\">\n",
       "<div class=\"in\">\n",
       "<h3>Feedback</h3>\n",
       "<li><a class=\"text_blue\" href=\"feedback.php\">Contact Us</a></li>\n",
       "<li><a class=\"text_blue\" href=\"donate.php\">Donate</a></li>\n",
       "</div>\n",
       "</div>\n",
       "<div class=\"content_25\" style=\"margin-top:0;\">\n",
       "<div class=\"in\">\n",
       "<h3>Social</h3>\n",
       "<li><a href=\"http://facebook.com/HowLongToBeat/\">Facebook</a></li>\n",
       "<li><a href=\"http://twitter.com/HowLongToBeat/\">Twitter</a></li>\n",
       "</div>\n",
       "</div>\n",
       "<div class=\"content_50\" style=\"margin-top:0;\">\n",
       "<div class=\"in\">\n",
       "<h3>\n",
       "©\n",
       "<script type=\"text/javascript\">\n",
       "\t\t\t\t                    var theDate=new Date();\n",
       "\t\t\t\t                    document.write(theDate.getFullYear());\n",
       "\t\t\t\t                </script>\n",
       "HowLongToBeat.com\n",
       "</h3>\n",
       "<li><a href=\"privacy.php\">Privacy Policy &amp; Cookies</a></li>\n",
       "<li>Powered By Wind, Built With Love</li>\n",
       "</div>\n",
       "</div>\n",
       "<div class=\"clear\"></div>\n",
       "</div>\n",
       "</div>\n",
       "</div>\n",
       "<script src=\"js/site_45.js\" type=\"text/javascript\"></script>\n",
       "</body>\n",
       "</html>"
      ]
     },
     "execution_count": 5,
     "metadata": {},
     "output_type": "execute_result"
    }
   ],
   "source": [
    "html"
   ]
  },
  {
   "cell_type": "code",
   "execution_count": 12,
   "metadata": {},
   "outputs": [],
   "source": [
    "import re"
   ]
  },
  {
   "cell_type": "code",
   "execution_count": 9,
   "metadata": {},
   "outputs": [],
   "source": [
    "#Tiempos\n",
    "tiempos = html.find_all('li', {'class':'short time_100','class':'short time_60'})"
   ]
  },
  {
   "cell_type": "code",
   "execution_count": 19,
   "metadata": {},
   "outputs": [],
   "source": [
    "tiempos = html.find_all('li',class_=re.compile(\"short time_\"))"
   ]
  },
  {
   "cell_type": "code",
   "execution_count": 23,
   "metadata": {},
   "outputs": [
    {
     "data": {
      "text/plain": [
       "<li class=\"short time_60\">\n",
       "<h5>Completionist</h5>\n",
       "<div>175 Hours </div>\n",
       "</li>"
      ]
     },
     "execution_count": 23,
     "metadata": {},
     "output_type": "execute_result"
    }
   ],
   "source": [
    "#Vemos como quedó\n",
    "tiempos[2]"
   ]
  },
  {
   "cell_type": "code",
   "execution_count": 71,
   "metadata": {},
   "outputs": [
    {
     "ename": "IndexError",
     "evalue": "list index out of range",
     "output_type": "error",
     "traceback": [
      "\u001b[1;31m---------------------------------------------------------------------------\u001b[0m",
      "\u001b[1;31mIndexError\u001b[0m                                Traceback (most recent call last)",
      "\u001b[1;32m<ipython-input-71-effc113db589>\u001b[0m in \u001b[0;36m<module>\u001b[1;34m()\u001b[0m\n\u001b[0;32m      2\u001b[0m \u001b[0mtimes\u001b[0m \u001b[1;33m=\u001b[0m \u001b[1;33m[\u001b[0m\u001b[1;33m]\u001b[0m\u001b[1;33m\u001b[0m\u001b[0m\n\u001b[0;32m      3\u001b[0m \u001b[1;32mfor\u001b[0m \u001b[0mi\u001b[0m \u001b[1;32min\u001b[0m \u001b[0mrange\u001b[0m\u001b[1;33m(\u001b[0m\u001b[1;36m4\u001b[0m\u001b[1;33m)\u001b[0m\u001b[1;33m:\u001b[0m\u001b[1;33m\u001b[0m\u001b[0m\n\u001b[1;32m----> 4\u001b[1;33m     \u001b[0mx\u001b[0m \u001b[1;33m=\u001b[0m \u001b[0mtiempos\u001b[0m\u001b[1;33m[\u001b[0m\u001b[0mi\u001b[0m\u001b[1;33m]\u001b[0m\u001b[1;33m.\u001b[0m\u001b[0mselect\u001b[0m\u001b[1;33m(\u001b[0m\u001b[1;34m'div'\u001b[0m\u001b[1;33m)\u001b[0m\u001b[1;33m\u001b[0m\u001b[0m\n\u001b[0m\u001b[0;32m      5\u001b[0m     \u001b[0mx\u001b[0m \u001b[1;33m=\u001b[0m \u001b[0mstr\u001b[0m\u001b[1;33m(\u001b[0m\u001b[0mx\u001b[0m\u001b[1;33m[\u001b[0m\u001b[1;36m0\u001b[0m\u001b[1;33m]\u001b[0m\u001b[1;33m)\u001b[0m\u001b[1;33m\u001b[0m\u001b[0m\n\u001b[0;32m      6\u001b[0m     \u001b[0mx\u001b[0m \u001b[1;33m=\u001b[0m \u001b[0mx\u001b[0m\u001b[1;33m.\u001b[0m\u001b[0mreplace\u001b[0m\u001b[1;33m(\u001b[0m\u001b[1;34m'<div>'\u001b[0m\u001b[1;33m,\u001b[0m \u001b[1;34m''\u001b[0m\u001b[1;33m)\u001b[0m\u001b[1;33m\u001b[0m\u001b[0m\n",
      "\u001b[1;31mIndexError\u001b[0m: list index out of range"
     ]
    }
   ],
   "source": [
    "#Descompongo cada uno de los tiempos\n",
    "times = []\n",
    "for i in range(4):\n",
    "    x = tiempos[i].select('div')\n",
    "    x = str(x[0])\n",
    "    x = x.replace('<div>', '')\n",
    "    x = x.replace('</div>','')\n",
    "    x = x.rstrip()\n",
    "    times.append(x)"
   ]
  },
  {
   "cell_type": "code",
   "execution_count": 25,
   "metadata": {},
   "outputs": [
    {
     "data": {
      "text/plain": [
       "['175 Hours']"
      ]
     },
     "execution_count": 25,
     "metadata": {},
     "output_type": "execute_result"
    }
   ],
   "source": [
    "times"
   ]
  },
  {
   "cell_type": "code",
   "execution_count": 19,
   "metadata": {},
   "outputs": [
    {
     "data": {
      "text/plain": [
       "{'All Styles': '102 Hours',\n",
       " 'Completionist': '171 Hours',\n",
       " 'Main + Extras': '103 Hours',\n",
       " 'Main Story': '49½ Hours'}"
      ]
     },
     "execution_count": 19,
     "metadata": {},
     "output_type": "execute_result"
    }
   ],
   "source": [
    "# Creo un diccionario con la clave de cada tiempo\n",
    "times_dict = {'Main Story': times[0],\n",
    "              'Main + Extras' : times[1],\n",
    "              'Completionist' : times[2],\n",
    "              'All Styles' : times[3]}\n",
    "times_dict"
   ]
  },
  {
   "cell_type": "markdown",
   "metadata": {},
   "source": [
    "## Informacion adicional del juego"
   ]
  },
  {
   "cell_type": "code",
   "execution_count": 20,
   "metadata": {},
   "outputs": [],
   "source": [
    "# Info del juego\n",
    "prof = html.find_all('div', {'class':'profile_info'})"
   ]
  },
  {
   "cell_type": "markdown",
   "metadata": {},
   "source": [
    "Podemos acceder a cada uno de los elementos loopeando sobre el objeto prof. Por otro lado, mediante el atributo contents y el indice 2, podemos obtener el texto que estamos buscando para cada uno de los atributos del juego"
   ]
  },
  {
   "cell_type": "code",
   "execution_count": 44,
   "metadata": {},
   "outputs": [],
   "source": [
    "#Creo un diccionario con la info\n",
    "info_dict = {'Developer'   : prof[0].contents[2].replace('\\n','').rstrip(),\n",
    "             'Publishers'  : prof[1].contents[2].replace('\\n','').rstrip(),\n",
    "             'Playable On' : prof[2].contents[2].replace('\\n','').rstrip(),\n",
    "             'Genres'      : prof[3].contents[2].replace('\\n','').rstrip()}"
   ]
  },
  {
   "cell_type": "code",
   "execution_count": 46,
   "metadata": {},
   "outputs": [
    {
     "data": {
      "text/plain": [
       "{'Developer': 'CD Projekt RED',\n",
       " 'Genres': 'Third-Person, Action, Adventure, Open World, Role-Playing',\n",
       " 'Playable On': 'Linux, PC, PlayStation 4, Xbox One',\n",
       " 'Publishers': 'CD Projekt, Warner Bros. Interactive Entertainment'}"
      ]
     },
     "execution_count": 46,
     "metadata": {},
     "output_type": "execute_result"
    }
   ],
   "source": [
    "info_dict"
   ]
  },
  {
   "cell_type": "code",
   "execution_count": 47,
   "metadata": {},
   "outputs": [
    {
     "data": {
      "text/plain": [
       "{'All Styles': '102 Hours',\n",
       " 'Completionist': '171 Hours',\n",
       " 'Developer': 'CD Projekt RED',\n",
       " 'Genres': 'Third-Person, Action, Adventure, Open World, Role-Playing',\n",
       " 'Main + Extras': '103 Hours',\n",
       " 'Main Story': '49½ Hours',\n",
       " 'Playable On': 'Linux, PC, PlayStation 4, Xbox One',\n",
       " 'Publishers': 'CD Projekt, Warner Bros. Interactive Entertainment',\n",
       " 'Rating': '96',\n",
       " 'Titulo': 'The Witcher 3: Wild Hunt'}"
      ]
     },
     "execution_count": 47,
     "metadata": {},
     "output_type": "execute_result"
    }
   ],
   "source": [
    "#Para juntar los diccionarios\n",
    "\n",
    "{**titulo_dict, **rating_dict, **times_dict, **info_dict}"
   ]
  },
  {
   "cell_type": "code",
   "execution_count": null,
   "metadata": {},
   "outputs": [],
   "source": []
  },
  {
   "cell_type": "code",
   "execution_count": null,
   "metadata": {},
   "outputs": [],
   "source": []
  },
  {
   "cell_type": "code",
   "execution_count": 207,
   "metadata": {},
   "outputs": [
    {
     "data": {
      "text/plain": [
       "<div class=\"profile_info\">\n",
       "<strong>\n",
       "Genres:\n",
       "</strong>\n",
       "Third-Person, Action, Adventure, Open World, Role-Playing </div>"
      ]
     },
     "execution_count": 207,
     "metadata": {},
     "output_type": "execute_result"
    }
   ],
   "source": [
    "# Creo un diccionario con la info\n",
    "keys = ['Developer', 'Publishers', 'Playable On', 'Genres']\n",
    "info_dict = {}\n",
    "\n",
    "for i in range(4):\n",
    "    prof[i].contents[2]\n",
    "prof[0] ## Developer\n",
    "prof[1] ## Publishers\n",
    "prof[2] ## Playable On\n",
    "prof[3] ##Genres"
   ]
  },
  {
   "cell_type": "code",
   "execution_count": 3,
   "metadata": {},
   "outputs": [],
   "source": [
    "#Raw HTML\n",
    "raw_html = simple_get('https://howlongtobeat.com/game.php?id=55358')"
   ]
  },
  {
   "cell_type": "code",
   "execution_count": 4,
   "metadata": {},
   "outputs": [],
   "source": [
    "#Paso el request a un objeto de BeatifulSoup\n",
    "html = BeautifulSoup(raw_html, 'html.parser')"
   ]
  }
 ],
 "metadata": {
  "kernelspec": {
   "display_name": "Python 3",
   "language": "python",
   "name": "python3"
  },
  "language_info": {
   "codemirror_mode": {
    "name": "ipython",
    "version": 3
   },
   "file_extension": ".py",
   "mimetype": "text/x-python",
   "name": "python",
   "nbconvert_exporter": "python",
   "pygments_lexer": "ipython3",
   "version": "3.7.0"
  }
 },
 "nbformat": 4,
 "nbformat_minor": 2
}
